{
 "cells": [
  {
   "cell_type": "code",
   "execution_count": 244,
   "id": "8afa8a2e",
   "metadata": {},
   "outputs": [
    {
     "data": {
      "text/html": [
       "<style>.container { width:90% !important; }</style>"
      ],
      "text/plain": [
       "<IPython.core.display.HTML object>"
      ]
     },
     "metadata": {},
     "output_type": "display_data"
    },
    {
     "data": {
      "application/javascript": [
       "\n",
       "            setTimeout(function() {\n",
       "                var nbb_cell_id = 244;\n",
       "                var nbb_unformatted_code = \"from IPython.display import display, HTML\\n\\ndisplay(HTML(\\\"<style>.container { width:90% !important; }</style>\\\"))\";\n",
       "                var nbb_formatted_code = \"from IPython.display import display, HTML\\n\\ndisplay(HTML(\\\"<style>.container { width:90% !important; }</style>\\\"))\";\n",
       "                var nbb_cells = Jupyter.notebook.get_cells();\n",
       "                for (var i = 0; i < nbb_cells.length; ++i) {\n",
       "                    if (nbb_cells[i].input_prompt_number == nbb_cell_id) {\n",
       "                        if (nbb_cells[i].get_text() == nbb_unformatted_code) {\n",
       "                             nbb_cells[i].set_text(nbb_formatted_code);\n",
       "                        }\n",
       "                        break;\n",
       "                    }\n",
       "                }\n",
       "            }, 500);\n",
       "            "
      ],
      "text/plain": [
       "<IPython.core.display.Javascript object>"
      ]
     },
     "metadata": {},
     "output_type": "display_data"
    }
   ],
   "source": [
    "from IPython.display import display, HTML\n",
    "\n",
    "display(HTML(\"<style>.container { width:90% !important; }</style>\"))"
   ]
  },
  {
   "cell_type": "code",
   "execution_count": 245,
   "id": "5d9ee777",
   "metadata": {},
   "outputs": [
    {
     "name": "stdout",
     "output_type": "stream",
     "text": [
      "The nb_black extension is already loaded. To reload it, use:\n",
      "  %reload_ext nb_black\n"
     ]
    },
    {
     "data": {
      "application/javascript": [
       "\n",
       "            setTimeout(function() {\n",
       "                var nbb_cell_id = 245;\n",
       "                var nbb_unformatted_code = \"%load_ext nb_black\";\n",
       "                var nbb_formatted_code = \"%load_ext nb_black\";\n",
       "                var nbb_cells = Jupyter.notebook.get_cells();\n",
       "                for (var i = 0; i < nbb_cells.length; ++i) {\n",
       "                    if (nbb_cells[i].input_prompt_number == nbb_cell_id) {\n",
       "                        if (nbb_cells[i].get_text() == nbb_unformatted_code) {\n",
       "                             nbb_cells[i].set_text(nbb_formatted_code);\n",
       "                        }\n",
       "                        break;\n",
       "                    }\n",
       "                }\n",
       "            }, 500);\n",
       "            "
      ],
      "text/plain": [
       "<IPython.core.display.Javascript object>"
      ]
     },
     "metadata": {},
     "output_type": "display_data"
    }
   ],
   "source": [
    "%load_ext nb_black"
   ]
  },
  {
   "cell_type": "code",
   "execution_count": 246,
   "id": "8e789f8d",
   "metadata": {},
   "outputs": [
    {
     "data": {
      "application/javascript": [
       "\n",
       "            setTimeout(function() {\n",
       "                var nbb_cell_id = 246;\n",
       "                var nbb_unformatted_code = \"import joblib\\n\\nimport pandas as pd\\nimport seaborn as sns\";\n",
       "                var nbb_formatted_code = \"import joblib\\n\\nimport pandas as pd\\nimport seaborn as sns\";\n",
       "                var nbb_cells = Jupyter.notebook.get_cells();\n",
       "                for (var i = 0; i < nbb_cells.length; ++i) {\n",
       "                    if (nbb_cells[i].input_prompt_number == nbb_cell_id) {\n",
       "                        if (nbb_cells[i].get_text() == nbb_unformatted_code) {\n",
       "                             nbb_cells[i].set_text(nbb_formatted_code);\n",
       "                        }\n",
       "                        break;\n",
       "                    }\n",
       "                }\n",
       "            }, 500);\n",
       "            "
      ],
      "text/plain": [
       "<IPython.core.display.Javascript object>"
      ]
     },
     "metadata": {},
     "output_type": "display_data"
    }
   ],
   "source": [
    "import joblib\n",
    "\n",
    "import pandas as pd\n",
    "import seaborn as sns"
   ]
  },
  {
   "cell_type": "code",
   "execution_count": 247,
   "id": "fe942307",
   "metadata": {},
   "outputs": [
    {
     "data": {
      "application/javascript": [
       "\n",
       "            setTimeout(function() {\n",
       "                var nbb_cell_id = 247;\n",
       "                var nbb_unformatted_code = \"pd.set_option(\\\"display.float_format\\\", lambda x: \\\"%.3f\\\" % x)\\npd.set_option(\\\"display.max_columns\\\", 100)\";\n",
       "                var nbb_formatted_code = \"pd.set_option(\\\"display.float_format\\\", lambda x: \\\"%.3f\\\" % x)\\npd.set_option(\\\"display.max_columns\\\", 100)\";\n",
       "                var nbb_cells = Jupyter.notebook.get_cells();\n",
       "                for (var i = 0; i < nbb_cells.length; ++i) {\n",
       "                    if (nbb_cells[i].input_prompt_number == nbb_cell_id) {\n",
       "                        if (nbb_cells[i].get_text() == nbb_unformatted_code) {\n",
       "                             nbb_cells[i].set_text(nbb_formatted_code);\n",
       "                        }\n",
       "                        break;\n",
       "                    }\n",
       "                }\n",
       "            }, 500);\n",
       "            "
      ],
      "text/plain": [
       "<IPython.core.display.Javascript object>"
      ]
     },
     "metadata": {},
     "output_type": "display_data"
    }
   ],
   "source": [
    "pd.set_option(\"display.float_format\", lambda x: \"%.3f\" % x)\n",
    "pd.set_option(\"display.max_columns\", 100)"
   ]
  },
  {
   "cell_type": "code",
   "execution_count": 248,
   "id": "8a30f1ff",
   "metadata": {},
   "outputs": [
    {
     "data": {
      "application/javascript": [
       "\n",
       "            setTimeout(function() {\n",
       "                var nbb_cell_id = 248;\n",
       "                var nbb_unformatted_code = \"clean_ = joblib.load(\\\"data/clean_exe_files_features.gz\\\")\";\n",
       "                var nbb_formatted_code = \"clean_ = joblib.load(\\\"data/clean_exe_files_features.gz\\\")\";\n",
       "                var nbb_cells = Jupyter.notebook.get_cells();\n",
       "                for (var i = 0; i < nbb_cells.length; ++i) {\n",
       "                    if (nbb_cells[i].input_prompt_number == nbb_cell_id) {\n",
       "                        if (nbb_cells[i].get_text() == nbb_unformatted_code) {\n",
       "                             nbb_cells[i].set_text(nbb_formatted_code);\n",
       "                        }\n",
       "                        break;\n",
       "                    }\n",
       "                }\n",
       "            }, 500);\n",
       "            "
      ],
      "text/plain": [
       "<IPython.core.display.Javascript object>"
      ]
     },
     "metadata": {},
     "output_type": "display_data"
    }
   ],
   "source": [
    "clean_ = joblib.load(\"data/clean_exe_files_features.gz\")"
   ]
  },
  {
   "cell_type": "code",
   "execution_count": 249,
   "id": "fc567aaf",
   "metadata": {},
   "outputs": [
    {
     "data": {
      "application/javascript": [
       "\n",
       "            setTimeout(function() {\n",
       "                var nbb_cell_id = 249;\n",
       "                var nbb_unformatted_code = \"infected_ = joblib.load(\\\"data/infected_exe_files_features.gz\\\")\";\n",
       "                var nbb_formatted_code = \"infected_ = joblib.load(\\\"data/infected_exe_files_features.gz\\\")\";\n",
       "                var nbb_cells = Jupyter.notebook.get_cells();\n",
       "                for (var i = 0; i < nbb_cells.length; ++i) {\n",
       "                    if (nbb_cells[i].input_prompt_number == nbb_cell_id) {\n",
       "                        if (nbb_cells[i].get_text() == nbb_unformatted_code) {\n",
       "                             nbb_cells[i].set_text(nbb_formatted_code);\n",
       "                        }\n",
       "                        break;\n",
       "                    }\n",
       "                }\n",
       "            }, 500);\n",
       "            "
      ],
      "text/plain": [
       "<IPython.core.display.Javascript object>"
      ]
     },
     "metadata": {},
     "output_type": "display_data"
    }
   ],
   "source": [
    "infected_ = joblib.load(\"data/infected_exe_files_features.gz\")"
   ]
  },
  {
   "cell_type": "code",
   "execution_count": 250,
   "id": "d455c62c",
   "metadata": {},
   "outputs": [
    {
     "data": {
      "application/javascript": [
       "\n",
       "            setTimeout(function() {\n",
       "                var nbb_cell_id = 250;\n",
       "                var nbb_unformatted_code = \"cln = pd.DataFrame(clean_)\";\n",
       "                var nbb_formatted_code = \"cln = pd.DataFrame(clean_)\";\n",
       "                var nbb_cells = Jupyter.notebook.get_cells();\n",
       "                for (var i = 0; i < nbb_cells.length; ++i) {\n",
       "                    if (nbb_cells[i].input_prompt_number == nbb_cell_id) {\n",
       "                        if (nbb_cells[i].get_text() == nbb_unformatted_code) {\n",
       "                             nbb_cells[i].set_text(nbb_formatted_code);\n",
       "                        }\n",
       "                        break;\n",
       "                    }\n",
       "                }\n",
       "            }, 500);\n",
       "            "
      ],
      "text/plain": [
       "<IPython.core.display.Javascript object>"
      ]
     },
     "metadata": {},
     "output_type": "display_data"
    }
   ],
   "source": [
    "cln = pd.DataFrame(clean_)"
   ]
  },
  {
   "cell_type": "code",
   "execution_count": 251,
   "id": "f1d1beb1",
   "metadata": {},
   "outputs": [
    {
     "data": {
      "application/javascript": [
       "\n",
       "            setTimeout(function() {\n",
       "                var nbb_cell_id = 251;\n",
       "                var nbb_unformatted_code = \"inf = pd.DataFrame(infected_)\";\n",
       "                var nbb_formatted_code = \"inf = pd.DataFrame(infected_)\";\n",
       "                var nbb_cells = Jupyter.notebook.get_cells();\n",
       "                for (var i = 0; i < nbb_cells.length; ++i) {\n",
       "                    if (nbb_cells[i].input_prompt_number == nbb_cell_id) {\n",
       "                        if (nbb_cells[i].get_text() == nbb_unformatted_code) {\n",
       "                             nbb_cells[i].set_text(nbb_formatted_code);\n",
       "                        }\n",
       "                        break;\n",
       "                    }\n",
       "                }\n",
       "            }, 500);\n",
       "            "
      ],
      "text/plain": [
       "<IPython.core.display.Javascript object>"
      ]
     },
     "metadata": {},
     "output_type": "display_data"
    }
   ],
   "source": [
    "inf = pd.DataFrame(infected_)"
   ]
  },
  {
   "cell_type": "code",
   "execution_count": 252,
   "id": "ee1402cd",
   "metadata": {},
   "outputs": [
    {
     "data": {
      "application/javascript": [
       "\n",
       "            setTimeout(function() {\n",
       "                var nbb_cell_id = 252;\n",
       "                var nbb_unformatted_code = \"cln_columns_90 = cln.loc[:, cln.notnull().mean() > 0.90].columns\";\n",
       "                var nbb_formatted_code = \"cln_columns_90 = cln.loc[:, cln.notnull().mean() > 0.90].columns\";\n",
       "                var nbb_cells = Jupyter.notebook.get_cells();\n",
       "                for (var i = 0; i < nbb_cells.length; ++i) {\n",
       "                    if (nbb_cells[i].input_prompt_number == nbb_cell_id) {\n",
       "                        if (nbb_cells[i].get_text() == nbb_unformatted_code) {\n",
       "                             nbb_cells[i].set_text(nbb_formatted_code);\n",
       "                        }\n",
       "                        break;\n",
       "                    }\n",
       "                }\n",
       "            }, 500);\n",
       "            "
      ],
      "text/plain": [
       "<IPython.core.display.Javascript object>"
      ]
     },
     "metadata": {},
     "output_type": "display_data"
    }
   ],
   "source": [
    "cln_columns_90 = cln.loc[:, cln.notnull().mean() > 0.90].columns"
   ]
  },
  {
   "cell_type": "code",
   "execution_count": 253,
   "id": "8a38f62f",
   "metadata": {},
   "outputs": [
    {
     "data": {
      "application/javascript": [
       "\n",
       "            setTimeout(function() {\n",
       "                var nbb_cell_id = 253;\n",
       "                var nbb_unformatted_code = \"inf_columns_90 = inf.loc[:, inf.notnull().mean() > 0.90].columns\";\n",
       "                var nbb_formatted_code = \"inf_columns_90 = inf.loc[:, inf.notnull().mean() > 0.90].columns\";\n",
       "                var nbb_cells = Jupyter.notebook.get_cells();\n",
       "                for (var i = 0; i < nbb_cells.length; ++i) {\n",
       "                    if (nbb_cells[i].input_prompt_number == nbb_cell_id) {\n",
       "                        if (nbb_cells[i].get_text() == nbb_unformatted_code) {\n",
       "                             nbb_cells[i].set_text(nbb_formatted_code);\n",
       "                        }\n",
       "                        break;\n",
       "                    }\n",
       "                }\n",
       "            }, 500);\n",
       "            "
      ],
      "text/plain": [
       "<IPython.core.display.Javascript object>"
      ]
     },
     "metadata": {},
     "output_type": "display_data"
    }
   ],
   "source": [
    "inf_columns_90 = inf.loc[:, inf.notnull().mean() > 0.90].columns"
   ]
  },
  {
   "cell_type": "code",
   "execution_count": 254,
   "id": "943cadce",
   "metadata": {},
   "outputs": [
    {
     "data": {
      "text/plain": [
       "(55, 55, 55)"
      ]
     },
     "execution_count": 254,
     "metadata": {},
     "output_type": "execute_result"
    },
    {
     "data": {
      "application/javascript": [
       "\n",
       "            setTimeout(function() {\n",
       "                var nbb_cell_id = 254;\n",
       "                var nbb_unformatted_code = \"len(cln_columns_90), len(inf_columns_90), len(\\n    set(cln_columns_90).intersection(set(inf_columns_90))\\n)\";\n",
       "                var nbb_formatted_code = \"len(cln_columns_90), len(inf_columns_90), len(\\n    set(cln_columns_90).intersection(set(inf_columns_90))\\n)\";\n",
       "                var nbb_cells = Jupyter.notebook.get_cells();\n",
       "                for (var i = 0; i < nbb_cells.length; ++i) {\n",
       "                    if (nbb_cells[i].input_prompt_number == nbb_cell_id) {\n",
       "                        if (nbb_cells[i].get_text() == nbb_unformatted_code) {\n",
       "                             nbb_cells[i].set_text(nbb_formatted_code);\n",
       "                        }\n",
       "                        break;\n",
       "                    }\n",
       "                }\n",
       "            }, 500);\n",
       "            "
      ],
      "text/plain": [
       "<IPython.core.display.Javascript object>"
      ]
     },
     "metadata": {},
     "output_type": "display_data"
    }
   ],
   "source": [
    "len(cln_columns_90), len(inf_columns_90), len(\n",
    "    set(cln_columns_90).intersection(set(inf_columns_90))\n",
    ")"
   ]
  },
  {
   "cell_type": "code",
   "execution_count": 255,
   "id": "5ba0d5ed",
   "metadata": {},
   "outputs": [
    {
     "data": {
      "application/javascript": [
       "\n",
       "            setTimeout(function() {\n",
       "                var nbb_cell_id = 255;\n",
       "                var nbb_unformatted_code = \"columns = list(set(cln_columns_90).intersection(set(inf_columns_90)))\";\n",
       "                var nbb_formatted_code = \"columns = list(set(cln_columns_90).intersection(set(inf_columns_90)))\";\n",
       "                var nbb_cells = Jupyter.notebook.get_cells();\n",
       "                for (var i = 0; i < nbb_cells.length; ++i) {\n",
       "                    if (nbb_cells[i].input_prompt_number == nbb_cell_id) {\n",
       "                        if (nbb_cells[i].get_text() == nbb_unformatted_code) {\n",
       "                             nbb_cells[i].set_text(nbb_formatted_code);\n",
       "                        }\n",
       "                        break;\n",
       "                    }\n",
       "                }\n",
       "            }, 500);\n",
       "            "
      ],
      "text/plain": [
       "<IPython.core.display.Javascript object>"
      ]
     },
     "metadata": {},
     "output_type": "display_data"
    }
   ],
   "source": [
    "columns = list(set(cln_columns_90).intersection(set(inf_columns_90)))"
   ]
  },
  {
   "cell_type": "markdown",
   "id": "e84e4f89",
   "metadata": {},
   "source": [
    "## Add target columns"
   ]
  },
  {
   "cell_type": "code",
   "execution_count": 256,
   "id": "a29a15f0",
   "metadata": {},
   "outputs": [
    {
     "data": {
      "application/javascript": [
       "\n",
       "            setTimeout(function() {\n",
       "                var nbb_cell_id = 256;\n",
       "                var nbb_unformatted_code = \"cln[\\\"target\\\"] = 0\\ninf[\\\"target\\\"] = 1\";\n",
       "                var nbb_formatted_code = \"cln[\\\"target\\\"] = 0\\ninf[\\\"target\\\"] = 1\";\n",
       "                var nbb_cells = Jupyter.notebook.get_cells();\n",
       "                for (var i = 0; i < nbb_cells.length; ++i) {\n",
       "                    if (nbb_cells[i].input_prompt_number == nbb_cell_id) {\n",
       "                        if (nbb_cells[i].get_text() == nbb_unformatted_code) {\n",
       "                             nbb_cells[i].set_text(nbb_formatted_code);\n",
       "                        }\n",
       "                        break;\n",
       "                    }\n",
       "                }\n",
       "            }, 500);\n",
       "            "
      ],
      "text/plain": [
       "<IPython.core.display.Javascript object>"
      ]
     },
     "metadata": {},
     "output_type": "display_data"
    }
   ],
   "source": [
    "cln[\"target\"] = 0\n",
    "inf[\"target\"] = 1"
   ]
  },
  {
   "cell_type": "markdown",
   "id": "a89e92a3",
   "metadata": {},
   "source": [
    "## We selected 55 columns out of generated features\n",
    "\n"
   ]
  },
  {
   "cell_type": "code",
   "execution_count": 257,
   "id": "58a4bd43",
   "metadata": {},
   "outputs": [
    {
     "data": {
      "application/javascript": [
       "\n",
       "            setTimeout(function() {\n",
       "                var nbb_cell_id = 257;\n",
       "                var nbb_unformatted_code = \"df = pd.concat([cln[columns + [\\\"target\\\"]], inf[columns + [\\\"target\\\"]]])\";\n",
       "                var nbb_formatted_code = \"df = pd.concat([cln[columns + [\\\"target\\\"]], inf[columns + [\\\"target\\\"]]])\";\n",
       "                var nbb_cells = Jupyter.notebook.get_cells();\n",
       "                for (var i = 0; i < nbb_cells.length; ++i) {\n",
       "                    if (nbb_cells[i].input_prompt_number == nbb_cell_id) {\n",
       "                        if (nbb_cells[i].get_text() == nbb_unformatted_code) {\n",
       "                             nbb_cells[i].set_text(nbb_formatted_code);\n",
       "                        }\n",
       "                        break;\n",
       "                    }\n",
       "                }\n",
       "            }, 500);\n",
       "            "
      ],
      "text/plain": [
       "<IPython.core.display.Javascript object>"
      ]
     },
     "metadata": {},
     "output_type": "display_data"
    }
   ],
   "source": [
    "df = pd.concat([cln[columns + [\"target\"]], inf[columns + [\"target\"]]])"
   ]
  },
  {
   "cell_type": "markdown",
   "id": "42c93408",
   "metadata": {},
   "source": [
    "## EDA - exploratory data analysis\n",
    "What has been done\n",
    "1. remove nan columns and rows. \n",
    "2. there are many columns that have very few unique values. \n",
    "    1. find most popular value percentage (can be translated into dummy variable) - for improvement.\n",
    "3. There are extreme values for some columns\n",
    "    1. drop max values \n",
    "    2. cap max values\n",
    "    \n",
    "    "
   ]
  },
  {
   "cell_type": "code",
   "execution_count": 258,
   "id": "2d9f1b5d",
   "metadata": {},
   "outputs": [
    {
     "data": {
      "application/javascript": [
       "\n",
       "            setTimeout(function() {\n",
       "                var nbb_cell_id = 258;\n",
       "                var nbb_unformatted_code = \"columns.remove(\\\"file_name\\\")\";\n",
       "                var nbb_formatted_code = \"columns.remove(\\\"file_name\\\")\";\n",
       "                var nbb_cells = Jupyter.notebook.get_cells();\n",
       "                for (var i = 0; i < nbb_cells.length; ++i) {\n",
       "                    if (nbb_cells[i].input_prompt_number == nbb_cell_id) {\n",
       "                        if (nbb_cells[i].get_text() == nbb_unformatted_code) {\n",
       "                             nbb_cells[i].set_text(nbb_formatted_code);\n",
       "                        }\n",
       "                        break;\n",
       "                    }\n",
       "                }\n",
       "            }, 500);\n",
       "            "
      ],
      "text/plain": [
       "<IPython.core.display.Javascript object>"
      ]
     },
     "metadata": {},
     "output_type": "display_data"
    }
   ],
   "source": [
    "columns.remove(\"file_name\")"
   ]
  },
  {
   "cell_type": "code",
   "execution_count": 259,
   "id": "f3ea1580",
   "metadata": {},
   "outputs": [
    {
     "data": {
      "application/javascript": [
       "\n",
       "            setTimeout(function() {\n",
       "                var nbb_cell_id = 259;\n",
       "                var nbb_unformatted_code = \"df.drop(\\\"file_name\\\", axis=1, inplace=True)\";\n",
       "                var nbb_formatted_code = \"df.drop(\\\"file_name\\\", axis=1, inplace=True)\";\n",
       "                var nbb_cells = Jupyter.notebook.get_cells();\n",
       "                for (var i = 0; i < nbb_cells.length; ++i) {\n",
       "                    if (nbb_cells[i].input_prompt_number == nbb_cell_id) {\n",
       "                        if (nbb_cells[i].get_text() == nbb_unformatted_code) {\n",
       "                             nbb_cells[i].set_text(nbb_formatted_code);\n",
       "                        }\n",
       "                        break;\n",
       "                    }\n",
       "                }\n",
       "            }, 500);\n",
       "            "
      ],
      "text/plain": [
       "<IPython.core.display.Javascript object>"
      ]
     },
     "metadata": {},
     "output_type": "display_data"
    }
   ],
   "source": [
    "df.drop(\"file_name\", axis=1, inplace=True)"
   ]
  },
  {
   "cell_type": "code",
   "execution_count": 260,
   "id": "ef2db48d",
   "metadata": {},
   "outputs": [
    {
     "data": {
      "application/javascript": [
       "\n",
       "            setTimeout(function() {\n",
       "                var nbb_cell_id = 260;\n",
       "                var nbb_unformatted_code = \"df = df.dropna()\";\n",
       "                var nbb_formatted_code = \"df = df.dropna()\";\n",
       "                var nbb_cells = Jupyter.notebook.get_cells();\n",
       "                for (var i = 0; i < nbb_cells.length; ++i) {\n",
       "                    if (nbb_cells[i].input_prompt_number == nbb_cell_id) {\n",
       "                        if (nbb_cells[i].get_text() == nbb_unformatted_code) {\n",
       "                             nbb_cells[i].set_text(nbb_formatted_code);\n",
       "                        }\n",
       "                        break;\n",
       "                    }\n",
       "                }\n",
       "            }, 500);\n",
       "            "
      ],
      "text/plain": [
       "<IPython.core.display.Javascript object>"
      ]
     },
     "metadata": {},
     "output_type": "display_data"
    }
   ],
   "source": [
    "df = df.dropna()"
   ]
  },
  {
   "cell_type": "code",
   "execution_count": 266,
   "id": "5995f463",
   "metadata": {},
   "outputs": [
    {
     "data": {
      "application/javascript": [
       "\n",
       "            setTimeout(function() {\n",
       "                var nbb_cell_id = 266;\n",
       "                var nbb_unformatted_code = \"df.to_csv(\\\"data/all_data.csv\\\", index=False)\";\n",
       "                var nbb_formatted_code = \"df.to_csv(\\\"data/all_data.csv\\\", index=False)\";\n",
       "                var nbb_cells = Jupyter.notebook.get_cells();\n",
       "                for (var i = 0; i < nbb_cells.length; ++i) {\n",
       "                    if (nbb_cells[i].input_prompt_number == nbb_cell_id) {\n",
       "                        if (nbb_cells[i].get_text() == nbb_unformatted_code) {\n",
       "                             nbb_cells[i].set_text(nbb_formatted_code);\n",
       "                        }\n",
       "                        break;\n",
       "                    }\n",
       "                }\n",
       "            }, 500);\n",
       "            "
      ],
      "text/plain": [
       "<IPython.core.display.Javascript object>"
      ]
     },
     "metadata": {},
     "output_type": "display_data"
    }
   ],
   "source": [
    "df.to_csv(\"data/all_data.csv\", index=False)"
   ]
  },
  {
   "cell_type": "code",
   "execution_count": 41,
   "id": "dc7bb048",
   "metadata": {},
   "outputs": [
    {
     "data": {
      "text/html": [
       "<div>\n",
       "<style scoped>\n",
       "    .dataframe tbody tr th:only-of-type {\n",
       "        vertical-align: middle;\n",
       "    }\n",
       "\n",
       "    .dataframe tbody tr th {\n",
       "        vertical-align: top;\n",
       "    }\n",
       "\n",
       "    .dataframe thead th {\n",
       "        text-align: right;\n",
       "    }\n",
       "</style>\n",
       "<table border=\"1\" class=\"dataframe\">\n",
       "  <thead>\n",
       "    <tr style=\"text-align: right;\">\n",
       "      <th></th>\n",
       "      <th>count</th>\n",
       "      <th>mean</th>\n",
       "      <th>std</th>\n",
       "      <th>min</th>\n",
       "      <th>1%</th>\n",
       "      <th>5%</th>\n",
       "      <th>25%</th>\n",
       "      <th>50%</th>\n",
       "      <th>75%</th>\n",
       "      <th>95%</th>\n",
       "      <th>99%</th>\n",
       "      <th>max</th>\n",
       "    </tr>\n",
       "  </thead>\n",
       "  <tbody>\n",
       "    <tr>\n",
       "      <th>generated_check_sum</th>\n",
       "      <td>16414.000</td>\n",
       "      <td>579890.495</td>\n",
       "      <td>597329.389</td>\n",
       "      <td>5455.000</td>\n",
       "      <td>30260.730</td>\n",
       "      <td>56973.150</td>\n",
       "      <td>181479.500</td>\n",
       "      <td>447378.500</td>\n",
       "      <td>745314.750</td>\n",
       "      <td>1704800.350</td>\n",
       "      <td>3260532.990</td>\n",
       "      <td>4291281.000</td>\n",
       "    </tr>\n",
       "    <tr>\n",
       "      <th>sec_rawptr_data</th>\n",
       "      <td>16414.000</td>\n",
       "      <td>181334.077</td>\n",
       "      <td>362184.612</td>\n",
       "      <td>0.000</td>\n",
       "      <td>0.000</td>\n",
       "      <td>0.000</td>\n",
       "      <td>0.000</td>\n",
       "      <td>36864.000</td>\n",
       "      <td>237568.000</td>\n",
       "      <td>641024.000</td>\n",
       "      <td>1998648.320</td>\n",
       "      <td>3941888.000</td>\n",
       "    </tr>\n",
       "    <tr>\n",
       "      <th>size_initdata</th>\n",
       "      <td>16414.000</td>\n",
       "      <td>1111162.241</td>\n",
       "      <td>48838713.552</td>\n",
       "      <td>0.000</td>\n",
       "      <td>1024.000</td>\n",
       "      <td>2048.000</td>\n",
       "      <td>8192.000</td>\n",
       "      <td>73728.000</td>\n",
       "      <td>214528.000</td>\n",
       "      <td>684032.000</td>\n",
       "      <td>2974520.320</td>\n",
       "      <td>4041874473.000</td>\n",
       "    </tr>\n",
       "    <tr>\n",
       "      <th>check_sum</th>\n",
       "      <td>16414.000</td>\n",
       "      <td>6361448.162</td>\n",
       "      <td>127266103.323</td>\n",
       "      <td>0.000</td>\n",
       "      <td>0.000</td>\n",
       "      <td>0.000</td>\n",
       "      <td>0.000</td>\n",
       "      <td>0.000</td>\n",
       "      <td>342414.250</td>\n",
       "      <td>1247521.250</td>\n",
       "      <td>3931308.010</td>\n",
       "      <td>4278190208.000</td>\n",
       "    </tr>\n",
       "    <tr>\n",
       "      <th>datadir_IMAGE_DIRECTORY_ENTRY_RESOURCE_size</th>\n",
       "      <td>16414.000</td>\n",
       "      <td>90022.797</td>\n",
       "      <td>227330.531</td>\n",
       "      <td>0.000</td>\n",
       "      <td>0.000</td>\n",
       "      <td>124.400</td>\n",
       "      <td>1544.000</td>\n",
       "      <td>16904.000</td>\n",
       "      <td>92249.000</td>\n",
       "      <td>372016.100</td>\n",
       "      <td>837580.000</td>\n",
       "      <td>8860672.000</td>\n",
       "    </tr>\n",
       "    <tr>\n",
       "      <th>pe_warnings</th>\n",
       "      <td>16414.000</td>\n",
       "      <td>0.236</td>\n",
       "      <td>0.424</td>\n",
       "      <td>0.000</td>\n",
       "      <td>0.000</td>\n",
       "      <td>0.000</td>\n",
       "      <td>0.000</td>\n",
       "      <td>0.000</td>\n",
       "      <td>0.000</td>\n",
       "      <td>1.000</td>\n",
       "      <td>1.000</td>\n",
       "      <td>1.000</td>\n",
       "    </tr>\n",
       "    <tr>\n",
       "      <th>pe_minorlink</th>\n",
       "      <td>16414.000</td>\n",
       "      <td>7.241</td>\n",
       "      <td>12.978</td>\n",
       "      <td>0.000</td>\n",
       "      <td>0.000</td>\n",
       "      <td>0.000</td>\n",
       "      <td>0.000</td>\n",
       "      <td>0.000</td>\n",
       "      <td>10.000</td>\n",
       "      <td>34.000</td>\n",
       "      <td>50.000</td>\n",
       "      <td>255.000</td>\n",
       "    </tr>\n",
       "    <tr>\n",
       "      <th>sec_rawsize_data</th>\n",
       "      <td>16414.000</td>\n",
       "      <td>18102.725</td>\n",
       "      <td>88130.802</td>\n",
       "      <td>0.000</td>\n",
       "      <td>0.000</td>\n",
       "      <td>0.000</td>\n",
       "      <td>0.000</td>\n",
       "      <td>1536.000</td>\n",
       "      <td>9728.000</td>\n",
       "      <td>76467.200</td>\n",
       "      <td>226816.000</td>\n",
       "      <td>3851776.000</td>\n",
       "    </tr>\n",
       "    <tr>\n",
       "      <th>debug_size</th>\n",
       "      <td>16414.000</td>\n",
       "      <td>13.902</td>\n",
       "      <td>52.025</td>\n",
       "      <td>0.000</td>\n",
       "      <td>0.000</td>\n",
       "      <td>0.000</td>\n",
       "      <td>0.000</td>\n",
       "      <td>0.000</td>\n",
       "      <td>28.000</td>\n",
       "      <td>84.000</td>\n",
       "      <td>84.000</td>\n",
       "      <td>4152.000</td>\n",
       "    </tr>\n",
       "    <tr>\n",
       "      <th>number_of_bound_import_symbols</th>\n",
       "      <td>16414.000</td>\n",
       "      <td>0.008</td>\n",
       "      <td>0.090</td>\n",
       "      <td>0.000</td>\n",
       "      <td>0.000</td>\n",
       "      <td>0.000</td>\n",
       "      <td>0.000</td>\n",
       "      <td>0.000</td>\n",
       "      <td>0.000</td>\n",
       "      <td>0.000</td>\n",
       "      <td>0.000</td>\n",
       "      <td>2.000</td>\n",
       "    </tr>\n",
       "    <tr>\n",
       "      <th>sec_entropy_reloc</th>\n",
       "      <td>16414.000</td>\n",
       "      <td>1.237</td>\n",
       "      <td>2.331</td>\n",
       "      <td>0.000</td>\n",
       "      <td>0.000</td>\n",
       "      <td>0.000</td>\n",
       "      <td>0.000</td>\n",
       "      <td>0.082</td>\n",
       "      <td>0.102</td>\n",
       "      <td>6.642</td>\n",
       "      <td>6.683</td>\n",
       "      <td>7.992</td>\n",
       "    </tr>\n",
       "    <tr>\n",
       "      <th>sec_vasize_text</th>\n",
       "      <td>16414.000</td>\n",
       "      <td>279960.620</td>\n",
       "      <td>527181.075</td>\n",
       "      <td>0.000</td>\n",
       "      <td>0.000</td>\n",
       "      <td>0.000</td>\n",
       "      <td>23628.000</td>\n",
       "      <td>139900.000</td>\n",
       "      <td>409304.000</td>\n",
       "      <td>912240.800</td>\n",
       "      <td>2062178.940</td>\n",
       "      <td>39981056.000</td>\n",
       "    </tr>\n",
       "    <tr>\n",
       "      <th>pe_majorlink</th>\n",
       "      <td>16414.000</td>\n",
       "      <td>14.233</td>\n",
       "      <td>17.166</td>\n",
       "      <td>0.000</td>\n",
       "      <td>2.000</td>\n",
       "      <td>2.000</td>\n",
       "      <td>6.000</td>\n",
       "      <td>8.000</td>\n",
       "      <td>14.000</td>\n",
       "      <td>48.000</td>\n",
       "      <td>80.000</td>\n",
       "      <td>255.000</td>\n",
       "    </tr>\n",
       "    <tr>\n",
       "      <th>sec_rawptr_rsrc</th>\n",
       "      <td>16414.000</td>\n",
       "      <td>363582.358</td>\n",
       "      <td>457448.330</td>\n",
       "      <td>0.000</td>\n",
       "      <td>0.000</td>\n",
       "      <td>6144.000</td>\n",
       "      <td>52224.000</td>\n",
       "      <td>254976.000</td>\n",
       "      <td>509440.000</td>\n",
       "      <td>1035110.400</td>\n",
       "      <td>2508738.560</td>\n",
       "      <td>4121088.000</td>\n",
       "    </tr>\n",
       "    <tr>\n",
       "      <th>pe_char</th>\n",
       "      <td>16414.000</td>\n",
       "      <td>3407.137</td>\n",
       "      <td>9217.107</td>\n",
       "      <td>2.000</td>\n",
       "      <td>34.000</td>\n",
       "      <td>34.000</td>\n",
       "      <td>258.000</td>\n",
       "      <td>259.000</td>\n",
       "      <td>271.000</td>\n",
       "      <td>33166.000</td>\n",
       "      <td>33167.000</td>\n",
       "      <td>49582.000</td>\n",
       "    </tr>\n",
       "    <tr>\n",
       "      <th>size_code</th>\n",
       "      <td>16414.000</td>\n",
       "      <td>342291.101</td>\n",
       "      <td>2176906.392</td>\n",
       "      <td>0.000</td>\n",
       "      <td>2626.560</td>\n",
       "      <td>8192.000</td>\n",
       "      <td>40960.000</td>\n",
       "      <td>201728.000</td>\n",
       "      <td>458752.000</td>\n",
       "      <td>942080.000</td>\n",
       "      <td>2236707.840</td>\n",
       "      <td>240483794.000</td>\n",
       "    </tr>\n",
       "    <tr>\n",
       "      <th>size_uninit</th>\n",
       "      <td>16414.000</td>\n",
       "      <td>64160.410</td>\n",
       "      <td>1941610.212</td>\n",
       "      <td>0.000</td>\n",
       "      <td>0.000</td>\n",
       "      <td>0.000</td>\n",
       "      <td>0.000</td>\n",
       "      <td>0.000</td>\n",
       "      <td>0.000</td>\n",
       "      <td>77824.000</td>\n",
       "      <td>561152.000</td>\n",
       "      <td>137035776.000</td>\n",
       "    </tr>\n",
       "    <tr>\n",
       "      <th>sec_vasize_rsrc</th>\n",
       "      <td>16414.000</td>\n",
       "      <td>89934.891</td>\n",
       "      <td>227390.612</td>\n",
       "      <td>0.000</td>\n",
       "      <td>0.000</td>\n",
       "      <td>16.000</td>\n",
       "      <td>1552.000</td>\n",
       "      <td>16896.000</td>\n",
       "      <td>91193.000</td>\n",
       "      <td>372058.800</td>\n",
       "      <td>837580.000</td>\n",
       "      <td>8863744.000</td>\n",
       "    </tr>\n",
       "    <tr>\n",
       "      <th>total_size_pe</th>\n",
       "      <td>16414.000</td>\n",
       "      <td>547016.334</td>\n",
       "      <td>597004.774</td>\n",
       "      <td>834.000</td>\n",
       "      <td>9648.260</td>\n",
       "      <td>26071.400</td>\n",
       "      <td>150692.000</td>\n",
       "      <td>416768.000</td>\n",
       "      <td>704973.500</td>\n",
       "      <td>1675065.050</td>\n",
       "      <td>3223542.510</td>\n",
       "      <td>4239088.000</td>\n",
       "    </tr>\n",
       "    <tr>\n",
       "      <th>sec_rawptr_text</th>\n",
       "      <td>16414.000</td>\n",
       "      <td>7289.360</td>\n",
       "      <td>60958.271</td>\n",
       "      <td>0.000</td>\n",
       "      <td>0.000</td>\n",
       "      <td>0.000</td>\n",
       "      <td>512.000</td>\n",
       "      <td>1024.000</td>\n",
       "      <td>4096.000</td>\n",
       "      <td>4096.000</td>\n",
       "      <td>276592.640</td>\n",
       "      <td>2816000.000</td>\n",
       "    </tr>\n",
       "    <tr>\n",
       "      <th>size_image</th>\n",
       "      <td>16414.000</td>\n",
       "      <td>836267.804</td>\n",
       "      <td>3757478.874</td>\n",
       "      <td>8192.000</td>\n",
       "      <td>28672.000</td>\n",
       "      <td>49152.000</td>\n",
       "      <td>172032.000</td>\n",
       "      <td>409600.000</td>\n",
       "      <td>716800.000</td>\n",
       "      <td>1953996.800</td>\n",
       "      <td>6138839.040</td>\n",
       "      <td>137502720.000</td>\n",
       "    </tr>\n",
       "    <tr>\n",
       "      <th>virtual_size</th>\n",
       "      <td>16414.000</td>\n",
       "      <td>371350.227</td>\n",
       "      <td>2005087.084</td>\n",
       "      <td>0.000</td>\n",
       "      <td>2929.000</td>\n",
       "      <td>6852.000</td>\n",
       "      <td>41894.000</td>\n",
       "      <td>205305.000</td>\n",
       "      <td>464004.000</td>\n",
       "      <td>1010444.200</td>\n",
       "      <td>2424352.040</td>\n",
       "      <td>137035776.000</td>\n",
       "    </tr>\n",
       "    <tr>\n",
       "      <th>sec_entropy_text</th>\n",
       "      <td>16414.000</td>\n",
       "      <td>5.696</td>\n",
       "      <td>2.176</td>\n",
       "      <td>0.000</td>\n",
       "      <td>0.000</td>\n",
       "      <td>0.000</td>\n",
       "      <td>5.423</td>\n",
       "      <td>6.368</td>\n",
       "      <td>6.673</td>\n",
       "      <td>7.902</td>\n",
       "      <td>7.974</td>\n",
       "      <td>8.000</td>\n",
       "    </tr>\n",
       "    <tr>\n",
       "      <th>std_section_names</th>\n",
       "      <td>16414.000</td>\n",
       "      <td>0.719</td>\n",
       "      <td>0.450</td>\n",
       "      <td>0.000</td>\n",
       "      <td>0.000</td>\n",
       "      <td>0.000</td>\n",
       "      <td>0.000</td>\n",
       "      <td>1.000</td>\n",
       "      <td>1.000</td>\n",
       "      <td>1.000</td>\n",
       "      <td>1.000</td>\n",
       "      <td>1.000</td>\n",
       "    </tr>\n",
       "    <tr>\n",
       "      <th>major_version</th>\n",
       "      <td>16414.000</td>\n",
       "      <td>10.248</td>\n",
       "      <td>440.379</td>\n",
       "      <td>0.000</td>\n",
       "      <td>0.000</td>\n",
       "      <td>0.000</td>\n",
       "      <td>0.000</td>\n",
       "      <td>0.000</td>\n",
       "      <td>0.000</td>\n",
       "      <td>6.000</td>\n",
       "      <td>10.000</td>\n",
       "      <td>21315.000</td>\n",
       "    </tr>\n",
       "    <tr>\n",
       "      <th>virtual_size_2</th>\n",
       "      <td>16414.000</td>\n",
       "      <td>130692.472</td>\n",
       "      <td>1755824.916</td>\n",
       "      <td>0.000</td>\n",
       "      <td>12.000</td>\n",
       "      <td>75.650</td>\n",
       "      <td>1592.000</td>\n",
       "      <td>7174.000</td>\n",
       "      <td>51943.000</td>\n",
       "      <td>229269.600</td>\n",
       "      <td>876237.200</td>\n",
       "      <td>49270652.000</td>\n",
       "    </tr>\n",
       "    <tr>\n",
       "      <th>sec_vasize_data</th>\n",
       "      <td>16414.000</td>\n",
       "      <td>258858.634</td>\n",
       "      <td>3077701.835</td>\n",
       "      <td>0.000</td>\n",
       "      <td>0.000</td>\n",
       "      <td>0.000</td>\n",
       "      <td>0.000</td>\n",
       "      <td>2816.000</td>\n",
       "      <td>25214.000</td>\n",
       "      <td>196076.200</td>\n",
       "      <td>2013603.200</td>\n",
       "      <td>93568008.000</td>\n",
       "    </tr>\n",
       "    <tr>\n",
       "      <th>number_of_imports</th>\n",
       "      <td>16414.000</td>\n",
       "      <td>6.117</td>\n",
       "      <td>6.983</td>\n",
       "      <td>0.000</td>\n",
       "      <td>0.000</td>\n",
       "      <td>1.000</td>\n",
       "      <td>1.000</td>\n",
       "      <td>4.000</td>\n",
       "      <td>9.000</td>\n",
       "      <td>17.000</td>\n",
       "      <td>31.000</td>\n",
       "      <td>149.000</td>\n",
       "    </tr>\n",
       "    <tr>\n",
       "      <th>sec_rawsize_text</th>\n",
       "      <td>16414.000</td>\n",
       "      <td>271039.107</td>\n",
       "      <td>385760.797</td>\n",
       "      <td>0.000</td>\n",
       "      <td>0.000</td>\n",
       "      <td>0.000</td>\n",
       "      <td>23680.000</td>\n",
       "      <td>136704.000</td>\n",
       "      <td>404864.000</td>\n",
       "      <td>898918.400</td>\n",
       "      <td>1987630.080</td>\n",
       "      <td>4116480.000</td>\n",
       "    </tr>\n",
       "    <tr>\n",
       "      <th>compile_date</th>\n",
       "      <td>16414.000</td>\n",
       "      <td>1509438666.190</td>\n",
       "      <td>534996687.405</td>\n",
       "      <td>0.000</td>\n",
       "      <td>0.000</td>\n",
       "      <td>708992537.000</td>\n",
       "      <td>1424566177.000</td>\n",
       "      <td>1589375749.500</td>\n",
       "      <td>1597946629.000</td>\n",
       "      <td>2206552518.050</td>\n",
       "      <td>3839103880.140</td>\n",
       "      <td>4293560584.000</td>\n",
       "    </tr>\n",
       "    <tr>\n",
       "      <th>file_size</th>\n",
       "      <td>16414.000</td>\n",
       "      <td>547016.334</td>\n",
       "      <td>597004.774</td>\n",
       "      <td>834.000</td>\n",
       "      <td>9648.260</td>\n",
       "      <td>26071.400</td>\n",
       "      <td>150692.000</td>\n",
       "      <td>416768.000</td>\n",
       "      <td>704973.500</td>\n",
       "      <td>1675065.050</td>\n",
       "      <td>3223542.510</td>\n",
       "      <td>4239088.000</td>\n",
       "    </tr>\n",
       "    <tr>\n",
       "      <th>iat_rva</th>\n",
       "      <td>16414.000</td>\n",
       "      <td>449157.957</td>\n",
       "      <td>2075817.971</td>\n",
       "      <td>0.000</td>\n",
       "      <td>9044.000</td>\n",
       "      <td>15329.200</td>\n",
       "      <td>74596.000</td>\n",
       "      <td>259648.000</td>\n",
       "      <td>507904.000</td>\n",
       "      <td>1170828.200</td>\n",
       "      <td>3189721.400</td>\n",
       "      <td>137499076.000</td>\n",
       "    </tr>\n",
       "    <tr>\n",
       "      <th>pe_dll</th>\n",
       "      <td>16414.000</td>\n",
       "      <td>0.047</td>\n",
       "      <td>0.211</td>\n",
       "      <td>0.000</td>\n",
       "      <td>0.000</td>\n",
       "      <td>0.000</td>\n",
       "      <td>0.000</td>\n",
       "      <td>0.000</td>\n",
       "      <td>0.000</td>\n",
       "      <td>0.000</td>\n",
       "      <td>1.000</td>\n",
       "      <td>1.000</td>\n",
       "    </tr>\n",
       "    <tr>\n",
       "      <th>datadir_IMAGE_DIRECTORY_ENTRY_EXPORT_size</th>\n",
       "      <td>16414.000</td>\n",
       "      <td>262.980</td>\n",
       "      <td>6048.200</td>\n",
       "      <td>0.000</td>\n",
       "      <td>0.000</td>\n",
       "      <td>0.000</td>\n",
       "      <td>0.000</td>\n",
       "      <td>0.000</td>\n",
       "      <td>0.000</td>\n",
       "      <td>87.000</td>\n",
       "      <td>1392.000</td>\n",
       "      <td>314181.000</td>\n",
       "    </tr>\n",
       "    <tr>\n",
       "      <th>datadir_IMAGE_DIRECTORY_ENTRY_BASERELOC_size</th>\n",
       "      <td>16414.000</td>\n",
       "      <td>3843.167</td>\n",
       "      <td>15016.879</td>\n",
       "      <td>0.000</td>\n",
       "      <td>0.000</td>\n",
       "      <td>0.000</td>\n",
       "      <td>0.000</td>\n",
       "      <td>12.000</td>\n",
       "      <td>32.000</td>\n",
       "      <td>28320.000</td>\n",
       "      <td>50772.000</td>\n",
       "      <td>610952.000</td>\n",
       "    </tr>\n",
       "    <tr>\n",
       "      <th>datadir_IMAGE_DIRECTORY_ENTRY_IAT_size</th>\n",
       "      <td>16414.000</td>\n",
       "      <td>565.858</td>\n",
       "      <td>825.409</td>\n",
       "      <td>0.000</td>\n",
       "      <td>0.000</td>\n",
       "      <td>0.000</td>\n",
       "      <td>8.000</td>\n",
       "      <td>332.000</td>\n",
       "      <td>824.000</td>\n",
       "      <td>2104.000</td>\n",
       "      <td>3080.000</td>\n",
       "      <td>26672.000</td>\n",
       "    </tr>\n",
       "    <tr>\n",
       "      <th>pe_driver</th>\n",
       "      <td>16414.000</td>\n",
       "      <td>0.001</td>\n",
       "      <td>0.027</td>\n",
       "      <td>0.000</td>\n",
       "      <td>0.000</td>\n",
       "      <td>0.000</td>\n",
       "      <td>0.000</td>\n",
       "      <td>0.000</td>\n",
       "      <td>0.000</td>\n",
       "      <td>0.000</td>\n",
       "      <td>0.000</td>\n",
       "      <td>1.000</td>\n",
       "    </tr>\n",
       "    <tr>\n",
       "      <th>number_of_export_symbols</th>\n",
       "      <td>16414.000</td>\n",
       "      <td>5.285</td>\n",
       "      <td>126.546</td>\n",
       "      <td>0.000</td>\n",
       "      <td>0.000</td>\n",
       "      <td>0.000</td>\n",
       "      <td>0.000</td>\n",
       "      <td>0.000</td>\n",
       "      <td>0.000</td>\n",
       "      <td>1.000</td>\n",
       "      <td>24.870</td>\n",
       "      <td>6633.000</td>\n",
       "    </tr>\n",
       "    <tr>\n",
       "      <th>number_of_rva_and_sizes</th>\n",
       "      <td>16414.000</td>\n",
       "      <td>15.996</td>\n",
       "      <td>0.072</td>\n",
       "      <td>14.000</td>\n",
       "      <td>16.000</td>\n",
       "      <td>16.000</td>\n",
       "      <td>16.000</td>\n",
       "      <td>16.000</td>\n",
       "      <td>16.000</td>\n",
       "      <td>16.000</td>\n",
       "      <td>16.000</td>\n",
       "      <td>16.000</td>\n",
       "    </tr>\n",
       "    <tr>\n",
       "      <th>sec_entropy_rsrc</th>\n",
       "      <td>16414.000</td>\n",
       "      <td>4.538</td>\n",
       "      <td>2.016</td>\n",
       "      <td>0.000</td>\n",
       "      <td>0.000</td>\n",
       "      <td>0.000</td>\n",
       "      <td>3.586</td>\n",
       "      <td>4.574</td>\n",
       "      <td>5.843</td>\n",
       "      <td>7.612</td>\n",
       "      <td>7.914</td>\n",
       "      <td>8.000</td>\n",
       "    </tr>\n",
       "    <tr>\n",
       "      <th>virtual_address</th>\n",
       "      <td>16414.000</td>\n",
       "      <td>5607.315</td>\n",
       "      <td>23183.855</td>\n",
       "      <td>576.000</td>\n",
       "      <td>4096.000</td>\n",
       "      <td>4096.000</td>\n",
       "      <td>4096.000</td>\n",
       "      <td>4096.000</td>\n",
       "      <td>8192.000</td>\n",
       "      <td>8192.000</td>\n",
       "      <td>8192.000</td>\n",
       "      <td>2097152.000</td>\n",
       "    </tr>\n",
       "    <tr>\n",
       "      <th>minor_version</th>\n",
       "      <td>16414.000</td>\n",
       "      <td>9.253</td>\n",
       "      <td>424.847</td>\n",
       "      <td>0.000</td>\n",
       "      <td>0.000</td>\n",
       "      <td>0.000</td>\n",
       "      <td>0.000</td>\n",
       "      <td>0.000</td>\n",
       "      <td>0.000</td>\n",
       "      <td>0.000</td>\n",
       "      <td>7.000</td>\n",
       "      <td>20512.000</td>\n",
       "    </tr>\n",
       "    <tr>\n",
       "      <th>sec_entropy_data</th>\n",
       "      <td>16414.000</td>\n",
       "      <td>2.000</td>\n",
       "      <td>2.274</td>\n",
       "      <td>0.000</td>\n",
       "      <td>0.000</td>\n",
       "      <td>0.000</td>\n",
       "      <td>0.000</td>\n",
       "      <td>0.990</td>\n",
       "      <td>3.936</td>\n",
       "      <td>6.234</td>\n",
       "      <td>7.734</td>\n",
       "      <td>8.000</td>\n",
       "    </tr>\n",
       "    <tr>\n",
       "      <th>sec_va_execsize</th>\n",
       "      <td>16414.000</td>\n",
       "      <td>824070.665</td>\n",
       "      <td>3952513.464</td>\n",
       "      <td>0.000</td>\n",
       "      <td>8493.470</td>\n",
       "      <td>24418.400</td>\n",
       "      <td>157332.750</td>\n",
       "      <td>388795.500</td>\n",
       "      <td>692571.000</td>\n",
       "      <td>1937131.750</td>\n",
       "      <td>6125120.780</td>\n",
       "      <td>160825344.000</td>\n",
       "    </tr>\n",
       "    <tr>\n",
       "      <th>number_of_import_symbols</th>\n",
       "      <td>16414.000</td>\n",
       "      <td>136.774</td>\n",
       "      <td>167.713</td>\n",
       "      <td>0.000</td>\n",
       "      <td>0.000</td>\n",
       "      <td>1.000</td>\n",
       "      <td>1.000</td>\n",
       "      <td>87.000</td>\n",
       "      <td>200.000</td>\n",
       "      <td>430.000</td>\n",
       "      <td>549.000</td>\n",
       "      <td>3314.000</td>\n",
       "    </tr>\n",
       "    <tr>\n",
       "      <th>number_of_sections</th>\n",
       "      <td>16414.000</td>\n",
       "      <td>4.697</td>\n",
       "      <td>2.233</td>\n",
       "      <td>1.000</td>\n",
       "      <td>3.000</td>\n",
       "      <td>3.000</td>\n",
       "      <td>3.000</td>\n",
       "      <td>4.000</td>\n",
       "      <td>6.000</td>\n",
       "      <td>9.000</td>\n",
       "      <td>13.000</td>\n",
       "      <td>20.000</td>\n",
       "    </tr>\n",
       "    <tr>\n",
       "      <th>number_of_bound_imports</th>\n",
       "      <td>16414.000</td>\n",
       "      <td>0.093</td>\n",
       "      <td>0.522</td>\n",
       "      <td>0.000</td>\n",
       "      <td>0.000</td>\n",
       "      <td>0.000</td>\n",
       "      <td>0.000</td>\n",
       "      <td>0.000</td>\n",
       "      <td>0.000</td>\n",
       "      <td>1.000</td>\n",
       "      <td>1.000</td>\n",
       "      <td>20.000</td>\n",
       "    </tr>\n",
       "    <tr>\n",
       "      <th>pe_exe</th>\n",
       "      <td>16414.000</td>\n",
       "      <td>0.952</td>\n",
       "      <td>0.213</td>\n",
       "      <td>0.000</td>\n",
       "      <td>0.000</td>\n",
       "      <td>1.000</td>\n",
       "      <td>1.000</td>\n",
       "      <td>1.000</td>\n",
       "      <td>1.000</td>\n",
       "      <td>1.000</td>\n",
       "      <td>1.000</td>\n",
       "      <td>1.000</td>\n",
       "    </tr>\n",
       "    <tr>\n",
       "      <th>pe_i386</th>\n",
       "      <td>16414.000</td>\n",
       "      <td>0.892</td>\n",
       "      <td>0.310</td>\n",
       "      <td>0.000</td>\n",
       "      <td>0.000</td>\n",
       "      <td>0.000</td>\n",
       "      <td>1.000</td>\n",
       "      <td>1.000</td>\n",
       "      <td>1.000</td>\n",
       "      <td>1.000</td>\n",
       "      <td>1.000</td>\n",
       "      <td>1.000</td>\n",
       "    </tr>\n",
       "    <tr>\n",
       "      <th>sec_raw_execsize</th>\n",
       "      <td>16414.000</td>\n",
       "      <td>477966.809</td>\n",
       "      <td>588146.650</td>\n",
       "      <td>512.000</td>\n",
       "      <td>9216.000</td>\n",
       "      <td>25088.000</td>\n",
       "      <td>106496.000</td>\n",
       "      <td>348160.000</td>\n",
       "      <td>641920.000</td>\n",
       "      <td>1298611.200</td>\n",
       "      <td>3000637.440</td>\n",
       "      <td>30654464.000</td>\n",
       "    </tr>\n",
       "    <tr>\n",
       "      <th>datadir_IMAGE_DIRECTORY_ENTRY_IMPORT_size</th>\n",
       "      <td>16414.000</td>\n",
       "      <td>1229.507</td>\n",
       "      <td>20043.862</td>\n",
       "      <td>0.000</td>\n",
       "      <td>40.000</td>\n",
       "      <td>40.000</td>\n",
       "      <td>79.000</td>\n",
       "      <td>140.000</td>\n",
       "      <td>260.000</td>\n",
       "      <td>8578.000</td>\n",
       "      <td>10297.480</td>\n",
       "      <td>2502656.000</td>\n",
       "    </tr>\n",
       "    <tr>\n",
       "      <th>sec_rawsize_rsrc</th>\n",
       "      <td>16414.000</td>\n",
       "      <td>89009.642</td>\n",
       "      <td>207549.524</td>\n",
       "      <td>0.000</td>\n",
       "      <td>0.000</td>\n",
       "      <td>512.000</td>\n",
       "      <td>2048.000</td>\n",
       "      <td>16896.000</td>\n",
       "      <td>91648.000</td>\n",
       "      <td>372224.000</td>\n",
       "      <td>839680.000</td>\n",
       "      <td>6451200.000</td>\n",
       "    </tr>\n",
       "    <tr>\n",
       "      <th>sec_entropy_rdata</th>\n",
       "      <td>16414.000</td>\n",
       "      <td>2.253</td>\n",
       "      <td>2.465</td>\n",
       "      <td>0.000</td>\n",
       "      <td>0.000</td>\n",
       "      <td>0.000</td>\n",
       "      <td>0.000</td>\n",
       "      <td>0.204</td>\n",
       "      <td>4.822</td>\n",
       "      <td>5.760</td>\n",
       "      <td>6.941</td>\n",
       "      <td>8.000</td>\n",
       "    </tr>\n",
       "    <tr>\n",
       "      <th>export_size</th>\n",
       "      <td>16414.000</td>\n",
       "      <td>262.980</td>\n",
       "      <td>6048.200</td>\n",
       "      <td>0.000</td>\n",
       "      <td>0.000</td>\n",
       "      <td>0.000</td>\n",
       "      <td>0.000</td>\n",
       "      <td>0.000</td>\n",
       "      <td>0.000</td>\n",
       "      <td>87.000</td>\n",
       "      <td>1392.000</td>\n",
       "      <td>314181.000</td>\n",
       "    </tr>\n",
       "    <tr>\n",
       "      <th>target</th>\n",
       "      <td>16414.000</td>\n",
       "      <td>0.845</td>\n",
       "      <td>0.362</td>\n",
       "      <td>0.000</td>\n",
       "      <td>0.000</td>\n",
       "      <td>0.000</td>\n",
       "      <td>1.000</td>\n",
       "      <td>1.000</td>\n",
       "      <td>1.000</td>\n",
       "      <td>1.000</td>\n",
       "      <td>1.000</td>\n",
       "      <td>1.000</td>\n",
       "    </tr>\n",
       "  </tbody>\n",
       "</table>\n",
       "</div>"
      ],
      "text/plain": [
       "                                                 count           mean  \\\n",
       "generated_check_sum                          16414.000     579890.495   \n",
       "sec_rawptr_data                              16414.000     181334.077   \n",
       "size_initdata                                16414.000    1111162.241   \n",
       "check_sum                                    16414.000    6361448.162   \n",
       "datadir_IMAGE_DIRECTORY_ENTRY_RESOURCE_size  16414.000      90022.797   \n",
       "pe_warnings                                  16414.000          0.236   \n",
       "pe_minorlink                                 16414.000          7.241   \n",
       "sec_rawsize_data                             16414.000      18102.725   \n",
       "debug_size                                   16414.000         13.902   \n",
       "number_of_bound_import_symbols               16414.000          0.008   \n",
       "sec_entropy_reloc                            16414.000          1.237   \n",
       "sec_vasize_text                              16414.000     279960.620   \n",
       "pe_majorlink                                 16414.000         14.233   \n",
       "sec_rawptr_rsrc                              16414.000     363582.358   \n",
       "pe_char                                      16414.000       3407.137   \n",
       "size_code                                    16414.000     342291.101   \n",
       "size_uninit                                  16414.000      64160.410   \n",
       "sec_vasize_rsrc                              16414.000      89934.891   \n",
       "total_size_pe                                16414.000     547016.334   \n",
       "sec_rawptr_text                              16414.000       7289.360   \n",
       "size_image                                   16414.000     836267.804   \n",
       "virtual_size                                 16414.000     371350.227   \n",
       "sec_entropy_text                             16414.000          5.696   \n",
       "std_section_names                            16414.000          0.719   \n",
       "major_version                                16414.000         10.248   \n",
       "virtual_size_2                               16414.000     130692.472   \n",
       "sec_vasize_data                              16414.000     258858.634   \n",
       "number_of_imports                            16414.000          6.117   \n",
       "sec_rawsize_text                             16414.000     271039.107   \n",
       "compile_date                                 16414.000 1509438666.190   \n",
       "file_size                                    16414.000     547016.334   \n",
       "iat_rva                                      16414.000     449157.957   \n",
       "pe_dll                                       16414.000          0.047   \n",
       "datadir_IMAGE_DIRECTORY_ENTRY_EXPORT_size    16414.000        262.980   \n",
       "datadir_IMAGE_DIRECTORY_ENTRY_BASERELOC_size 16414.000       3843.167   \n",
       "datadir_IMAGE_DIRECTORY_ENTRY_IAT_size       16414.000        565.858   \n",
       "pe_driver                                    16414.000          0.001   \n",
       "number_of_export_symbols                     16414.000          5.285   \n",
       "number_of_rva_and_sizes                      16414.000         15.996   \n",
       "sec_entropy_rsrc                             16414.000          4.538   \n",
       "virtual_address                              16414.000       5607.315   \n",
       "minor_version                                16414.000          9.253   \n",
       "sec_entropy_data                             16414.000          2.000   \n",
       "sec_va_execsize                              16414.000     824070.665   \n",
       "number_of_import_symbols                     16414.000        136.774   \n",
       "number_of_sections                           16414.000          4.697   \n",
       "number_of_bound_imports                      16414.000          0.093   \n",
       "pe_exe                                       16414.000          0.952   \n",
       "pe_i386                                      16414.000          0.892   \n",
       "sec_raw_execsize                             16414.000     477966.809   \n",
       "datadir_IMAGE_DIRECTORY_ENTRY_IMPORT_size    16414.000       1229.507   \n",
       "sec_rawsize_rsrc                             16414.000      89009.642   \n",
       "sec_entropy_rdata                            16414.000          2.253   \n",
       "export_size                                  16414.000        262.980   \n",
       "target                                       16414.000          0.845   \n",
       "\n",
       "                                                       std      min        1%  \\\n",
       "generated_check_sum                             597329.389 5455.000 30260.730   \n",
       "sec_rawptr_data                                 362184.612    0.000     0.000   \n",
       "size_initdata                                 48838713.552    0.000  1024.000   \n",
       "check_sum                                    127266103.323    0.000     0.000   \n",
       "datadir_IMAGE_DIRECTORY_ENTRY_RESOURCE_size     227330.531    0.000     0.000   \n",
       "pe_warnings                                          0.424    0.000     0.000   \n",
       "pe_minorlink                                        12.978    0.000     0.000   \n",
       "sec_rawsize_data                                 88130.802    0.000     0.000   \n",
       "debug_size                                          52.025    0.000     0.000   \n",
       "number_of_bound_import_symbols                       0.090    0.000     0.000   \n",
       "sec_entropy_reloc                                    2.331    0.000     0.000   \n",
       "sec_vasize_text                                 527181.075    0.000     0.000   \n",
       "pe_majorlink                                        17.166    0.000     2.000   \n",
       "sec_rawptr_rsrc                                 457448.330    0.000     0.000   \n",
       "pe_char                                           9217.107    2.000    34.000   \n",
       "size_code                                      2176906.392    0.000  2626.560   \n",
       "size_uninit                                    1941610.212    0.000     0.000   \n",
       "sec_vasize_rsrc                                 227390.612    0.000     0.000   \n",
       "total_size_pe                                   597004.774  834.000  9648.260   \n",
       "sec_rawptr_text                                  60958.271    0.000     0.000   \n",
       "size_image                                     3757478.874 8192.000 28672.000   \n",
       "virtual_size                                   2005087.084    0.000  2929.000   \n",
       "sec_entropy_text                                     2.176    0.000     0.000   \n",
       "std_section_names                                    0.450    0.000     0.000   \n",
       "major_version                                      440.379    0.000     0.000   \n",
       "virtual_size_2                                 1755824.916    0.000    12.000   \n",
       "sec_vasize_data                                3077701.835    0.000     0.000   \n",
       "number_of_imports                                    6.983    0.000     0.000   \n",
       "sec_rawsize_text                                385760.797    0.000     0.000   \n",
       "compile_date                                 534996687.405    0.000     0.000   \n",
       "file_size                                       597004.774  834.000  9648.260   \n",
       "iat_rva                                        2075817.971    0.000  9044.000   \n",
       "pe_dll                                               0.211    0.000     0.000   \n",
       "datadir_IMAGE_DIRECTORY_ENTRY_EXPORT_size         6048.200    0.000     0.000   \n",
       "datadir_IMAGE_DIRECTORY_ENTRY_BASERELOC_size     15016.879    0.000     0.000   \n",
       "datadir_IMAGE_DIRECTORY_ENTRY_IAT_size             825.409    0.000     0.000   \n",
       "pe_driver                                            0.027    0.000     0.000   \n",
       "number_of_export_symbols                           126.546    0.000     0.000   \n",
       "number_of_rva_and_sizes                              0.072   14.000    16.000   \n",
       "sec_entropy_rsrc                                     2.016    0.000     0.000   \n",
       "virtual_address                                  23183.855  576.000  4096.000   \n",
       "minor_version                                      424.847    0.000     0.000   \n",
       "sec_entropy_data                                     2.274    0.000     0.000   \n",
       "sec_va_execsize                                3952513.464    0.000  8493.470   \n",
       "number_of_import_symbols                           167.713    0.000     0.000   \n",
       "number_of_sections                                   2.233    1.000     3.000   \n",
       "number_of_bound_imports                              0.522    0.000     0.000   \n",
       "pe_exe                                               0.213    0.000     0.000   \n",
       "pe_i386                                              0.310    0.000     0.000   \n",
       "sec_raw_execsize                                588146.650  512.000  9216.000   \n",
       "datadir_IMAGE_DIRECTORY_ENTRY_IMPORT_size        20043.862    0.000    40.000   \n",
       "sec_rawsize_rsrc                                207549.524    0.000     0.000   \n",
       "sec_entropy_rdata                                    2.465    0.000     0.000   \n",
       "export_size                                       6048.200    0.000     0.000   \n",
       "target                                               0.362    0.000     0.000   \n",
       "\n",
       "                                                        5%            25%  \\\n",
       "generated_check_sum                              56973.150     181479.500   \n",
       "sec_rawptr_data                                      0.000          0.000   \n",
       "size_initdata                                     2048.000       8192.000   \n",
       "check_sum                                            0.000          0.000   \n",
       "datadir_IMAGE_DIRECTORY_ENTRY_RESOURCE_size        124.400       1544.000   \n",
       "pe_warnings                                          0.000          0.000   \n",
       "pe_minorlink                                         0.000          0.000   \n",
       "sec_rawsize_data                                     0.000          0.000   \n",
       "debug_size                                           0.000          0.000   \n",
       "number_of_bound_import_symbols                       0.000          0.000   \n",
       "sec_entropy_reloc                                    0.000          0.000   \n",
       "sec_vasize_text                                      0.000      23628.000   \n",
       "pe_majorlink                                         2.000          6.000   \n",
       "sec_rawptr_rsrc                                   6144.000      52224.000   \n",
       "pe_char                                             34.000        258.000   \n",
       "size_code                                         8192.000      40960.000   \n",
       "size_uninit                                          0.000          0.000   \n",
       "sec_vasize_rsrc                                     16.000       1552.000   \n",
       "total_size_pe                                    26071.400     150692.000   \n",
       "sec_rawptr_text                                      0.000        512.000   \n",
       "size_image                                       49152.000     172032.000   \n",
       "virtual_size                                      6852.000      41894.000   \n",
       "sec_entropy_text                                     0.000          5.423   \n",
       "std_section_names                                    0.000          0.000   \n",
       "major_version                                        0.000          0.000   \n",
       "virtual_size_2                                      75.650       1592.000   \n",
       "sec_vasize_data                                      0.000          0.000   \n",
       "number_of_imports                                    1.000          1.000   \n",
       "sec_rawsize_text                                     0.000      23680.000   \n",
       "compile_date                                 708992537.000 1424566177.000   \n",
       "file_size                                        26071.400     150692.000   \n",
       "iat_rva                                          15329.200      74596.000   \n",
       "pe_dll                                               0.000          0.000   \n",
       "datadir_IMAGE_DIRECTORY_ENTRY_EXPORT_size            0.000          0.000   \n",
       "datadir_IMAGE_DIRECTORY_ENTRY_BASERELOC_size         0.000          0.000   \n",
       "datadir_IMAGE_DIRECTORY_ENTRY_IAT_size               0.000          8.000   \n",
       "pe_driver                                            0.000          0.000   \n",
       "number_of_export_symbols                             0.000          0.000   \n",
       "number_of_rva_and_sizes                             16.000         16.000   \n",
       "sec_entropy_rsrc                                     0.000          3.586   \n",
       "virtual_address                                   4096.000       4096.000   \n",
       "minor_version                                        0.000          0.000   \n",
       "sec_entropy_data                                     0.000          0.000   \n",
       "sec_va_execsize                                  24418.400     157332.750   \n",
       "number_of_import_symbols                             1.000          1.000   \n",
       "number_of_sections                                   3.000          3.000   \n",
       "number_of_bound_imports                              0.000          0.000   \n",
       "pe_exe                                               1.000          1.000   \n",
       "pe_i386                                              0.000          1.000   \n",
       "sec_raw_execsize                                 25088.000     106496.000   \n",
       "datadir_IMAGE_DIRECTORY_ENTRY_IMPORT_size           40.000         79.000   \n",
       "sec_rawsize_rsrc                                   512.000       2048.000   \n",
       "sec_entropy_rdata                                    0.000          0.000   \n",
       "export_size                                          0.000          0.000   \n",
       "target                                               0.000          1.000   \n",
       "\n",
       "                                                        50%            75%  \\\n",
       "generated_check_sum                              447378.500     745314.750   \n",
       "sec_rawptr_data                                   36864.000     237568.000   \n",
       "size_initdata                                     73728.000     214528.000   \n",
       "check_sum                                             0.000     342414.250   \n",
       "datadir_IMAGE_DIRECTORY_ENTRY_RESOURCE_size       16904.000      92249.000   \n",
       "pe_warnings                                           0.000          0.000   \n",
       "pe_minorlink                                          0.000         10.000   \n",
       "sec_rawsize_data                                   1536.000       9728.000   \n",
       "debug_size                                            0.000         28.000   \n",
       "number_of_bound_import_symbols                        0.000          0.000   \n",
       "sec_entropy_reloc                                     0.082          0.102   \n",
       "sec_vasize_text                                  139900.000     409304.000   \n",
       "pe_majorlink                                          8.000         14.000   \n",
       "sec_rawptr_rsrc                                  254976.000     509440.000   \n",
       "pe_char                                             259.000        271.000   \n",
       "size_code                                        201728.000     458752.000   \n",
       "size_uninit                                           0.000          0.000   \n",
       "sec_vasize_rsrc                                   16896.000      91193.000   \n",
       "total_size_pe                                    416768.000     704973.500   \n",
       "sec_rawptr_text                                    1024.000       4096.000   \n",
       "size_image                                       409600.000     716800.000   \n",
       "virtual_size                                     205305.000     464004.000   \n",
       "sec_entropy_text                                      6.368          6.673   \n",
       "std_section_names                                     1.000          1.000   \n",
       "major_version                                         0.000          0.000   \n",
       "virtual_size_2                                     7174.000      51943.000   \n",
       "sec_vasize_data                                    2816.000      25214.000   \n",
       "number_of_imports                                     4.000          9.000   \n",
       "sec_rawsize_text                                 136704.000     404864.000   \n",
       "compile_date                                 1589375749.500 1597946629.000   \n",
       "file_size                                        416768.000     704973.500   \n",
       "iat_rva                                          259648.000     507904.000   \n",
       "pe_dll                                                0.000          0.000   \n",
       "datadir_IMAGE_DIRECTORY_ENTRY_EXPORT_size             0.000          0.000   \n",
       "datadir_IMAGE_DIRECTORY_ENTRY_BASERELOC_size         12.000         32.000   \n",
       "datadir_IMAGE_DIRECTORY_ENTRY_IAT_size              332.000        824.000   \n",
       "pe_driver                                             0.000          0.000   \n",
       "number_of_export_symbols                              0.000          0.000   \n",
       "number_of_rva_and_sizes                              16.000         16.000   \n",
       "sec_entropy_rsrc                                      4.574          5.843   \n",
       "virtual_address                                    4096.000       8192.000   \n",
       "minor_version                                         0.000          0.000   \n",
       "sec_entropy_data                                      0.990          3.936   \n",
       "sec_va_execsize                                  388795.500     692571.000   \n",
       "number_of_import_symbols                             87.000        200.000   \n",
       "number_of_sections                                    4.000          6.000   \n",
       "number_of_bound_imports                               0.000          0.000   \n",
       "pe_exe                                                1.000          1.000   \n",
       "pe_i386                                               1.000          1.000   \n",
       "sec_raw_execsize                                 348160.000     641920.000   \n",
       "datadir_IMAGE_DIRECTORY_ENTRY_IMPORT_size           140.000        260.000   \n",
       "sec_rawsize_rsrc                                  16896.000      91648.000   \n",
       "sec_entropy_rdata                                     0.204          4.822   \n",
       "export_size                                           0.000          0.000   \n",
       "target                                                1.000          1.000   \n",
       "\n",
       "                                                        95%            99%  \\\n",
       "generated_check_sum                             1704800.350    3260532.990   \n",
       "sec_rawptr_data                                  641024.000    1998648.320   \n",
       "size_initdata                                    684032.000    2974520.320   \n",
       "check_sum                                       1247521.250    3931308.010   \n",
       "datadir_IMAGE_DIRECTORY_ENTRY_RESOURCE_size      372016.100     837580.000   \n",
       "pe_warnings                                           1.000          1.000   \n",
       "pe_minorlink                                         34.000         50.000   \n",
       "sec_rawsize_data                                  76467.200     226816.000   \n",
       "debug_size                                           84.000         84.000   \n",
       "number_of_bound_import_symbols                        0.000          0.000   \n",
       "sec_entropy_reloc                                     6.642          6.683   \n",
       "sec_vasize_text                                  912240.800    2062178.940   \n",
       "pe_majorlink                                         48.000         80.000   \n",
       "sec_rawptr_rsrc                                 1035110.400    2508738.560   \n",
       "pe_char                                           33166.000      33167.000   \n",
       "size_code                                        942080.000    2236707.840   \n",
       "size_uninit                                       77824.000     561152.000   \n",
       "sec_vasize_rsrc                                  372058.800     837580.000   \n",
       "total_size_pe                                   1675065.050    3223542.510   \n",
       "sec_rawptr_text                                    4096.000     276592.640   \n",
       "size_image                                      1953996.800    6138839.040   \n",
       "virtual_size                                    1010444.200    2424352.040   \n",
       "sec_entropy_text                                      7.902          7.974   \n",
       "std_section_names                                     1.000          1.000   \n",
       "major_version                                         6.000         10.000   \n",
       "virtual_size_2                                   229269.600     876237.200   \n",
       "sec_vasize_data                                  196076.200    2013603.200   \n",
       "number_of_imports                                    17.000         31.000   \n",
       "sec_rawsize_text                                 898918.400    1987630.080   \n",
       "compile_date                                 2206552518.050 3839103880.140   \n",
       "file_size                                       1675065.050    3223542.510   \n",
       "iat_rva                                         1170828.200    3189721.400   \n",
       "pe_dll                                                0.000          1.000   \n",
       "datadir_IMAGE_DIRECTORY_ENTRY_EXPORT_size            87.000       1392.000   \n",
       "datadir_IMAGE_DIRECTORY_ENTRY_BASERELOC_size      28320.000      50772.000   \n",
       "datadir_IMAGE_DIRECTORY_ENTRY_IAT_size             2104.000       3080.000   \n",
       "pe_driver                                             0.000          0.000   \n",
       "number_of_export_symbols                              1.000         24.870   \n",
       "number_of_rva_and_sizes                              16.000         16.000   \n",
       "sec_entropy_rsrc                                      7.612          7.914   \n",
       "virtual_address                                    8192.000       8192.000   \n",
       "minor_version                                         0.000          7.000   \n",
       "sec_entropy_data                                      6.234          7.734   \n",
       "sec_va_execsize                                 1937131.750    6125120.780   \n",
       "number_of_import_symbols                            430.000        549.000   \n",
       "number_of_sections                                    9.000         13.000   \n",
       "number_of_bound_imports                               1.000          1.000   \n",
       "pe_exe                                                1.000          1.000   \n",
       "pe_i386                                               1.000          1.000   \n",
       "sec_raw_execsize                                1298611.200    3000637.440   \n",
       "datadir_IMAGE_DIRECTORY_ENTRY_IMPORT_size          8578.000      10297.480   \n",
       "sec_rawsize_rsrc                                 372224.000     839680.000   \n",
       "sec_entropy_rdata                                     5.760          6.941   \n",
       "export_size                                          87.000       1392.000   \n",
       "target                                                1.000          1.000   \n",
       "\n",
       "                                                        max  \n",
       "generated_check_sum                             4291281.000  \n",
       "sec_rawptr_data                                 3941888.000  \n",
       "size_initdata                                4041874473.000  \n",
       "check_sum                                    4278190208.000  \n",
       "datadir_IMAGE_DIRECTORY_ENTRY_RESOURCE_size     8860672.000  \n",
       "pe_warnings                                           1.000  \n",
       "pe_minorlink                                        255.000  \n",
       "sec_rawsize_data                                3851776.000  \n",
       "debug_size                                         4152.000  \n",
       "number_of_bound_import_symbols                        2.000  \n",
       "sec_entropy_reloc                                     7.992  \n",
       "sec_vasize_text                                39981056.000  \n",
       "pe_majorlink                                        255.000  \n",
       "sec_rawptr_rsrc                                 4121088.000  \n",
       "pe_char                                           49582.000  \n",
       "size_code                                     240483794.000  \n",
       "size_uninit                                   137035776.000  \n",
       "sec_vasize_rsrc                                 8863744.000  \n",
       "total_size_pe                                   4239088.000  \n",
       "sec_rawptr_text                                 2816000.000  \n",
       "size_image                                    137502720.000  \n",
       "virtual_size                                  137035776.000  \n",
       "sec_entropy_text                                      8.000  \n",
       "std_section_names                                     1.000  \n",
       "major_version                                     21315.000  \n",
       "virtual_size_2                                 49270652.000  \n",
       "sec_vasize_data                                93568008.000  \n",
       "number_of_imports                                   149.000  \n",
       "sec_rawsize_text                                4116480.000  \n",
       "compile_date                                 4293560584.000  \n",
       "file_size                                       4239088.000  \n",
       "iat_rva                                       137499076.000  \n",
       "pe_dll                                                1.000  \n",
       "datadir_IMAGE_DIRECTORY_ENTRY_EXPORT_size        314181.000  \n",
       "datadir_IMAGE_DIRECTORY_ENTRY_BASERELOC_size     610952.000  \n",
       "datadir_IMAGE_DIRECTORY_ENTRY_IAT_size            26672.000  \n",
       "pe_driver                                             1.000  \n",
       "number_of_export_symbols                           6633.000  \n",
       "number_of_rva_and_sizes                              16.000  \n",
       "sec_entropy_rsrc                                      8.000  \n",
       "virtual_address                                 2097152.000  \n",
       "minor_version                                     20512.000  \n",
       "sec_entropy_data                                      8.000  \n",
       "sec_va_execsize                               160825344.000  \n",
       "number_of_import_symbols                           3314.000  \n",
       "number_of_sections                                   20.000  \n",
       "number_of_bound_imports                              20.000  \n",
       "pe_exe                                                1.000  \n",
       "pe_i386                                               1.000  \n",
       "sec_raw_execsize                               30654464.000  \n",
       "datadir_IMAGE_DIRECTORY_ENTRY_IMPORT_size       2502656.000  \n",
       "sec_rawsize_rsrc                                6451200.000  \n",
       "sec_entropy_rdata                                     8.000  \n",
       "export_size                                      314181.000  \n",
       "target                                                1.000  "
      ]
     },
     "execution_count": 41,
     "metadata": {},
     "output_type": "execute_result"
    },
    {
     "data": {
      "application/javascript": [
       "\n",
       "            setTimeout(function() {\n",
       "                var nbb_cell_id = 41;\n",
       "                var nbb_unformatted_code = \"df.describe(percentiles=[0.01, 0.05, 0.25, 0.5, 0.75, 0.95, 0.99]).T\";\n",
       "                var nbb_formatted_code = \"df.describe(percentiles=[0.01, 0.05, 0.25, 0.5, 0.75, 0.95, 0.99]).T\";\n",
       "                var nbb_cells = Jupyter.notebook.get_cells();\n",
       "                for (var i = 0; i < nbb_cells.length; ++i) {\n",
       "                    if (nbb_cells[i].input_prompt_number == nbb_cell_id) {\n",
       "                        if (nbb_cells[i].get_text() == nbb_unformatted_code) {\n",
       "                             nbb_cells[i].set_text(nbb_formatted_code);\n",
       "                        }\n",
       "                        break;\n",
       "                    }\n",
       "                }\n",
       "            }, 500);\n",
       "            "
      ],
      "text/plain": [
       "<IPython.core.display.Javascript object>"
      ]
     },
     "metadata": {},
     "output_type": "display_data"
    }
   ],
   "source": [
    "df.describe(percentiles=[0.01, 0.05, 0.25, 0.5, 0.75, 0.95, 0.99]).T"
   ]
  },
  {
   "cell_type": "code",
   "execution_count": 42,
   "id": "267b1275",
   "metadata": {},
   "outputs": [
    {
     "data": {
      "application/javascript": [
       "\n",
       "            setTimeout(function() {\n",
       "                var nbb_cell_id = 42;\n",
       "                var nbb_unformatted_code = \"n_unique = []\\nfor col in columns + [\\\"target\\\"]:\\n    n_unique.append([col, df[col].nunique()])\";\n",
       "                var nbb_formatted_code = \"n_unique = []\\nfor col in columns + [\\\"target\\\"]:\\n    n_unique.append([col, df[col].nunique()])\";\n",
       "                var nbb_cells = Jupyter.notebook.get_cells();\n",
       "                for (var i = 0; i < nbb_cells.length; ++i) {\n",
       "                    if (nbb_cells[i].input_prompt_number == nbb_cell_id) {\n",
       "                        if (nbb_cells[i].get_text() == nbb_unformatted_code) {\n",
       "                             nbb_cells[i].set_text(nbb_formatted_code);\n",
       "                        }\n",
       "                        break;\n",
       "                    }\n",
       "                }\n",
       "            }, 500);\n",
       "            "
      ],
      "text/plain": [
       "<IPython.core.display.Javascript object>"
      ]
     },
     "metadata": {},
     "output_type": "display_data"
    }
   ],
   "source": [
    "n_unique = []\n",
    "for col in columns + [\"target\"]:\n",
    "    n_unique.append([col, df[col].nunique()])"
   ]
  },
  {
   "cell_type": "code",
   "execution_count": 43,
   "id": "78e484de",
   "metadata": {},
   "outputs": [
    {
     "data": {
      "text/plain": [
       "16414"
      ]
     },
     "execution_count": 43,
     "metadata": {},
     "output_type": "execute_result"
    },
    {
     "data": {
      "application/javascript": [
       "\n",
       "            setTimeout(function() {\n",
       "                var nbb_cell_id = 43;\n",
       "                var nbb_unformatted_code = \"df.shape[0]\";\n",
       "                var nbb_formatted_code = \"df.shape[0]\";\n",
       "                var nbb_cells = Jupyter.notebook.get_cells();\n",
       "                for (var i = 0; i < nbb_cells.length; ++i) {\n",
       "                    if (nbb_cells[i].input_prompt_number == nbb_cell_id) {\n",
       "                        if (nbb_cells[i].get_text() == nbb_unformatted_code) {\n",
       "                             nbb_cells[i].set_text(nbb_formatted_code);\n",
       "                        }\n",
       "                        break;\n",
       "                    }\n",
       "                }\n",
       "            }, 500);\n",
       "            "
      ],
      "text/plain": [
       "<IPython.core.display.Javascript object>"
      ]
     },
     "metadata": {},
     "output_type": "display_data"
    }
   ],
   "source": [
    "df.shape[0]"
   ]
  },
  {
   "cell_type": "code",
   "execution_count": 44,
   "id": "0eb4b0de",
   "metadata": {},
   "outputs": [
    {
     "data": {
      "application/javascript": [
       "\n",
       "            setTimeout(function() {\n",
       "                var nbb_cell_id = 44;\n",
       "                var nbb_unformatted_code = \"temp = pd.DataFrame(data=n_unique, columns=[\\\"col_name\\\", \\\"unique_count\\\"])\";\n",
       "                var nbb_formatted_code = \"temp = pd.DataFrame(data=n_unique, columns=[\\\"col_name\\\", \\\"unique_count\\\"])\";\n",
       "                var nbb_cells = Jupyter.notebook.get_cells();\n",
       "                for (var i = 0; i < nbb_cells.length; ++i) {\n",
       "                    if (nbb_cells[i].input_prompt_number == nbb_cell_id) {\n",
       "                        if (nbb_cells[i].get_text() == nbb_unformatted_code) {\n",
       "                             nbb_cells[i].set_text(nbb_formatted_code);\n",
       "                        }\n",
       "                        break;\n",
       "                    }\n",
       "                }\n",
       "            }, 500);\n",
       "            "
      ],
      "text/plain": [
       "<IPython.core.display.Javascript object>"
      ]
     },
     "metadata": {},
     "output_type": "display_data"
    }
   ],
   "source": [
    "temp = pd.DataFrame(data=n_unique, columns=[\"col_name\", \"unique_count\"])"
   ]
  },
  {
   "cell_type": "code",
   "execution_count": 45,
   "id": "57846c0b",
   "metadata": {},
   "outputs": [
    {
     "data": {
      "application/javascript": [
       "\n",
       "            setTimeout(function() {\n",
       "                var nbb_cell_id = 45;\n",
       "                var nbb_unformatted_code = \"temp[\\\"unique_value_proportion\\\"] = temp.unique_count / df.shape[0]\";\n",
       "                var nbb_formatted_code = \"temp[\\\"unique_value_proportion\\\"] = temp.unique_count / df.shape[0]\";\n",
       "                var nbb_cells = Jupyter.notebook.get_cells();\n",
       "                for (var i = 0; i < nbb_cells.length; ++i) {\n",
       "                    if (nbb_cells[i].input_prompt_number == nbb_cell_id) {\n",
       "                        if (nbb_cells[i].get_text() == nbb_unformatted_code) {\n",
       "                             nbb_cells[i].set_text(nbb_formatted_code);\n",
       "                        }\n",
       "                        break;\n",
       "                    }\n",
       "                }\n",
       "            }, 500);\n",
       "            "
      ],
      "text/plain": [
       "<IPython.core.display.Javascript object>"
      ]
     },
     "metadata": {},
     "output_type": "display_data"
    }
   ],
   "source": [
    "temp[\"unique_value_proportion\"] = temp.unique_count / df.shape[0]"
   ]
  },
  {
   "cell_type": "code",
   "execution_count": 51,
   "id": "ca22ea8b",
   "metadata": {},
   "outputs": [
    {
     "data": {
      "text/html": [
       "<div>\n",
       "<style scoped>\n",
       "    .dataframe tbody tr th:only-of-type {\n",
       "        vertical-align: middle;\n",
       "    }\n",
       "\n",
       "    .dataframe tbody tr th {\n",
       "        vertical-align: top;\n",
       "    }\n",
       "\n",
       "    .dataframe thead th {\n",
       "        text-align: right;\n",
       "    }\n",
       "</style>\n",
       "<table border=\"1\" class=\"dataframe\">\n",
       "  <thead>\n",
       "    <tr style=\"text-align: right;\">\n",
       "      <th></th>\n",
       "      <th>col_name</th>\n",
       "      <th>unique_count</th>\n",
       "      <th>unique_value_proportion</th>\n",
       "    </tr>\n",
       "  </thead>\n",
       "  <tbody>\n",
       "    <tr>\n",
       "      <th>0</th>\n",
       "      <td>generated_check_sum</td>\n",
       "      <td>16079</td>\n",
       "      <td>0.980</td>\n",
       "    </tr>\n",
       "    <tr>\n",
       "      <th>11</th>\n",
       "      <td>sec_vasize_text</td>\n",
       "      <td>8577</td>\n",
       "      <td>0.523</td>\n",
       "    </tr>\n",
       "    <tr>\n",
       "      <th>21</th>\n",
       "      <td>virtual_size</td>\n",
       "      <td>9146</td>\n",
       "      <td>0.557</td>\n",
       "    </tr>\n",
       "    <tr>\n",
       "      <th>22</th>\n",
       "      <td>sec_entropy_text</td>\n",
       "      <td>10002</td>\n",
       "      <td>0.609</td>\n",
       "    </tr>\n",
       "    <tr>\n",
       "      <th>29</th>\n",
       "      <td>compile_date</td>\n",
       "      <td>9421</td>\n",
       "      <td>0.574</td>\n",
       "    </tr>\n",
       "    <tr>\n",
       "      <th>31</th>\n",
       "      <td>iat_rva</td>\n",
       "      <td>8457</td>\n",
       "      <td>0.515</td>\n",
       "    </tr>\n",
       "    <tr>\n",
       "      <th>39</th>\n",
       "      <td>sec_entropy_rsrc</td>\n",
       "      <td>10585</td>\n",
       "      <td>0.645</td>\n",
       "    </tr>\n",
       "    <tr>\n",
       "      <th>43</th>\n",
       "      <td>sec_va_execsize</td>\n",
       "      <td>10629</td>\n",
       "      <td>0.648</td>\n",
       "    </tr>\n",
       "  </tbody>\n",
       "</table>\n",
       "</div>"
      ],
      "text/plain": [
       "               col_name  unique_count  unique_value_proportion\n",
       "0   generated_check_sum         16079                    0.980\n",
       "11      sec_vasize_text          8577                    0.523\n",
       "21         virtual_size          9146                    0.557\n",
       "22     sec_entropy_text         10002                    0.609\n",
       "29         compile_date          9421                    0.574\n",
       "31              iat_rva          8457                    0.515\n",
       "39     sec_entropy_rsrc         10585                    0.645\n",
       "43      sec_va_execsize         10629                    0.648"
      ]
     },
     "execution_count": 51,
     "metadata": {},
     "output_type": "execute_result"
    },
    {
     "data": {
      "application/javascript": [
       "\n",
       "            setTimeout(function() {\n",
       "                var nbb_cell_id = 51;\n",
       "                var nbb_unformatted_code = \"temp[temp.unique_value_proportion > 0.5]\";\n",
       "                var nbb_formatted_code = \"temp[temp.unique_value_proportion > 0.5]\";\n",
       "                var nbb_cells = Jupyter.notebook.get_cells();\n",
       "                for (var i = 0; i < nbb_cells.length; ++i) {\n",
       "                    if (nbb_cells[i].input_prompt_number == nbb_cell_id) {\n",
       "                        if (nbb_cells[i].get_text() == nbb_unformatted_code) {\n",
       "                             nbb_cells[i].set_text(nbb_formatted_code);\n",
       "                        }\n",
       "                        break;\n",
       "                    }\n",
       "                }\n",
       "            }, 500);\n",
       "            "
      ],
      "text/plain": [
       "<IPython.core.display.Javascript object>"
      ]
     },
     "metadata": {},
     "output_type": "display_data"
    }
   ],
   "source": [
    "temp[temp.unique_value_proportion > 0.5]"
   ]
  },
  {
   "cell_type": "markdown",
   "id": "32e7259f",
   "metadata": {},
   "source": [
    "# Modeling"
   ]
  },
  {
   "cell_type": "markdown",
   "id": "cd35650b",
   "metadata": {},
   "source": [
    "## Baseline model with XGBoost"
   ]
  },
  {
   "cell_type": "code",
   "execution_count": 204,
   "id": "c309282b",
   "metadata": {},
   "outputs": [
    {
     "data": {
      "application/javascript": [
       "\n",
       "            setTimeout(function() {\n",
       "                var nbb_cell_id = 204;\n",
       "                var nbb_unformatted_code = \"feature_columns = temp[temp.unique_value_proportion > 0].col_name.values.tolist()\";\n",
       "                var nbb_formatted_code = \"feature_columns = temp[temp.unique_value_proportion > 0].col_name.values.tolist()\";\n",
       "                var nbb_cells = Jupyter.notebook.get_cells();\n",
       "                for (var i = 0; i < nbb_cells.length; ++i) {\n",
       "                    if (nbb_cells[i].input_prompt_number == nbb_cell_id) {\n",
       "                        if (nbb_cells[i].get_text() == nbb_unformatted_code) {\n",
       "                             nbb_cells[i].set_text(nbb_formatted_code);\n",
       "                        }\n",
       "                        break;\n",
       "                    }\n",
       "                }\n",
       "            }, 500);\n",
       "            "
      ],
      "text/plain": [
       "<IPython.core.display.Javascript object>"
      ]
     },
     "metadata": {},
     "output_type": "display_data"
    }
   ],
   "source": [
    "feature_columns = temp[temp.unique_value_proportion > 0].col_name.values.tolist()"
   ]
  },
  {
   "cell_type": "code",
   "execution_count": 206,
   "id": "507cefd1",
   "metadata": {},
   "outputs": [
    {
     "data": {
      "application/javascript": [
       "\n",
       "            setTimeout(function() {\n",
       "                var nbb_cell_id = 206;\n",
       "                var nbb_unformatted_code = \"if \\\"file_size\\\" not in feature_columns:\\n    feature_columns.append(\\\"file_size\\\")\\nif \\\"target\\\" in feature_columns:\\n    feature_columns.remove(\\\"target\\\")\";\n",
       "                var nbb_formatted_code = \"if \\\"file_size\\\" not in feature_columns:\\n    feature_columns.append(\\\"file_size\\\")\\nif \\\"target\\\" in feature_columns:\\n    feature_columns.remove(\\\"target\\\")\";\n",
       "                var nbb_cells = Jupyter.notebook.get_cells();\n",
       "                for (var i = 0; i < nbb_cells.length; ++i) {\n",
       "                    if (nbb_cells[i].input_prompt_number == nbb_cell_id) {\n",
       "                        if (nbb_cells[i].get_text() == nbb_unformatted_code) {\n",
       "                             nbb_cells[i].set_text(nbb_formatted_code);\n",
       "                        }\n",
       "                        break;\n",
       "                    }\n",
       "                }\n",
       "            }, 500);\n",
       "            "
      ],
      "text/plain": [
       "<IPython.core.display.Javascript object>"
      ]
     },
     "metadata": {},
     "output_type": "display_data"
    }
   ],
   "source": [
    "if \"file_size\" not in feature_columns:\n",
    "    feature_columns.append(\"file_size\")\n",
    "if \"target\" in feature_columns:\n",
    "    feature_columns.remove(\"target\")"
   ]
  },
  {
   "cell_type": "code",
   "execution_count": 207,
   "id": "c1817793",
   "metadata": {},
   "outputs": [
    {
     "data": {
      "application/javascript": [
       "\n",
       "            setTimeout(function() {\n",
       "                var nbb_cell_id = 207;\n",
       "                var nbb_unformatted_code = \"from sklearn.model_selection import train_test_split\";\n",
       "                var nbb_formatted_code = \"from sklearn.model_selection import train_test_split\";\n",
       "                var nbb_cells = Jupyter.notebook.get_cells();\n",
       "                for (var i = 0; i < nbb_cells.length; ++i) {\n",
       "                    if (nbb_cells[i].input_prompt_number == nbb_cell_id) {\n",
       "                        if (nbb_cells[i].get_text() == nbb_unformatted_code) {\n",
       "                             nbb_cells[i].set_text(nbb_formatted_code);\n",
       "                        }\n",
       "                        break;\n",
       "                    }\n",
       "                }\n",
       "            }, 500);\n",
       "            "
      ],
      "text/plain": [
       "<IPython.core.display.Javascript object>"
      ]
     },
     "metadata": {},
     "output_type": "display_data"
    }
   ],
   "source": [
    "from sklearn.model_selection import train_test_split"
   ]
  },
  {
   "cell_type": "code",
   "execution_count": 208,
   "id": "7f138428",
   "metadata": {},
   "outputs": [
    {
     "data": {
      "application/javascript": [
       "\n",
       "            setTimeout(function() {\n",
       "                var nbb_cell_id = 208;\n",
       "                var nbb_unformatted_code = \"X_train, X_test, y_train, y_test = train_test_split(df[feature_columns], df[\\\"target\\\"])\";\n",
       "                var nbb_formatted_code = \"X_train, X_test, y_train, y_test = train_test_split(df[feature_columns], df[\\\"target\\\"])\";\n",
       "                var nbb_cells = Jupyter.notebook.get_cells();\n",
       "                for (var i = 0; i < nbb_cells.length; ++i) {\n",
       "                    if (nbb_cells[i].input_prompt_number == nbb_cell_id) {\n",
       "                        if (nbb_cells[i].get_text() == nbb_unformatted_code) {\n",
       "                             nbb_cells[i].set_text(nbb_formatted_code);\n",
       "                        }\n",
       "                        break;\n",
       "                    }\n",
       "                }\n",
       "            }, 500);\n",
       "            "
      ],
      "text/plain": [
       "<IPython.core.display.Javascript object>"
      ]
     },
     "metadata": {},
     "output_type": "display_data"
    }
   ],
   "source": [
    "X_train, X_test, y_train, y_test = train_test_split(df[feature_columns], df[\"target\"])"
   ]
  },
  {
   "cell_type": "code",
   "execution_count": 209,
   "id": "0bfa59f3",
   "metadata": {},
   "outputs": [
    {
     "data": {
      "application/javascript": [
       "\n",
       "            setTimeout(function() {\n",
       "                var nbb_cell_id = 209;\n",
       "                var nbb_unformatted_code = \"import xgboost\\nfrom xgboost import XGBClassifier\";\n",
       "                var nbb_formatted_code = \"import xgboost\\nfrom xgboost import XGBClassifier\";\n",
       "                var nbb_cells = Jupyter.notebook.get_cells();\n",
       "                for (var i = 0; i < nbb_cells.length; ++i) {\n",
       "                    if (nbb_cells[i].input_prompt_number == nbb_cell_id) {\n",
       "                        if (nbb_cells[i].get_text() == nbb_unformatted_code) {\n",
       "                             nbb_cells[i].set_text(nbb_formatted_code);\n",
       "                        }\n",
       "                        break;\n",
       "                    }\n",
       "                }\n",
       "            }, 500);\n",
       "            "
      ],
      "text/plain": [
       "<IPython.core.display.Javascript object>"
      ]
     },
     "metadata": {},
     "output_type": "display_data"
    }
   ],
   "source": [
    "import xgboost\n",
    "from xgboost import XGBClassifier"
   ]
  },
  {
   "cell_type": "code",
   "execution_count": 210,
   "id": "97edd215",
   "metadata": {},
   "outputs": [
    {
     "data": {
      "application/javascript": [
       "\n",
       "            setTimeout(function() {\n",
       "                var nbb_cell_id = 210;\n",
       "                var nbb_unformatted_code = \"bst = XGBClassifier(\\n    n_estimators=15, max_depth=5, learning_rate=0.5, objective=\\\"binary:logistic\\\"\\n)\\n# fit model\\nbst.fit(X_train, y_train)\\n# make predictions\\ny_pred = bst.predict(X_test)\";\n",
       "                var nbb_formatted_code = \"bst = XGBClassifier(\\n    n_estimators=15, max_depth=5, learning_rate=0.5, objective=\\\"binary:logistic\\\"\\n)\\n# fit model\\nbst.fit(X_train, y_train)\\n# make predictions\\ny_pred = bst.predict(X_test)\";\n",
       "                var nbb_cells = Jupyter.notebook.get_cells();\n",
       "                for (var i = 0; i < nbb_cells.length; ++i) {\n",
       "                    if (nbb_cells[i].input_prompt_number == nbb_cell_id) {\n",
       "                        if (nbb_cells[i].get_text() == nbb_unformatted_code) {\n",
       "                             nbb_cells[i].set_text(nbb_formatted_code);\n",
       "                        }\n",
       "                        break;\n",
       "                    }\n",
       "                }\n",
       "            }, 500);\n",
       "            "
      ],
      "text/plain": [
       "<IPython.core.display.Javascript object>"
      ]
     },
     "metadata": {},
     "output_type": "display_data"
    }
   ],
   "source": [
    "bst = XGBClassifier(\n",
    "    n_estimators=15, max_depth=5, learning_rate=0.5, objective=\"binary:logistic\"\n",
    ")\n",
    "# fit model\n",
    "bst.fit(X_train, y_train)\n",
    "# make predictions\n",
    "y_pred = bst.predict(X_test)"
   ]
  },
  {
   "cell_type": "code",
   "execution_count": 211,
   "id": "4abf07b5",
   "metadata": {},
   "outputs": [
    {
     "data": {
      "application/javascript": [
       "\n",
       "            setTimeout(function() {\n",
       "                var nbb_cell_id = 211;\n",
       "                var nbb_unformatted_code = \"from sklearn.metrics import (\\n    confusion_matrix,\\n    f1_score,\\n    accuracy_score,\\n    precision_score,\\n    recall_score,\\n)\";\n",
       "                var nbb_formatted_code = \"from sklearn.metrics import (\\n    confusion_matrix,\\n    f1_score,\\n    accuracy_score,\\n    precision_score,\\n    recall_score,\\n)\";\n",
       "                var nbb_cells = Jupyter.notebook.get_cells();\n",
       "                for (var i = 0; i < nbb_cells.length; ++i) {\n",
       "                    if (nbb_cells[i].input_prompt_number == nbb_cell_id) {\n",
       "                        if (nbb_cells[i].get_text() == nbb_unformatted_code) {\n",
       "                             nbb_cells[i].set_text(nbb_formatted_code);\n",
       "                        }\n",
       "                        break;\n",
       "                    }\n",
       "                }\n",
       "            }, 500);\n",
       "            "
      ],
      "text/plain": [
       "<IPython.core.display.Javascript object>"
      ]
     },
     "metadata": {},
     "output_type": "display_data"
    }
   ],
   "source": [
    "from sklearn.metrics import (\n",
    "    confusion_matrix,\n",
    "    f1_score,\n",
    "    accuracy_score,\n",
    "    precision_score,\n",
    "    recall_score,\n",
    ")"
   ]
  },
  {
   "cell_type": "code",
   "execution_count": 213,
   "id": "975de53d",
   "metadata": {},
   "outputs": [
    {
     "data": {
      "text/html": [
       "<div>\n",
       "<style scoped>\n",
       "    .dataframe tbody tr th:only-of-type {\n",
       "        vertical-align: middle;\n",
       "    }\n",
       "\n",
       "    .dataframe tbody tr th {\n",
       "        vertical-align: top;\n",
       "    }\n",
       "\n",
       "    .dataframe thead th {\n",
       "        text-align: right;\n",
       "    }\n",
       "</style>\n",
       "<table border=\"1\" class=\"dataframe\">\n",
       "  <thead>\n",
       "    <tr style=\"text-align: right;\">\n",
       "      <th></th>\n",
       "      <th>0_predict</th>\n",
       "      <th>1_predict</th>\n",
       "    </tr>\n",
       "  </thead>\n",
       "  <tbody>\n",
       "    <tr>\n",
       "      <th>0_true</th>\n",
       "      <td>556</td>\n",
       "      <td>68</td>\n",
       "    </tr>\n",
       "    <tr>\n",
       "      <th>1_true</th>\n",
       "      <td>38</td>\n",
       "      <td>3442</td>\n",
       "    </tr>\n",
       "  </tbody>\n",
       "</table>\n",
       "</div>"
      ],
      "text/plain": [
       "        0_predict  1_predict\n",
       "0_true        556         68\n",
       "1_true         38       3442"
      ]
     },
     "execution_count": 213,
     "metadata": {},
     "output_type": "execute_result"
    },
    {
     "data": {
      "application/javascript": [
       "\n",
       "            setTimeout(function() {\n",
       "                var nbb_cell_id = 213;\n",
       "                var nbb_unformatted_code = \"cm = confusion_matrix(y_test, y_pred)\\ntn, fp, fn, tp = cm.ravel()\\npd.DataFrame(\\n    cm,\\n    columns=[\\\"0_predict\\\", \\\"1_predict\\\"],\\n    index=[\\\"0_true\\\", \\\"1_true\\\"],\\n)\";\n",
       "                var nbb_formatted_code = \"cm = confusion_matrix(y_test, y_pred)\\ntn, fp, fn, tp = cm.ravel()\\npd.DataFrame(\\n    cm,\\n    columns=[\\\"0_predict\\\", \\\"1_predict\\\"],\\n    index=[\\\"0_true\\\", \\\"1_true\\\"],\\n)\";\n",
       "                var nbb_cells = Jupyter.notebook.get_cells();\n",
       "                for (var i = 0; i < nbb_cells.length; ++i) {\n",
       "                    if (nbb_cells[i].input_prompt_number == nbb_cell_id) {\n",
       "                        if (nbb_cells[i].get_text() == nbb_unformatted_code) {\n",
       "                             nbb_cells[i].set_text(nbb_formatted_code);\n",
       "                        }\n",
       "                        break;\n",
       "                    }\n",
       "                }\n",
       "            }, 500);\n",
       "            "
      ],
      "text/plain": [
       "<IPython.core.display.Javascript object>"
      ]
     },
     "metadata": {},
     "output_type": "display_data"
    }
   ],
   "source": [
    "cm = confusion_matrix(y_test, y_pred)\n",
    "tn, fp, fn, tp = cm.ravel()\n",
    "pd.DataFrame(\n",
    "    cm,\n",
    "    columns=[\"0_predict\", \"1_predict\"],\n",
    "    index=[\"0_true\", \"1_true\"],\n",
    ")"
   ]
  },
  {
   "cell_type": "code",
   "execution_count": 214,
   "id": "fde5988a",
   "metadata": {},
   "outputs": [
    {
     "data": {
      "text/plain": [
       "0.10897435897435898"
      ]
     },
     "execution_count": 214,
     "metadata": {},
     "output_type": "execute_result"
    },
    {
     "data": {
      "application/javascript": [
       "\n",
       "            setTimeout(function() {\n",
       "                var nbb_cell_id = 214;\n",
       "                var nbb_unformatted_code = \"FPR = fp / (tn + fp)\\nFPR\";\n",
       "                var nbb_formatted_code = \"FPR = fp / (tn + fp)\\nFPR\";\n",
       "                var nbb_cells = Jupyter.notebook.get_cells();\n",
       "                for (var i = 0; i < nbb_cells.length; ++i) {\n",
       "                    if (nbb_cells[i].input_prompt_number == nbb_cell_id) {\n",
       "                        if (nbb_cells[i].get_text() == nbb_unformatted_code) {\n",
       "                             nbb_cells[i].set_text(nbb_formatted_code);\n",
       "                        }\n",
       "                        break;\n",
       "                    }\n",
       "                }\n",
       "            }, 500);\n",
       "            "
      ],
      "text/plain": [
       "<IPython.core.display.Javascript object>"
      ]
     },
     "metadata": {},
     "output_type": "display_data"
    }
   ],
   "source": [
    "FPR = fp / (tn + fp)\n",
    "FPR"
   ]
  },
  {
   "cell_type": "code",
   "execution_count": 215,
   "id": "d3e9a0d9",
   "metadata": {},
   "outputs": [
    {
     "data": {
      "text/plain": [
       "(0.9848354792560801,\n",
       " 0.9741715399610137,\n",
       " 0.9806267806267807,\n",
       " 0.9890804597701149)"
      ]
     },
     "execution_count": 215,
     "metadata": {},
     "output_type": "execute_result"
    },
    {
     "data": {
      "application/javascript": [
       "\n",
       "            setTimeout(function() {\n",
       "                var nbb_cell_id = 215;\n",
       "                var nbb_unformatted_code = \"f1_score(y_test, y_pred), accuracy_score(y_test, y_pred), precision_score(\\n    y_test, y_pred\\n), recall_score(y_test, y_pred)\";\n",
       "                var nbb_formatted_code = \"f1_score(y_test, y_pred), accuracy_score(y_test, y_pred), precision_score(\\n    y_test, y_pred\\n), recall_score(y_test, y_pred)\";\n",
       "                var nbb_cells = Jupyter.notebook.get_cells();\n",
       "                for (var i = 0; i < nbb_cells.length; ++i) {\n",
       "                    if (nbb_cells[i].input_prompt_number == nbb_cell_id) {\n",
       "                        if (nbb_cells[i].get_text() == nbb_unformatted_code) {\n",
       "                             nbb_cells[i].set_text(nbb_formatted_code);\n",
       "                        }\n",
       "                        break;\n",
       "                    }\n",
       "                }\n",
       "            }, 500);\n",
       "            "
      ],
      "text/plain": [
       "<IPython.core.display.Javascript object>"
      ]
     },
     "metadata": {},
     "output_type": "display_data"
    }
   ],
   "source": [
    "f1_score(y_test, y_pred), accuracy_score(y_test, y_pred), precision_score(\n",
    "    y_test, y_pred\n",
    "), recall_score(y_test, y_pred)"
   ]
  },
  {
   "cell_type": "code",
   "execution_count": 216,
   "id": "a1c819c0",
   "metadata": {},
   "outputs": [
    {
     "data": {
      "text/plain": [
       "<Axes: title={'center': 'Feature importance'}, xlabel='F score', ylabel='Features'>"
      ]
     },
     "execution_count": 216,
     "metadata": {},
     "output_type": "execute_result"
    },
    {
     "data": {
      "image/png": "[encoded data removed]",
      "text/plain": [
       "<Figure size 640x480 with 1 Axes>"
      ]
     },
     "metadata": {},
     "output_type": "display_data"
    },
    {
     "data": {
      "application/javascript": [
       "\n",
       "            setTimeout(function() {\n",
       "                var nbb_cell_id = 216;\n",
       "                var nbb_unformatted_code = \"xgboost.plot_importance(bst)\";\n",
       "                var nbb_formatted_code = \"xgboost.plot_importance(bst)\";\n",
       "                var nbb_cells = Jupyter.notebook.get_cells();\n",
       "                for (var i = 0; i < nbb_cells.length; ++i) {\n",
       "                    if (nbb_cells[i].input_prompt_number == nbb_cell_id) {\n",
       "                        if (nbb_cells[i].get_text() == nbb_unformatted_code) {\n",
       "                             nbb_cells[i].set_text(nbb_formatted_code);\n",
       "                        }\n",
       "                        break;\n",
       "                    }\n",
       "                }\n",
       "            }, 500);\n",
       "            "
      ],
      "text/plain": [
       "<IPython.core.display.Javascript object>"
      ]
     },
     "metadata": {},
     "output_type": "display_data"
    }
   ],
   "source": [
    "xgboost.plot_importance(bst)"
   ]
  },
  {
   "cell_type": "code",
   "execution_count": 233,
   "id": "0d7d1da6",
   "metadata": {},
   "outputs": [
    {
     "data": {
      "application/javascript": [
       "\n",
       "            setTimeout(function() {\n",
       "                var nbb_cell_id = 233;\n",
       "                var nbb_unformatted_code = \"from sklearn.model_selection import GridSearchCV\";\n",
       "                var nbb_formatted_code = \"from sklearn.model_selection import GridSearchCV\";\n",
       "                var nbb_cells = Jupyter.notebook.get_cells();\n",
       "                for (var i = 0; i < nbb_cells.length; ++i) {\n",
       "                    if (nbb_cells[i].input_prompt_number == nbb_cell_id) {\n",
       "                        if (nbb_cells[i].get_text() == nbb_unformatted_code) {\n",
       "                             nbb_cells[i].set_text(nbb_formatted_code);\n",
       "                        }\n",
       "                        break;\n",
       "                    }\n",
       "                }\n",
       "            }, 500);\n",
       "            "
      ],
      "text/plain": [
       "<IPython.core.display.Javascript object>"
      ]
     },
     "metadata": {},
     "output_type": "display_data"
    }
   ],
   "source": [
    "from sklearn.model_selection import GridSearchCV"
   ]
  },
  {
   "cell_type": "code",
   "execution_count": 234,
   "id": "bed426b9",
   "metadata": {},
   "outputs": [
    {
     "data": {
      "application/javascript": [
       "\n",
       "            setTimeout(function() {\n",
       "                var nbb_cell_id = 234;\n",
       "                var nbb_unformatted_code = \"parameters = {\\n    \\\"n_estimators\\\": [*range(14, 18)],\\n    \\\"max_depth\\\": [*range(4, 8)],\\n    \\\"learning_rate\\\": [0.1, 0.2, 0.5, 1],\\n}\";\n",
       "                var nbb_formatted_code = \"parameters = {\\n    \\\"n_estimators\\\": [*range(14, 18)],\\n    \\\"max_depth\\\": [*range(4, 8)],\\n    \\\"learning_rate\\\": [0.1, 0.2, 0.5, 1],\\n}\";\n",
       "                var nbb_cells = Jupyter.notebook.get_cells();\n",
       "                for (var i = 0; i < nbb_cells.length; ++i) {\n",
       "                    if (nbb_cells[i].input_prompt_number == nbb_cell_id) {\n",
       "                        if (nbb_cells[i].get_text() == nbb_unformatted_code) {\n",
       "                             nbb_cells[i].set_text(nbb_formatted_code);\n",
       "                        }\n",
       "                        break;\n",
       "                    }\n",
       "                }\n",
       "            }, 500);\n",
       "            "
      ],
      "text/plain": [
       "<IPython.core.display.Javascript object>"
      ]
     },
     "metadata": {},
     "output_type": "display_data"
    }
   ],
   "source": [
    "parameters = {\n",
    "    \"n_estimators\": [*range(14, 18)],\n",
    "    \"max_depth\": [*range(4, 8)],\n",
    "    \"learning_rate\": [0.1, 0.2, 0.5, 1],\n",
    "}"
   ]
  },
  {
   "cell_type": "code",
   "execution_count": 235,
   "id": "bcd3a33e",
   "metadata": {},
   "outputs": [
    {
     "data": {
      "application/javascript": [
       "\n",
       "            setTimeout(function() {\n",
       "                var nbb_cell_id = 235;\n",
       "                var nbb_unformatted_code = \"bst = XGBClassifier()\";\n",
       "                var nbb_formatted_code = \"bst = XGBClassifier()\";\n",
       "                var nbb_cells = Jupyter.notebook.get_cells();\n",
       "                for (var i = 0; i < nbb_cells.length; ++i) {\n",
       "                    if (nbb_cells[i].input_prompt_number == nbb_cell_id) {\n",
       "                        if (nbb_cells[i].get_text() == nbb_unformatted_code) {\n",
       "                             nbb_cells[i].set_text(nbb_formatted_code);\n",
       "                        }\n",
       "                        break;\n",
       "                    }\n",
       "                }\n",
       "            }, 500);\n",
       "            "
      ],
      "text/plain": [
       "<IPython.core.display.Javascript object>"
      ]
     },
     "metadata": {},
     "output_type": "display_data"
    }
   ],
   "source": [
    "bst = XGBClassifier()"
   ]
  },
  {
   "cell_type": "code",
   "execution_count": 236,
   "id": "d6fc0fae",
   "metadata": {},
   "outputs": [
    {
     "data": {
      "application/javascript": [
       "\n",
       "            setTimeout(function() {\n",
       "                var nbb_cell_id = 236;\n",
       "                var nbb_unformatted_code = \"clf = GridSearchCV(bst, parameters)\";\n",
       "                var nbb_formatted_code = \"clf = GridSearchCV(bst, parameters)\";\n",
       "                var nbb_cells = Jupyter.notebook.get_cells();\n",
       "                for (var i = 0; i < nbb_cells.length; ++i) {\n",
       "                    if (nbb_cells[i].input_prompt_number == nbb_cell_id) {\n",
       "                        if (nbb_cells[i].get_text() == nbb_unformatted_code) {\n",
       "                             nbb_cells[i].set_text(nbb_formatted_code);\n",
       "                        }\n",
       "                        break;\n",
       "                    }\n",
       "                }\n",
       "            }, 500);\n",
       "            "
      ],
      "text/plain": [
       "<IPython.core.display.Javascript object>"
      ]
     },
     "metadata": {},
     "output_type": "display_data"
    }
   ],
   "source": [
    "clf = GridSearchCV(bst, parameters)"
   ]
  },
  {
   "cell_type": "code",
   "execution_count": 237,
   "id": "013d77e1",
   "metadata": {},
   "outputs": [
    {
     "data": {
      "text/html": [
       "<style>#sk-container-id-3 {color: black;background-color: white;}#sk-container-id-3 pre{padding: 0;}#sk-container-id-3 div.sk-toggleable {background-color: white;}#sk-container-id-3 label.sk-toggleable__label {cursor: pointer;display: block;width: 100%;margin-bottom: 0;padding: 0.3em;box-sizing: border-box;text-align: center;}#sk-container-id-3 label.sk-toggleable__label-arrow:before {content: \"▸\";float: left;margin-right: 0.25em;color: #696969;}#sk-container-id-3 label.sk-toggleable__label-arrow:hover:before {color: black;}#sk-container-id-3 div.sk-estimator:hover label.sk-toggleable__label-arrow:before {color: black;}#sk-container-id-3 div.sk-toggleable__content {max-height: 0;max-width: 0;overflow: hidden;text-align: left;background-color: #f0f8ff;}#sk-container-id-3 div.sk-toggleable__content pre {margin: 0.2em;color: black;border-radius: 0.25em;background-color: #f0f8ff;}#sk-container-id-3 input.sk-toggleable__control:checked~div.sk-toggleable__content {max-height: 200px;max-width: 100%;overflow: auto;}#sk-container-id-3 input.sk-toggleable__control:checked~label.sk-toggleable__label-arrow:before {content: \"▾\";}#sk-container-id-3 div.sk-estimator input.sk-toggleable__control:checked~label.sk-toggleable__label {background-color: #d4ebff;}#sk-container-id-3 div.sk-label input.sk-toggleable__control:checked~label.sk-toggleable__label {background-color: #d4ebff;}#sk-container-id-3 input.sk-hidden--visually {border: 0;clip: rect(1px 1px 1px 1px);clip: rect(1px, 1px, 1px, 1px);height: 1px;margin: -1px;overflow: hidden;padding: 0;position: absolute;width: 1px;}#sk-container-id-3 div.sk-estimator {font-family: monospace;background-color: #f0f8ff;border: 1px dotted black;border-radius: 0.25em;box-sizing: border-box;margin-bottom: 0.5em;}#sk-container-id-3 div.sk-estimator:hover {background-color: #d4ebff;}#sk-container-id-3 div.sk-parallel-item::after {content: \"\";width: 100%;border-bottom: 1px solid gray;flex-grow: 1;}#sk-container-id-3 div.sk-label:hover label.sk-toggleable__label {background-color: #d4ebff;}#sk-container-id-3 div.sk-serial::before {content: \"\";position: absolute;border-left: 1px solid gray;box-sizing: border-box;top: 0;bottom: 0;left: 50%;z-index: 0;}#sk-container-id-3 div.sk-serial {display: flex;flex-direction: column;align-items: center;background-color: white;padding-right: 0.2em;padding-left: 0.2em;position: relative;}#sk-container-id-3 div.sk-item {position: relative;z-index: 1;}#sk-container-id-3 div.sk-parallel {display: flex;align-items: stretch;justify-content: center;background-color: white;position: relative;}#sk-container-id-3 div.sk-item::before, #sk-container-id-3 div.sk-parallel-item::before {content: \"\";position: absolute;border-left: 1px solid gray;box-sizing: border-box;top: 0;bottom: 0;left: 50%;z-index: -1;}#sk-container-id-3 div.sk-parallel-item {display: flex;flex-direction: column;z-index: 1;position: relative;background-color: white;}#sk-container-id-3 div.sk-parallel-item:first-child::after {align-self: flex-end;width: 50%;}#sk-container-id-3 div.sk-parallel-item:last-child::after {align-self: flex-start;width: 50%;}#sk-container-id-3 div.sk-parallel-item:only-child::after {width: 0;}#sk-container-id-3 div.sk-dashed-wrapped {border: 1px dashed gray;margin: 0 0.4em 0.5em 0.4em;box-sizing: border-box;padding-bottom: 0.4em;background-color: white;}#sk-container-id-3 div.sk-label label {font-family: monospace;font-weight: bold;display: inline-block;line-height: 1.2em;}#sk-container-id-3 div.sk-label-container {text-align: center;}#sk-container-id-3 div.sk-container {/* jupyter's `normalize.less` sets `[hidden] { display: none; }` but bootstrap.min.css set `[hidden] { display: none !important; }` so we also need the `!important` here to be able to override the default hidden behavior on the sphinx rendered scikit-learn.org. See: https://github.com/scikit-learn/scikit-learn/issues/21755 */display: inline-block !important;position: relative;}#sk-container-id-3 div.sk-text-repr-fallback {display: none;}</style><div id=\"sk-container-id-3\" class=\"sk-top-container\"><div class=\"sk-text-repr-fallback\"><pre>GridSearchCV(estimator=XGBClassifier(base_score=None, booster=None,\n",
       "                                     callbacks=None, colsample_bylevel=None,\n",
       "                                     colsample_bynode=None,\n",
       "                                     colsample_bytree=None,\n",
       "                                     early_stopping_rounds=None,\n",
       "                                     enable_categorical=False, eval_metric=None,\n",
       "                                     feature_types=None, gamma=None,\n",
       "                                     gpu_id=None, grow_policy=None,\n",
       "                                     importance_type=None,\n",
       "                                     interaction_constraints=None,\n",
       "                                     learning_rate=None, max_bin=None,\n",
       "                                     max_cat_threshold=None,\n",
       "                                     max_cat_to_onehot=None,\n",
       "                                     max_delta_step=None, max_depth=None,\n",
       "                                     max_leaves=None, min_child_weight=None,\n",
       "                                     missing=nan, monotone_constraints=None,\n",
       "                                     n_estimators=100, n_jobs=None,\n",
       "                                     num_parallel_tree=None, predictor=None,\n",
       "                                     random_state=None, ...),\n",
       "             param_grid={&#x27;learning_rate&#x27;: [0.1, 0.2, 0.5, 1],\n",
       "                         &#x27;max_depth&#x27;: [4, 5, 6, 7],\n",
       "                         &#x27;n_estimators&#x27;: [14, 15, 16, 17]})</pre><b>In a Jupyter environment, please rerun this cell to show the HTML representation or trust the notebook. <br />On GitHub, the HTML representation is unable to render, please try loading this page with nbviewer.org.</b></div><div class=\"sk-container\" hidden><div class=\"sk-item sk-dashed-wrapped\"><div class=\"sk-label-container\"><div class=\"sk-label sk-toggleable\"><input class=\"sk-toggleable__control sk-hidden--visually\" id=\"sk-estimator-id-5\" type=\"checkbox\" ><label for=\"sk-estimator-id-5\" class=\"sk-toggleable__label sk-toggleable__label-arrow\">GridSearchCV</label><div class=\"sk-toggleable__content\"><pre>GridSearchCV(estimator=XGBClassifier(base_score=None, booster=None,\n",
       "                                     callbacks=None, colsample_bylevel=None,\n",
       "                                     colsample_bynode=None,\n",
       "                                     colsample_bytree=None,\n",
       "                                     early_stopping_rounds=None,\n",
       "                                     enable_categorical=False, eval_metric=None,\n",
       "                                     feature_types=None, gamma=None,\n",
       "                                     gpu_id=None, grow_policy=None,\n",
       "                                     importance_type=None,\n",
       "                                     interaction_constraints=None,\n",
       "                                     learning_rate=None, max_bin=None,\n",
       "                                     max_cat_threshold=None,\n",
       "                                     max_cat_to_onehot=None,\n",
       "                                     max_delta_step=None, max_depth=None,\n",
       "                                     max_leaves=None, min_child_weight=None,\n",
       "                                     missing=nan, monotone_constraints=None,\n",
       "                                     n_estimators=100, n_jobs=None,\n",
       "                                     num_parallel_tree=None, predictor=None,\n",
       "                                     random_state=None, ...),\n",
       "             param_grid={&#x27;learning_rate&#x27;: [0.1, 0.2, 0.5, 1],\n",
       "                         &#x27;max_depth&#x27;: [4, 5, 6, 7],\n",
       "                         &#x27;n_estimators&#x27;: [14, 15, 16, 17]})</pre></div></div></div><div class=\"sk-parallel\"><div class=\"sk-parallel-item\"><div class=\"sk-item\"><div class=\"sk-label-container\"><div class=\"sk-label sk-toggleable\"><input class=\"sk-toggleable__control sk-hidden--visually\" id=\"sk-estimator-id-6\" type=\"checkbox\" ><label for=\"sk-estimator-id-6\" class=\"sk-toggleable__label sk-toggleable__label-arrow\">estimator: XGBClassifier</label><div class=\"sk-toggleable__content\"><pre>XGBClassifier(base_score=None, booster=None, callbacks=None,\n",
       "              colsample_bylevel=None, colsample_bynode=None,\n",
       "              colsample_bytree=None, early_stopping_rounds=None,\n",
       "              enable_categorical=False, eval_metric=None, feature_types=None,\n",
       "              gamma=None, gpu_id=None, grow_policy=None, importance_type=None,\n",
       "              interaction_constraints=None, learning_rate=None, max_bin=None,\n",
       "              max_cat_threshold=None, max_cat_to_onehot=None,\n",
       "              max_delta_step=None, max_depth=None, max_leaves=None,\n",
       "              min_child_weight=None, missing=nan, monotone_constraints=None,\n",
       "              n_estimators=100, n_jobs=None, num_parallel_tree=None,\n",
       "              predictor=None, random_state=None, ...)</pre></div></div></div><div class=\"sk-serial\"><div class=\"sk-item\"><div class=\"sk-estimator sk-toggleable\"><input class=\"sk-toggleable__control sk-hidden--visually\" id=\"sk-estimator-id-7\" type=\"checkbox\" ><label for=\"sk-estimator-id-7\" class=\"sk-toggleable__label sk-toggleable__label-arrow\">XGBClassifier</label><div class=\"sk-toggleable__content\"><pre>XGBClassifier(base_score=None, booster=None, callbacks=None,\n",
       "              colsample_bylevel=None, colsample_bynode=None,\n",
       "              colsample_bytree=None, early_stopping_rounds=None,\n",
       "              enable_categorical=False, eval_metric=None, feature_types=None,\n",
       "              gamma=None, gpu_id=None, grow_policy=None, importance_type=None,\n",
       "              interaction_constraints=None, learning_rate=None, max_bin=None,\n",
       "              max_cat_threshold=None, max_cat_to_onehot=None,\n",
       "              max_delta_step=None, max_depth=None, max_leaves=None,\n",
       "              min_child_weight=None, missing=nan, monotone_constraints=None,\n",
       "              n_estimators=100, n_jobs=None, num_parallel_tree=None,\n",
       "              predictor=None, random_state=None, ...)</pre></div></div></div></div></div></div></div></div></div></div>"
      ],
      "text/plain": [
       "GridSearchCV(estimator=XGBClassifier(base_score=None, booster=None,\n",
       "                                     callbacks=None, colsample_bylevel=None,\n",
       "                                     colsample_bynode=None,\n",
       "                                     colsample_bytree=None,\n",
       "                                     early_stopping_rounds=None,\n",
       "                                     enable_categorical=False, eval_metric=None,\n",
       "                                     feature_types=None, gamma=None,\n",
       "                                     gpu_id=None, grow_policy=None,\n",
       "                                     importance_type=None,\n",
       "                                     interaction_constraints=None,\n",
       "                                     learning_rate=None, max_bin=None,\n",
       "                                     max_cat_threshold=None,\n",
       "                                     max_cat_to_onehot=None,\n",
       "                                     max_delta_step=None, max_depth=None,\n",
       "                                     max_leaves=None, min_child_weight=None,\n",
       "                                     missing=nan, monotone_constraints=None,\n",
       "                                     n_estimators=100, n_jobs=None,\n",
       "                                     num_parallel_tree=None, predictor=None,\n",
       "                                     random_state=None, ...),\n",
       "             param_grid={'learning_rate': [0.1, 0.2, 0.5, 1],\n",
       "                         'max_depth': [4, 5, 6, 7],\n",
       "                         'n_estimators': [14, 15, 16, 17]})"
      ]
     },
     "execution_count": 237,
     "metadata": {},
     "output_type": "execute_result"
    },
    {
     "data": {
      "application/javascript": [
       "\n",
       "            setTimeout(function() {\n",
       "                var nbb_cell_id = 237;\n",
       "                var nbb_unformatted_code = \"clf.fit(X_train, y_train)\";\n",
       "                var nbb_formatted_code = \"clf.fit(X_train, y_train)\";\n",
       "                var nbb_cells = Jupyter.notebook.get_cells();\n",
       "                for (var i = 0; i < nbb_cells.length; ++i) {\n",
       "                    if (nbb_cells[i].input_prompt_number == nbb_cell_id) {\n",
       "                        if (nbb_cells[i].get_text() == nbb_unformatted_code) {\n",
       "                             nbb_cells[i].set_text(nbb_formatted_code);\n",
       "                        }\n",
       "                        break;\n",
       "                    }\n",
       "                }\n",
       "            }, 500);\n",
       "            "
      ],
      "text/plain": [
       "<IPython.core.display.Javascript object>"
      ]
     },
     "metadata": {},
     "output_type": "display_data"
    }
   ],
   "source": [
    "clf.fit(X_train, y_train)"
   ]
  },
  {
   "cell_type": "code",
   "execution_count": 238,
   "id": "cfad7019",
   "metadata": {},
   "outputs": [
    {
     "data": {
      "application/javascript": [
       "\n",
       "            setTimeout(function() {\n",
       "                var nbb_cell_id = 238;\n",
       "                var nbb_unformatted_code = \"y_pred = clf.best_estimator_.predict(X_test)\";\n",
       "                var nbb_formatted_code = \"y_pred = clf.best_estimator_.predict(X_test)\";\n",
       "                var nbb_cells = Jupyter.notebook.get_cells();\n",
       "                for (var i = 0; i < nbb_cells.length; ++i) {\n",
       "                    if (nbb_cells[i].input_prompt_number == nbb_cell_id) {\n",
       "                        if (nbb_cells[i].get_text() == nbb_unformatted_code) {\n",
       "                             nbb_cells[i].set_text(nbb_formatted_code);\n",
       "                        }\n",
       "                        break;\n",
       "                    }\n",
       "                }\n",
       "            }, 500);\n",
       "            "
      ],
      "text/plain": [
       "<IPython.core.display.Javascript object>"
      ]
     },
     "metadata": {},
     "output_type": "display_data"
    }
   ],
   "source": [
    "y_pred = clf.best_estimator_.predict(X_test)"
   ]
  },
  {
   "cell_type": "code",
   "execution_count": 239,
   "id": "70446be6",
   "metadata": {},
   "outputs": [
    {
     "data": {
      "text/html": [
       "<div>\n",
       "<style scoped>\n",
       "    .dataframe tbody tr th:only-of-type {\n",
       "        vertical-align: middle;\n",
       "    }\n",
       "\n",
       "    .dataframe tbody tr th {\n",
       "        vertical-align: top;\n",
       "    }\n",
       "\n",
       "    .dataframe thead th {\n",
       "        text-align: right;\n",
       "    }\n",
       "</style>\n",
       "<table border=\"1\" class=\"dataframe\">\n",
       "  <thead>\n",
       "    <tr style=\"text-align: right;\">\n",
       "      <th></th>\n",
       "      <th>0_predict</th>\n",
       "      <th>1_predict</th>\n",
       "    </tr>\n",
       "  </thead>\n",
       "  <tbody>\n",
       "    <tr>\n",
       "      <th>0_true</th>\n",
       "      <td>573</td>\n",
       "      <td>51</td>\n",
       "    </tr>\n",
       "    <tr>\n",
       "      <th>1_true</th>\n",
       "      <td>37</td>\n",
       "      <td>3443</td>\n",
       "    </tr>\n",
       "  </tbody>\n",
       "</table>\n",
       "</div>"
      ],
      "text/plain": [
       "        0_predict  1_predict\n",
       "0_true        573         51\n",
       "1_true         37       3443"
      ]
     },
     "execution_count": 239,
     "metadata": {},
     "output_type": "execute_result"
    },
    {
     "data": {
      "application/javascript": [
       "\n",
       "            setTimeout(function() {\n",
       "                var nbb_cell_id = 239;\n",
       "                var nbb_unformatted_code = \"cm = confusion_matrix(y_test, y_pred)\\ntn, fp, fn, tp = cm.ravel()\\npd.DataFrame(\\n    cm,\\n    columns=[\\\"0_predict\\\", \\\"1_predict\\\"],\\n    index=[\\\"0_true\\\", \\\"1_true\\\"],\\n)\";\n",
       "                var nbb_formatted_code = \"cm = confusion_matrix(y_test, y_pred)\\ntn, fp, fn, tp = cm.ravel()\\npd.DataFrame(\\n    cm,\\n    columns=[\\\"0_predict\\\", \\\"1_predict\\\"],\\n    index=[\\\"0_true\\\", \\\"1_true\\\"],\\n)\";\n",
       "                var nbb_cells = Jupyter.notebook.get_cells();\n",
       "                for (var i = 0; i < nbb_cells.length; ++i) {\n",
       "                    if (nbb_cells[i].input_prompt_number == nbb_cell_id) {\n",
       "                        if (nbb_cells[i].get_text() == nbb_unformatted_code) {\n",
       "                             nbb_cells[i].set_text(nbb_formatted_code);\n",
       "                        }\n",
       "                        break;\n",
       "                    }\n",
       "                }\n",
       "            }, 500);\n",
       "            "
      ],
      "text/plain": [
       "<IPython.core.display.Javascript object>"
      ]
     },
     "metadata": {},
     "output_type": "display_data"
    }
   ],
   "source": [
    "cm = confusion_matrix(y_test, y_pred)\n",
    "tn, fp, fn, tp = cm.ravel()\n",
    "pd.DataFrame(\n",
    "    cm,\n",
    "    columns=[\"0_predict\", \"1_predict\"],\n",
    "    index=[\"0_true\", \"1_true\"],\n",
    ")"
   ]
  },
  {
   "cell_type": "code",
   "execution_count": 240,
   "id": "ce9d5954",
   "metadata": {},
   "outputs": [
    {
     "data": {
      "text/plain": [
       "0.08173076923076923"
      ]
     },
     "execution_count": 240,
     "metadata": {},
     "output_type": "execute_result"
    },
    {
     "data": {
      "application/javascript": [
       "\n",
       "            setTimeout(function() {\n",
       "                var nbb_cell_id = 240;\n",
       "                var nbb_unformatted_code = \"FPR = fp / (tn + fp)\\nFPR\";\n",
       "                var nbb_formatted_code = \"FPR = fp / (tn + fp)\\nFPR\";\n",
       "                var nbb_cells = Jupyter.notebook.get_cells();\n",
       "                for (var i = 0; i < nbb_cells.length; ++i) {\n",
       "                    if (nbb_cells[i].input_prompt_number == nbb_cell_id) {\n",
       "                        if (nbb_cells[i].get_text() == nbb_unformatted_code) {\n",
       "                             nbb_cells[i].set_text(nbb_formatted_code);\n",
       "                        }\n",
       "                        break;\n",
       "                    }\n",
       "                }\n",
       "            }, 500);\n",
       "            "
      ],
      "text/plain": [
       "<IPython.core.display.Javascript object>"
      ]
     },
     "metadata": {},
     "output_type": "display_data"
    }
   ],
   "source": [
    "FPR = fp / (tn + fp)\n",
    "FPR"
   ]
  },
  {
   "cell_type": "code",
   "execution_count": 241,
   "id": "0ae08d3d",
   "metadata": {},
   "outputs": [
    {
     "data": {
      "text/plain": [
       "(0.9873817034700314, 0.9785575048732943, 0.9854035489410418, 0.989367816091954)"
      ]
     },
     "execution_count": 241,
     "metadata": {},
     "output_type": "execute_result"
    },
    {
     "data": {
      "application/javascript": [
       "\n",
       "            setTimeout(function() {\n",
       "                var nbb_cell_id = 241;\n",
       "                var nbb_unformatted_code = \"f1_score(y_test, y_pred), accuracy_score(y_test, y_pred), precision_score(\\n    y_test, y_pred\\n), recall_score(y_test, y_pred)\";\n",
       "                var nbb_formatted_code = \"f1_score(y_test, y_pred), accuracy_score(y_test, y_pred), precision_score(\\n    y_test, y_pred\\n), recall_score(y_test, y_pred)\";\n",
       "                var nbb_cells = Jupyter.notebook.get_cells();\n",
       "                for (var i = 0; i < nbb_cells.length; ++i) {\n",
       "                    if (nbb_cells[i].input_prompt_number == nbb_cell_id) {\n",
       "                        if (nbb_cells[i].get_text() == nbb_unformatted_code) {\n",
       "                             nbb_cells[i].set_text(nbb_formatted_code);\n",
       "                        }\n",
       "                        break;\n",
       "                    }\n",
       "                }\n",
       "            }, 500);\n",
       "            "
      ],
      "text/plain": [
       "<IPython.core.display.Javascript object>"
      ]
     },
     "metadata": {},
     "output_type": "display_data"
    }
   ],
   "source": [
    "f1_score(y_test, y_pred), accuracy_score(y_test, y_pred), precision_score(\n",
    "    y_test, y_pred\n",
    "), recall_score(y_test, y_pred)"
   ]
  },
  {
   "cell_type": "code",
   "execution_count": 242,
   "id": "f2616529",
   "metadata": {},
   "outputs": [
    {
     "data": {
      "text/plain": [
       "<Axes: title={'center': 'Feature importance'}, xlabel='F score', ylabel='Features'>"
      ]
     },
     "execution_count": 242,
     "metadata": {},
     "output_type": "execute_result"
    },
    {
     "data": {
      "image/png": "[encoded data removed]",
      "text/plain": [
       "<Figure size 640x480 with 1 Axes>"
      ]
     },
     "metadata": {},
     "output_type": "display_data"
    },
    {
     "data": {
      "application/javascript": [
       "\n",
       "            setTimeout(function() {\n",
       "                var nbb_cell_id = 242;\n",
       "                var nbb_unformatted_code = \"xgboost.plot_importance(clf.best_estimator_)\";\n",
       "                var nbb_formatted_code = \"xgboost.plot_importance(clf.best_estimator_)\";\n",
       "                var nbb_cells = Jupyter.notebook.get_cells();\n",
       "                for (var i = 0; i < nbb_cells.length; ++i) {\n",
       "                    if (nbb_cells[i].input_prompt_number == nbb_cell_id) {\n",
       "                        if (nbb_cells[i].get_text() == nbb_unformatted_code) {\n",
       "                             nbb_cells[i].set_text(nbb_formatted_code);\n",
       "                        }\n",
       "                        break;\n",
       "                    }\n",
       "                }\n",
       "            }, 500);\n",
       "            "
      ],
      "text/plain": [
       "<IPython.core.display.Javascript object>"
      ]
     },
     "metadata": {},
     "output_type": "display_data"
    }
   ],
   "source": [
    "xgboost.plot_importance(clf.best_estimator_)"
   ]
  },
  {
   "cell_type": "code",
   "execution_count": 243,
   "id": "7adf9038",
   "metadata": {},
   "outputs": [
    {
     "data": {
      "text/html": [
       "<style>#sk-container-id-4 {color: black;background-color: white;}#sk-container-id-4 pre{padding: 0;}#sk-container-id-4 div.sk-toggleable {background-color: white;}#sk-container-id-4 label.sk-toggleable__label {cursor: pointer;display: block;width: 100%;margin-bottom: 0;padding: 0.3em;box-sizing: border-box;text-align: center;}#sk-container-id-4 label.sk-toggleable__label-arrow:before {content: \"▸\";float: left;margin-right: 0.25em;color: #696969;}#sk-container-id-4 label.sk-toggleable__label-arrow:hover:before {color: black;}#sk-container-id-4 div.sk-estimator:hover label.sk-toggleable__label-arrow:before {color: black;}#sk-container-id-4 div.sk-toggleable__content {max-height: 0;max-width: 0;overflow: hidden;text-align: left;background-color: #f0f8ff;}#sk-container-id-4 div.sk-toggleable__content pre {margin: 0.2em;color: black;border-radius: 0.25em;background-color: #f0f8ff;}#sk-container-id-4 input.sk-toggleable__control:checked~div.sk-toggleable__content {max-height: 200px;max-width: 100%;overflow: auto;}#sk-container-id-4 input.sk-toggleable__control:checked~label.sk-toggleable__label-arrow:before {content: \"▾\";}#sk-container-id-4 div.sk-estimator input.sk-toggleable__control:checked~label.sk-toggleable__label {background-color: #d4ebff;}#sk-container-id-4 div.sk-label input.sk-toggleable__control:checked~label.sk-toggleable__label {background-color: #d4ebff;}#sk-container-id-4 input.sk-hidden--visually {border: 0;clip: rect(1px 1px 1px 1px);clip: rect(1px, 1px, 1px, 1px);height: 1px;margin: -1px;overflow: hidden;padding: 0;position: absolute;width: 1px;}#sk-container-id-4 div.sk-estimator {font-family: monospace;background-color: #f0f8ff;border: 1px dotted black;border-radius: 0.25em;box-sizing: border-box;margin-bottom: 0.5em;}#sk-container-id-4 div.sk-estimator:hover {background-color: #d4ebff;}#sk-container-id-4 div.sk-parallel-item::after {content: \"\";width: 100%;border-bottom: 1px solid gray;flex-grow: 1;}#sk-container-id-4 div.sk-label:hover label.sk-toggleable__label {background-color: #d4ebff;}#sk-container-id-4 div.sk-serial::before {content: \"\";position: absolute;border-left: 1px solid gray;box-sizing: border-box;top: 0;bottom: 0;left: 50%;z-index: 0;}#sk-container-id-4 div.sk-serial {display: flex;flex-direction: column;align-items: center;background-color: white;padding-right: 0.2em;padding-left: 0.2em;position: relative;}#sk-container-id-4 div.sk-item {position: relative;z-index: 1;}#sk-container-id-4 div.sk-parallel {display: flex;align-items: stretch;justify-content: center;background-color: white;position: relative;}#sk-container-id-4 div.sk-item::before, #sk-container-id-4 div.sk-parallel-item::before {content: \"\";position: absolute;border-left: 1px solid gray;box-sizing: border-box;top: 0;bottom: 0;left: 50%;z-index: -1;}#sk-container-id-4 div.sk-parallel-item {display: flex;flex-direction: column;z-index: 1;position: relative;background-color: white;}#sk-container-id-4 div.sk-parallel-item:first-child::after {align-self: flex-end;width: 50%;}#sk-container-id-4 div.sk-parallel-item:last-child::after {align-self: flex-start;width: 50%;}#sk-container-id-4 div.sk-parallel-item:only-child::after {width: 0;}#sk-container-id-4 div.sk-dashed-wrapped {border: 1px dashed gray;margin: 0 0.4em 0.5em 0.4em;box-sizing: border-box;padding-bottom: 0.4em;background-color: white;}#sk-container-id-4 div.sk-label label {font-family: monospace;font-weight: bold;display: inline-block;line-height: 1.2em;}#sk-container-id-4 div.sk-label-container {text-align: center;}#sk-container-id-4 div.sk-container {/* jupyter's `normalize.less` sets `[hidden] { display: none; }` but bootstrap.min.css set `[hidden] { display: none !important; }` so we also need the `!important` here to be able to override the default hidden behavior on the sphinx rendered scikit-learn.org. See: https://github.com/scikit-learn/scikit-learn/issues/21755 */display: inline-block !important;position: relative;}#sk-container-id-4 div.sk-text-repr-fallback {display: none;}</style><div id=\"sk-container-id-4\" class=\"sk-top-container\"><div class=\"sk-text-repr-fallback\"><pre>XGBClassifier(base_score=None, booster=None, callbacks=None,\n",
       "              colsample_bylevel=None, colsample_bynode=None,\n",
       "              colsample_bytree=None, early_stopping_rounds=None,\n",
       "              enable_categorical=False, eval_metric=None, feature_types=None,\n",
       "              gamma=None, gpu_id=None, grow_policy=None, importance_type=None,\n",
       "              interaction_constraints=None, learning_rate=0.5, max_bin=None,\n",
       "              max_cat_threshold=None, max_cat_to_onehot=None,\n",
       "              max_delta_step=None, max_depth=7, max_leaves=None,\n",
       "              min_child_weight=None, missing=nan, monotone_constraints=None,\n",
       "              n_estimators=16, n_jobs=None, num_parallel_tree=None,\n",
       "              predictor=None, random_state=None, ...)</pre><b>In a Jupyter environment, please rerun this cell to show the HTML representation or trust the notebook. <br />On GitHub, the HTML representation is unable to render, please try loading this page with nbviewer.org.</b></div><div class=\"sk-container\" hidden><div class=\"sk-item\"><div class=\"sk-estimator sk-toggleable\"><input class=\"sk-toggleable__control sk-hidden--visually\" id=\"sk-estimator-id-8\" type=\"checkbox\" checked><label for=\"sk-estimator-id-8\" class=\"sk-toggleable__label sk-toggleable__label-arrow\">XGBClassifier</label><div class=\"sk-toggleable__content\"><pre>XGBClassifier(base_score=None, booster=None, callbacks=None,\n",
       "              colsample_bylevel=None, colsample_bynode=None,\n",
       "              colsample_bytree=None, early_stopping_rounds=None,\n",
       "              enable_categorical=False, eval_metric=None, feature_types=None,\n",
       "              gamma=None, gpu_id=None, grow_policy=None, importance_type=None,\n",
       "              interaction_constraints=None, learning_rate=0.5, max_bin=None,\n",
       "              max_cat_threshold=None, max_cat_to_onehot=None,\n",
       "              max_delta_step=None, max_depth=7, max_leaves=None,\n",
       "              min_child_weight=None, missing=nan, monotone_constraints=None,\n",
       "              n_estimators=16, n_jobs=None, num_parallel_tree=None,\n",
       "              predictor=None, random_state=None, ...)</pre></div></div></div></div></div>"
      ],
      "text/plain": [
       "XGBClassifier(base_score=None, booster=None, callbacks=None,\n",
       "              colsample_bylevel=None, colsample_bynode=None,\n",
       "              colsample_bytree=None, early_stopping_rounds=None,\n",
       "              enable_categorical=False, eval_metric=None, feature_types=None,\n",
       "              gamma=None, gpu_id=None, grow_policy=None, importance_type=None,\n",
       "              interaction_constraints=None, learning_rate=0.5, max_bin=None,\n",
       "              max_cat_threshold=None, max_cat_to_onehot=None,\n",
       "              max_delta_step=None, max_depth=7, max_leaves=None,\n",
       "              min_child_weight=None, missing=nan, monotone_constraints=None,\n",
       "              n_estimators=16, n_jobs=None, num_parallel_tree=None,\n",
       "              predictor=None, random_state=None, ...)"
      ]
     },
     "execution_count": 243,
     "metadata": {},
     "output_type": "execute_result"
    },
    {
     "data": {
      "application/javascript": [
       "\n",
       "            setTimeout(function() {\n",
       "                var nbb_cell_id = 243;\n",
       "                var nbb_unformatted_code = \"clf.best_estimator_\";\n",
       "                var nbb_formatted_code = \"clf.best_estimator_\";\n",
       "                var nbb_cells = Jupyter.notebook.get_cells();\n",
       "                for (var i = 0; i < nbb_cells.length; ++i) {\n",
       "                    if (nbb_cells[i].input_prompt_number == nbb_cell_id) {\n",
       "                        if (nbb_cells[i].get_text() == nbb_unformatted_code) {\n",
       "                             nbb_cells[i].set_text(nbb_formatted_code);\n",
       "                        }\n",
       "                        break;\n",
       "                    }\n",
       "                }\n",
       "            }, 500);\n",
       "            "
      ],
      "text/plain": [
       "<IPython.core.display.Javascript object>"
      ]
     },
     "metadata": {},
     "output_type": "display_data"
    }
   ],
   "source": [
    "clf.best_estimator_"
   ]
  },
  {
   "cell_type": "code",
   "execution_count": null,
   "id": "2273b3b3",
   "metadata": {},
   "outputs": [],
   "source": []
  }
 ],
 "metadata": {
  "kernelspec": {
   "display_name": "Python 3 (ipykernel)",
   "language": "python",
   "name": "python3"
  },
  "language_info": {
   "codemirror_mode": {
    "name": "ipython",
    "version": 3
   },
   "file_extension": ".py",
   "mimetype": "text/x-python",
   "name": "python",
   "nbconvert_exporter": "python",
   "pygments_lexer": "ipython3",
   "version": "3.10.9"
  }
 },
 "nbformat": 4,
 "nbformat_minor": 5
}
