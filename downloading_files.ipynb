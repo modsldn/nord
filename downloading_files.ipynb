{
 "cells": [
  {
   "cell_type": "code",
   "execution_count": 1,
   "id": "f565f1e2",
   "metadata": {},
   "outputs": [
    {
     "data": {
      "text/html": [
       "<style>.container { width:90% !important; }</style>"
      ],
      "text/plain": [
       "<IPython.core.display.HTML object>"
      ]
     },
     "metadata": {},
     "output_type": "display_data"
    }
   ],
   "source": [
    "from IPython.display import display, HTML\n",
    "display(HTML(\"<style>.container { width:90% !important; }</style>\"))"
   ]
  },
  {
   "cell_type": "code",
   "execution_count": 2,
   "id": "3df5d3f3",
   "metadata": {},
   "outputs": [
    {
     "data": {
      "application/javascript": [
       "\n",
       "            setTimeout(function() {\n",
       "                var nbb_cell_id = 2;\n",
       "                var nbb_unformatted_code = \"%load_ext nb_black\";\n",
       "                var nbb_formatted_code = \"%load_ext nb_black\";\n",
       "                var nbb_cells = Jupyter.notebook.get_cells();\n",
       "                for (var i = 0; i < nbb_cells.length; ++i) {\n",
       "                    if (nbb_cells[i].input_prompt_number == nbb_cell_id) {\n",
       "                        if (nbb_cells[i].get_text() == nbb_unformatted_code) {\n",
       "                             nbb_cells[i].set_text(nbb_formatted_code);\n",
       "                        }\n",
       "                        break;\n",
       "                    }\n",
       "                }\n",
       "            }, 500);\n",
       "            "
      ],
      "text/plain": [
       "<IPython.core.display.Javascript object>"
      ]
     },
     "metadata": {},
     "output_type": "display_data"
    }
   ],
   "source": [
    "%load_ext nb_black"
   ]
  },
  {
   "cell_type": "markdown",
   "id": "e4edbab0",
   "metadata": {},
   "source": [
    "# Downloading files "
   ]
  },
  {
   "cell_type": "code",
   "execution_count": 3,
   "id": "3af1ab29",
   "metadata": {},
   "outputs": [
    {
     "data": {
      "application/javascript": [
       "\n",
       "            setTimeout(function() {\n",
       "                var nbb_cell_id = 3;\n",
       "                var nbb_unformatted_code = \"import concurrent.futures\\nimport os \\n\\nfrom bs4 import BeautifulSoup\\nimport requests\";\n",
       "                var nbb_formatted_code = \"import concurrent.futures\\nimport os\\n\\nfrom bs4 import BeautifulSoup\\nimport requests\";\n",
       "                var nbb_cells = Jupyter.notebook.get_cells();\n",
       "                for (var i = 0; i < nbb_cells.length; ++i) {\n",
       "                    if (nbb_cells[i].input_prompt_number == nbb_cell_id) {\n",
       "                        if (nbb_cells[i].get_text() == nbb_unformatted_code) {\n",
       "                             nbb_cells[i].set_text(nbb_formatted_code);\n",
       "                        }\n",
       "                        break;\n",
       "                    }\n",
       "                }\n",
       "            }, 500);\n",
       "            "
      ],
      "text/plain": [
       "<IPython.core.display.Javascript object>"
      ]
     },
     "metadata": {},
     "output_type": "display_data"
    }
   ],
   "source": [
    "import concurrent.futures\n",
    "import os\n",
    "\n",
    "from bs4 import BeautifulSoup\n",
    "import requests"
   ]
  },
  {
   "cell_type": "code",
   "execution_count": 4,
   "id": "bdaf1165",
   "metadata": {},
   "outputs": [
    {
     "data": {
      "application/javascript": [
       "\n",
       "            setTimeout(function() {\n",
       "                var nbb_cell_id = 4;\n",
       "                var nbb_unformatted_code = \"data_path = \\\"https://s3-nord-challenge-data.s3.eu-central-1.amazonaws.com\\\"\\npath_clean_files = (\\n    \\\"https://s3-nord-challenge-data.s3.eu-central-1.amazonaws.com/0/00Tree.html\\\"\\n)\\npath_infected_files = (\\n    \\\"https://s3-nord-challenge-data.s3.eu-central-1.amazonaws.com/1/00Tree.html\\\"\\n)\";\n",
       "                var nbb_formatted_code = \"data_path = \\\"https://s3-nord-challenge-data.s3.eu-central-1.amazonaws.com\\\"\\npath_clean_files = (\\n    \\\"https://s3-nord-challenge-data.s3.eu-central-1.amazonaws.com/0/00Tree.html\\\"\\n)\\npath_infected_files = (\\n    \\\"https://s3-nord-challenge-data.s3.eu-central-1.amazonaws.com/1/00Tree.html\\\"\\n)\";\n",
       "                var nbb_cells = Jupyter.notebook.get_cells();\n",
       "                for (var i = 0; i < nbb_cells.length; ++i) {\n",
       "                    if (nbb_cells[i].input_prompt_number == nbb_cell_id) {\n",
       "                        if (nbb_cells[i].get_text() == nbb_unformatted_code) {\n",
       "                             nbb_cells[i].set_text(nbb_formatted_code);\n",
       "                        }\n",
       "                        break;\n",
       "                    }\n",
       "                }\n",
       "            }, 500);\n",
       "            "
      ],
      "text/plain": [
       "<IPython.core.display.Javascript object>"
      ]
     },
     "metadata": {},
     "output_type": "display_data"
    }
   ],
   "source": [
    "data_path = \"https://s3-nord-challenge-data.s3.eu-central-1.amazonaws.com\"\n",
    "path_clean_files = (\n",
    "    \"https://s3-nord-challenge-data.s3.eu-central-1.amazonaws.com/0/00Tree.html\"\n",
    ")\n",
    "path_infected_files = (\n",
    "    \"https://s3-nord-challenge-data.s3.eu-central-1.amazonaws.com/1/00Tree.html\"\n",
    ")"
   ]
  },
  {
   "cell_type": "code",
   "execution_count": 5,
   "id": "771a7d5a",
   "metadata": {
    "scrolled": false
   },
   "outputs": [
    {
     "data": {
      "application/javascript": [
       "\n",
       "            setTimeout(function() {\n",
       "                var nbb_cell_id = 5;\n",
       "                var nbb_unformatted_code = \"def get_file_paths(path_to_class):\\n    source_code = requests.get(path_to_class)\\n    soup = BeautifulSoup(source_code.content)\\n    data = []\\n    for link in soup.find_all(\\\"a\\\", href=True):\\n        link_string = str(link.get(\\\"href\\\"))\\n        if not link_string.endswith(\\\"html\\\"):\\n            data.append(link_string)\\n    return data\";\n",
       "                var nbb_formatted_code = \"def get_file_paths(path_to_class):\\n    source_code = requests.get(path_to_class)\\n    soup = BeautifulSoup(source_code.content)\\n    data = []\\n    for link in soup.find_all(\\\"a\\\", href=True):\\n        link_string = str(link.get(\\\"href\\\"))\\n        if not link_string.endswith(\\\"html\\\"):\\n            data.append(link_string)\\n    return data\";\n",
       "                var nbb_cells = Jupyter.notebook.get_cells();\n",
       "                for (var i = 0; i < nbb_cells.length; ++i) {\n",
       "                    if (nbb_cells[i].input_prompt_number == nbb_cell_id) {\n",
       "                        if (nbb_cells[i].get_text() == nbb_unformatted_code) {\n",
       "                             nbb_cells[i].set_text(nbb_formatted_code);\n",
       "                        }\n",
       "                        break;\n",
       "                    }\n",
       "                }\n",
       "            }, 500);\n",
       "            "
      ],
      "text/plain": [
       "<IPython.core.display.Javascript object>"
      ]
     },
     "metadata": {},
     "output_type": "display_data"
    }
   ],
   "source": [
    "def get_file_paths(path_to_class):\n",
    "    source_code = requests.get(path_to_class)\n",
    "    soup = BeautifulSoup(source_code.content)\n",
    "    data = []\n",
    "    for link in soup.find_all(\"a\", href=True):\n",
    "        link_string = str(link.get(\"href\"))\n",
    "        if not link_string.endswith(\"html\"):\n",
    "            data.append(link_string)\n",
    "    return data"
   ]
  },
  {
   "cell_type": "code",
   "execution_count": 6,
   "id": "922fe304",
   "metadata": {
    "scrolled": false
   },
   "outputs": [
    {
     "data": {
      "application/javascript": [
       "\n",
       "            setTimeout(function() {\n",
       "                var nbb_cell_id = 6;\n",
       "                var nbb_unformatted_code = \"clean_file_list = get_file_paths(path_clean_files)\\ninfected_file_list = get_file_paths(path_infected_files)\";\n",
       "                var nbb_formatted_code = \"clean_file_list = get_file_paths(path_clean_files)\\ninfected_file_list = get_file_paths(path_infected_files)\";\n",
       "                var nbb_cells = Jupyter.notebook.get_cells();\n",
       "                for (var i = 0; i < nbb_cells.length; ++i) {\n",
       "                    if (nbb_cells[i].input_prompt_number == nbb_cell_id) {\n",
       "                        if (nbb_cells[i].get_text() == nbb_unformatted_code) {\n",
       "                             nbb_cells[i].set_text(nbb_formatted_code);\n",
       "                        }\n",
       "                        break;\n",
       "                    }\n",
       "                }\n",
       "            }, 500);\n",
       "            "
      ],
      "text/plain": [
       "<IPython.core.display.Javascript object>"
      ]
     },
     "metadata": {},
     "output_type": "display_data"
    }
   ],
   "source": [
    "clean_file_list = get_file_paths(path_clean_files)\n",
    "infected_file_list = get_file_paths(path_infected_files)"
   ]
  },
  {
   "cell_type": "code",
   "execution_count": 7,
   "id": "495ede6d",
   "metadata": {},
   "outputs": [
    {
     "data": {
      "application/javascript": [
       "\n",
       "            setTimeout(function() {\n",
       "                var nbb_cell_id = 7;\n",
       "                var nbb_unformatted_code = \"def download_file(url):\\n    class_name, local_filename = url.split(\\\"/\\\")[-2:]\\n    local_file_path = os.path.join(\\\"data\\\", class_name)\\n    with requests.get(url, stream=True) as r:\\n        r.raise_for_status()\\n        with open(os.path.join(local_file_path, local_filename), \\\"wb\\\") as f:\\n            for chunk in r.iter_content(chunk_size=8192):  ## why chunk size 8192??\\n                f.write(chunk)\\n    return local_filename\";\n",
       "                var nbb_formatted_code = \"def download_file(url):\\n    class_name, local_filename = url.split(\\\"/\\\")[-2:]\\n    local_file_path = os.path.join(\\\"data\\\", class_name)\\n    with requests.get(url, stream=True) as r:\\n        r.raise_for_status()\\n        with open(os.path.join(local_file_path, local_filename), \\\"wb\\\") as f:\\n            for chunk in r.iter_content(chunk_size=8192):  ## why chunk size 8192??\\n                f.write(chunk)\\n    return local_filename\";\n",
       "                var nbb_cells = Jupyter.notebook.get_cells();\n",
       "                for (var i = 0; i < nbb_cells.length; ++i) {\n",
       "                    if (nbb_cells[i].input_prompt_number == nbb_cell_id) {\n",
       "                        if (nbb_cells[i].get_text() == nbb_unformatted_code) {\n",
       "                             nbb_cells[i].set_text(nbb_formatted_code);\n",
       "                        }\n",
       "                        break;\n",
       "                    }\n",
       "                }\n",
       "            }, 500);\n",
       "            "
      ],
      "text/plain": [
       "<IPython.core.display.Javascript object>"
      ]
     },
     "metadata": {},
     "output_type": "display_data"
    }
   ],
   "source": [
    "def download_file(url):\n",
    "    class_name, local_filename = url.split(\"/\")[-2:]\n",
    "    local_file_path = os.path.join(\"data\", class_name)\n",
    "    with requests.get(url, stream=True) as r:\n",
    "        r.raise_for_status()\n",
    "        with open(os.path.join(local_file_path, local_filename), \"wb\") as f:\n",
    "            for chunk in r.iter_content(chunk_size=8192):  ## chunk size is any integery. \n",
    "                f.write(chunk)\n",
    "    return local_filename"
   ]
  },
  {
   "cell_type": "code",
   "execution_count": 8,
   "id": "5b3af34e",
   "metadata": {},
   "outputs": [
    {
     "data": {
      "application/javascript": [
       "\n",
       "            setTimeout(function() {\n",
       "                var nbb_cell_id = 8;\n",
       "                var nbb_unformatted_code = \"clean_file_paths = [data_path + file_name for file_name in clean_file_list]\\ninfected_file_paths = [data_path + file_name for file_name in infected_file_list]\";\n",
       "                var nbb_formatted_code = \"clean_file_paths = [data_path + file_name for file_name in clean_file_list]\\ninfected_file_paths = [data_path + file_name for file_name in infected_file_list]\";\n",
       "                var nbb_cells = Jupyter.notebook.get_cells();\n",
       "                for (var i = 0; i < nbb_cells.length; ++i) {\n",
       "                    if (nbb_cells[i].input_prompt_number == nbb_cell_id) {\n",
       "                        if (nbb_cells[i].get_text() == nbb_unformatted_code) {\n",
       "                             nbb_cells[i].set_text(nbb_formatted_code);\n",
       "                        }\n",
       "                        break;\n",
       "                    }\n",
       "                }\n",
       "            }, 500);\n",
       "            "
      ],
      "text/plain": [
       "<IPython.core.display.Javascript object>"
      ]
     },
     "metadata": {},
     "output_type": "display_data"
    }
   ],
   "source": [
    "clean_file_paths = [data_path + file_name for file_name in clean_file_list]\n",
    "infected_file_paths = [data_path + file_name for file_name in infected_file_list]"
   ]
  },
  {
   "cell_type": "code",
   "execution_count": 1,
   "id": "71d9447e",
   "metadata": {},
   "outputs": [],
   "source": [
    "# %%time\n",
    "# with concurrent.futures.ThreadPoolExecutor(max_workers=100) as exector:\n",
    "#     exector.map(download_file, infected_file_paths)"
   ]
  },
  {
   "cell_type": "code",
   "execution_count": 2,
   "id": "415943f5",
   "metadata": {},
   "outputs": [],
   "source": [
    "# %%time\n",
    "# with concurrent.futures.ThreadPoolExecutor(max_workers=100) as exector:\n",
    "#     exector.map(download_file, clean_file_paths[10_000:])"
   ]
  },
  {
   "cell_type": "code",
   "execution_count": null,
   "id": "0f8d9588",
   "metadata": {},
   "outputs": [],
   "source": []
  }
 ],
 "metadata": {
  "kernelspec": {
   "display_name": "Python 3 (ipykernel)",
   "language": "python",
   "name": "python3"
  },
  "language_info": {
   "codemirror_mode": {
    "name": "ipython",
    "version": 3
   },
   "file_extension": ".py",
   "mimetype": "text/x-python",
   "name": "python",
   "nbconvert_exporter": "python",
   "pygments_lexer": "ipython3",
   "version": "3.10.9"
  }
 },
 "nbformat": 4,
 "nbformat_minor": 5
}
