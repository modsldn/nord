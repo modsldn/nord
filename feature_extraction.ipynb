{
 "cells": [
  {
   "cell_type": "code",
   "execution_count": 1,
   "id": "21f1a9a9",
   "metadata": {},
   "outputs": [
    {
     "data": {
      "text/html": [
       "<style>.container { width:90% !important; }</style>"
      ],
      "text/plain": [
       "<IPython.core.display.HTML object>"
      ]
     },
     "metadata": {},
     "output_type": "display_data"
    }
   ],
   "source": [
    "from IPython.display import display, HTML\n",
    "display(HTML(\"<style>.container { width:90% !important; }</style>\"))"
   ]
  },
  {
   "cell_type": "code",
   "execution_count": 2,
   "id": "23a84569",
   "metadata": {},
   "outputs": [
    {
     "data": {
      "application/javascript": [
       "\n",
       "            setTimeout(function() {\n",
       "                var nbb_cell_id = 2;\n",
       "                var nbb_unformatted_code = \"%load_ext nb_black\";\n",
       "                var nbb_formatted_code = \"%load_ext nb_black\";\n",
       "                var nbb_cells = Jupyter.notebook.get_cells();\n",
       "                for (var i = 0; i < nbb_cells.length; ++i) {\n",
       "                    if (nbb_cells[i].input_prompt_number == nbb_cell_id) {\n",
       "                        if (nbb_cells[i].get_text() == nbb_unformatted_code) {\n",
       "                             nbb_cells[i].set_text(nbb_formatted_code);\n",
       "                        }\n",
       "                        break;\n",
       "                    }\n",
       "                }\n",
       "            }, 500);\n",
       "            "
      ],
      "text/plain": [
       "<IPython.core.display.Javascript object>"
      ]
     },
     "metadata": {},
     "output_type": "display_data"
    }
   ],
   "source": [
    "%load_ext nb_black"
   ]
  },
  {
   "cell_type": "code",
   "execution_count": 23,
   "id": "f5b3d669",
   "metadata": {},
   "outputs": [
    {
     "data": {
      "application/javascript": [
       "\n",
       "            setTimeout(function() {\n",
       "                var nbb_cell_id = 23;\n",
       "                var nbb_unformatted_code = \"import os\\nfrom collections import Counter\\n\\nimport seaborn\";\n",
       "                var nbb_formatted_code = \"import os\\nfrom collections import Counter\\n\\nimport seaborn\";\n",
       "                var nbb_cells = Jupyter.notebook.get_cells();\n",
       "                for (var i = 0; i < nbb_cells.length; ++i) {\n",
       "                    if (nbb_cells[i].input_prompt_number == nbb_cell_id) {\n",
       "                        if (nbb_cells[i].get_text() == nbb_unformatted_code) {\n",
       "                             nbb_cells[i].set_text(nbb_formatted_code);\n",
       "                        }\n",
       "                        break;\n",
       "                    }\n",
       "                }\n",
       "            }, 500);\n",
       "            "
      ],
      "text/plain": [
       "<IPython.core.display.Javascript object>"
      ]
     },
     "metadata": {},
     "output_type": "display_data"
    }
   ],
   "source": [
    "import os\n",
    "from collections import Counter\n",
    "\n",
    "import seaborn"
   ]
  },
  {
   "cell_type": "markdown",
   "id": "51a08836",
   "metadata": {},
   "source": [
    "# File names and sizes\n",
    "1. File extension (95.5% infected files are exe files, 26.7% of non infected files are exe)\n",
    "2. File size distribution is different for clean and infected files. \n",
    "\n",
    "First model should deal with exe files. \n",
    "1. if dll file we classify as non infected. \n",
    "1. if exe file, we check size and calculate probability that it is drawn from infected and noninfected distribution. Based on probability we return class. Sort of Nayve Baess classifier. \n"
   ]
  },
  {
   "cell_type": "markdown",
   "id": "3653a6b6",
   "metadata": {},
   "source": [
    "## Clean files"
   ]
  },
  {
   "cell_type": "code",
   "execution_count": 6,
   "id": "fcc167b6",
   "metadata": {},
   "outputs": [
    {
     "data": {
      "application/javascript": [
       "\n",
       "            setTimeout(function() {\n",
       "                var nbb_cell_id = 6;\n",
       "                var nbb_unformatted_code = \"clean_files = os.listdir('data/0/')\";\n",
       "                var nbb_formatted_code = \"clean_files = os.listdir(\\\"data/0/\\\")\";\n",
       "                var nbb_cells = Jupyter.notebook.get_cells();\n",
       "                for (var i = 0; i < nbb_cells.length; ++i) {\n",
       "                    if (nbb_cells[i].input_prompt_number == nbb_cell_id) {\n",
       "                        if (nbb_cells[i].get_text() == nbb_unformatted_code) {\n",
       "                             nbb_cells[i].set_text(nbb_formatted_code);\n",
       "                        }\n",
       "                        break;\n",
       "                    }\n",
       "                }\n",
       "            }, 500);\n",
       "            "
      ],
      "text/plain": [
       "<IPython.core.display.Javascript object>"
      ]
     },
     "metadata": {},
     "output_type": "display_data"
    }
   ],
   "source": [
    "clean_files = os.listdir(\"data/0/\")"
   ]
  },
  {
   "cell_type": "code",
   "execution_count": 9,
   "id": "d6eda0b5",
   "metadata": {},
   "outputs": [
    {
     "data": {
      "text/plain": [
       "Counter({'dll': 7669, 'exe': 2800})"
      ]
     },
     "execution_count": 9,
     "metadata": {},
     "output_type": "execute_result"
    },
    {
     "data": {
      "application/javascript": [
       "\n",
       "            setTimeout(function() {\n",
       "                var nbb_cell_id = 9;\n",
       "                var nbb_unformatted_code = \"Counter([i.split(\\\".\\\")[-1].lower() for i in clean_files])\";\n",
       "                var nbb_formatted_code = \"Counter([i.split(\\\".\\\")[-1].lower() for i in clean_files])\";\n",
       "                var nbb_cells = Jupyter.notebook.get_cells();\n",
       "                for (var i = 0; i < nbb_cells.length; ++i) {\n",
       "                    if (nbb_cells[i].input_prompt_number == nbb_cell_id) {\n",
       "                        if (nbb_cells[i].get_text() == nbb_unformatted_code) {\n",
       "                             nbb_cells[i].set_text(nbb_formatted_code);\n",
       "                        }\n",
       "                        break;\n",
       "                    }\n",
       "                }\n",
       "            }, 500);\n",
       "            "
      ],
      "text/plain": [
       "<IPython.core.display.Javascript object>"
      ]
     },
     "metadata": {},
     "output_type": "display_data"
    }
   ],
   "source": [
    "Counter([i.split(\".\")[-1].lower() for i in clean_files])"
   ]
  },
  {
   "cell_type": "code",
   "execution_count": 12,
   "id": "ab0987ac",
   "metadata": {},
   "outputs": [
    {
     "data": {
      "text/plain": [
       "Counter({32: 10468, 31: 1})"
      ]
     },
     "execution_count": 12,
     "metadata": {},
     "output_type": "execute_result"
    },
    {
     "data": {
      "application/javascript": [
       "\n",
       "            setTimeout(function() {\n",
       "                var nbb_cell_id = 12;\n",
       "                var nbb_unformatted_code = \"Counter([len(i.split(\\\".\\\")[0]) for i in clean_files])\";\n",
       "                var nbb_formatted_code = \"Counter([len(i.split(\\\".\\\")[0]) for i in clean_files])\";\n",
       "                var nbb_cells = Jupyter.notebook.get_cells();\n",
       "                for (var i = 0; i < nbb_cells.length; ++i) {\n",
       "                    if (nbb_cells[i].input_prompt_number == nbb_cell_id) {\n",
       "                        if (nbb_cells[i].get_text() == nbb_unformatted_code) {\n",
       "                             nbb_cells[i].set_text(nbb_formatted_code);\n",
       "                        }\n",
       "                        break;\n",
       "                    }\n",
       "                }\n",
       "            }, 500);\n",
       "            "
      ],
      "text/plain": [
       "<IPython.core.display.Javascript object>"
      ]
     },
     "metadata": {},
     "output_type": "display_data"
    }
   ],
   "source": [
    "Counter([len(i.split(\".\")[0]) for i in clean_files])"
   ]
  },
  {
   "cell_type": "code",
   "execution_count": 45,
   "id": "50c3e07b",
   "metadata": {},
   "outputs": [
    {
     "data": {
      "text/plain": [
       "0.2674562995510555"
      ]
     },
     "execution_count": 45,
     "metadata": {},
     "output_type": "execute_result"
    },
    {
     "data": {
      "application/javascript": [
       "\n",
       "            setTimeout(function() {\n",
       "                var nbb_cell_id = 45;\n",
       "                var nbb_unformatted_code = \"2800/10469\";\n",
       "                var nbb_formatted_code = \"2800 / 10469\";\n",
       "                var nbb_cells = Jupyter.notebook.get_cells();\n",
       "                for (var i = 0; i < nbb_cells.length; ++i) {\n",
       "                    if (nbb_cells[i].input_prompt_number == nbb_cell_id) {\n",
       "                        if (nbb_cells[i].get_text() == nbb_unformatted_code) {\n",
       "                             nbb_cells[i].set_text(nbb_formatted_code);\n",
       "                        }\n",
       "                        break;\n",
       "                    }\n",
       "                }\n",
       "            }, 500);\n",
       "            "
      ],
      "text/plain": [
       "<IPython.core.display.Javascript object>"
      ]
     },
     "metadata": {},
     "output_type": "display_data"
    }
   ],
   "source": [
    "2800 / 10469"
   ]
  },
  {
   "cell_type": "code",
   "execution_count": 17,
   "id": "9b5b0cb1",
   "metadata": {},
   "outputs": [
    {
     "data": {
      "text/plain": [
       "Counter({'v': 10849,\n",
       "         'w': 10760,\n",
       "         'l': 10913,\n",
       "         '6': 5435,\n",
       "         'i': 10871,\n",
       "         'm': 10900,\n",
       "         'z': 10819,\n",
       "         'd': 10744,\n",
       "         'b': 10744,\n",
       "         't': 10768,\n",
       "         'y': 10776,\n",
       "         'c': 10844,\n",
       "         'k': 10663,\n",
       "         'h': 10897,\n",
       "         '2': 5429,\n",
       "         'f': 10796,\n",
       "         'u': 10649,\n",
       "         'x': 10808,\n",
       "         'o': 10690,\n",
       "         'r': 10831,\n",
       "         '5': 5381,\n",
       "         'n': 10897,\n",
       "         '4': 5427,\n",
       "         'p': 10819,\n",
       "         'j': 10819,\n",
       "         'a': 10657,\n",
       "         '1': 5423,\n",
       "         's': 10815,\n",
       "         'q': 10864,\n",
       "         '3': 5291,\n",
       "         '7': 5569,\n",
       "         'g': 10910,\n",
       "         'e': 10745,\n",
       "         '9': 5328,\n",
       "         '0': 5406,\n",
       "         '8': 5470})"
      ]
     },
     "execution_count": 17,
     "metadata": {},
     "output_type": "execute_result"
    },
    {
     "data": {
      "application/javascript": [
       "\n",
       "            setTimeout(function() {\n",
       "                var nbb_cell_id = 17;\n",
       "                var nbb_unformatted_code = \"Counter(\\\"\\\".join([i.split(\\\".\\\")[0].lower() for i in clean_files]))\";\n",
       "                var nbb_formatted_code = \"Counter(\\\"\\\".join([i.split(\\\".\\\")[0].lower() for i in clean_files]))\";\n",
       "                var nbb_cells = Jupyter.notebook.get_cells();\n",
       "                for (var i = 0; i < nbb_cells.length; ++i) {\n",
       "                    if (nbb_cells[i].input_prompt_number == nbb_cell_id) {\n",
       "                        if (nbb_cells[i].get_text() == nbb_unformatted_code) {\n",
       "                             nbb_cells[i].set_text(nbb_formatted_code);\n",
       "                        }\n",
       "                        break;\n",
       "                    }\n",
       "                }\n",
       "            }, 500);\n",
       "            "
      ],
      "text/plain": [
       "<IPython.core.display.Javascript object>"
      ]
     },
     "metadata": {},
     "output_type": "display_data"
    }
   ],
   "source": [
    "Counter(\"\".join([i.split(\".\")[0].lower() for i in clean_files]))"
   ]
  },
  {
   "cell_type": "code",
   "execution_count": 30,
   "id": "25d948e8",
   "metadata": {},
   "outputs": [
    {
     "data": {
      "application/javascript": [
       "\n",
       "            setTimeout(function() {\n",
       "                var nbb_cell_id = 30;\n",
       "                var nbb_unformatted_code = \"clean_file_sizes = [os.path.getsize(os.path.join(\\\"data\\\", \\\"0\\\", i)) for i in clean_files]\";\n",
       "                var nbb_formatted_code = \"clean_file_sizes = [os.path.getsize(os.path.join(\\\"data\\\", \\\"0\\\", i)) for i in clean_files]\";\n",
       "                var nbb_cells = Jupyter.notebook.get_cells();\n",
       "                for (var i = 0; i < nbb_cells.length; ++i) {\n",
       "                    if (nbb_cells[i].input_prompt_number == nbb_cell_id) {\n",
       "                        if (nbb_cells[i].get_text() == nbb_unformatted_code) {\n",
       "                             nbb_cells[i].set_text(nbb_formatted_code);\n",
       "                        }\n",
       "                        break;\n",
       "                    }\n",
       "                }\n",
       "            }, 500);\n",
       "            "
      ],
      "text/plain": [
       "<IPython.core.display.Javascript object>"
      ]
     },
     "metadata": {},
     "output_type": "display_data"
    }
   ],
   "source": [
    "clean_file_sizes = [os.path.getsize(os.path.join(\"data\", \"0\", i)) for i in clean_files]"
   ]
  },
  {
   "cell_type": "code",
   "execution_count": 31,
   "id": "4cdbabcb",
   "metadata": {},
   "outputs": [
    {
     "data": {
      "text/plain": [
       "<Axes: ylabel='Count'>"
      ]
     },
     "execution_count": 31,
     "metadata": {},
     "output_type": "execute_result"
    },
    {
     "data": {
      "image/png": "[encoded data removed]",
      "text/plain": [
       "<Figure size 640x480 with 1 Axes>"
      ]
     },
     "metadata": {},
     "output_type": "display_data"
    },
    {
     "data": {
      "application/javascript": [
       "\n",
       "            setTimeout(function() {\n",
       "                var nbb_cell_id = 31;\n",
       "                var nbb_unformatted_code = \"seaborn.histplot(clean_file_sizes)\";\n",
       "                var nbb_formatted_code = \"seaborn.histplot(clean_file_sizes)\";\n",
       "                var nbb_cells = Jupyter.notebook.get_cells();\n",
       "                for (var i = 0; i < nbb_cells.length; ++i) {\n",
       "                    if (nbb_cells[i].input_prompt_number == nbb_cell_id) {\n",
       "                        if (nbb_cells[i].get_text() == nbb_unformatted_code) {\n",
       "                             nbb_cells[i].set_text(nbb_formatted_code);\n",
       "                        }\n",
       "                        break;\n",
       "                    }\n",
       "                }\n",
       "            }, 500);\n",
       "            "
      ],
      "text/plain": [
       "<IPython.core.display.Javascript object>"
      ]
     },
     "metadata": {},
     "output_type": "display_data"
    }
   ],
   "source": [
    "seaborn.histplot(clean_file_sizes)"
   ]
  },
  {
   "cell_type": "code",
   "execution_count": 27,
   "id": "e70e195b",
   "metadata": {},
   "outputs": [
    {
     "data": {
      "application/javascript": [
       "\n",
       "            setTimeout(function() {\n",
       "                var nbb_cell_id = 27;\n",
       "                var nbb_unformatted_code = \"clean_file_sizes.sort()\";\n",
       "                var nbb_formatted_code = \"clean_file_sizes.sort()\";\n",
       "                var nbb_cells = Jupyter.notebook.get_cells();\n",
       "                for (var i = 0; i < nbb_cells.length; ++i) {\n",
       "                    if (nbb_cells[i].input_prompt_number == nbb_cell_id) {\n",
       "                        if (nbb_cells[i].get_text() == nbb_unformatted_code) {\n",
       "                             nbb_cells[i].set_text(nbb_formatted_code);\n",
       "                        }\n",
       "                        break;\n",
       "                    }\n",
       "                }\n",
       "            }, 500);\n",
       "            "
      ],
      "text/plain": [
       "<IPython.core.display.Javascript object>"
      ]
     },
     "metadata": {},
     "output_type": "display_data"
    }
   ],
   "source": [
    "clean_file_sizes.sort()"
   ]
  },
  {
   "cell_type": "code",
   "execution_count": 29,
   "id": "298f67f6",
   "metadata": {},
   "outputs": [
    {
     "data": {
      "text/plain": [
       "[4089312,\n",
       " 4094696,\n",
       " 4109216,\n",
       " 4123648,\n",
       " 4172800,\n",
       " 4203080,\n",
       " 4213040,\n",
       " 4216832,\n",
       " 4217656,\n",
       " 4222976]"
      ]
     },
     "execution_count": 29,
     "metadata": {},
     "output_type": "execute_result"
    },
    {
     "data": {
      "application/javascript": [
       "\n",
       "            setTimeout(function() {\n",
       "                var nbb_cell_id = 29;\n",
       "                var nbb_unformatted_code = \"clean_file_sizes[-10:]\";\n",
       "                var nbb_formatted_code = \"clean_file_sizes[-10:]\";\n",
       "                var nbb_cells = Jupyter.notebook.get_cells();\n",
       "                for (var i = 0; i < nbb_cells.length; ++i) {\n",
       "                    if (nbb_cells[i].input_prompt_number == nbb_cell_id) {\n",
       "                        if (nbb_cells[i].get_text() == nbb_unformatted_code) {\n",
       "                             nbb_cells[i].set_text(nbb_formatted_code);\n",
       "                        }\n",
       "                        break;\n",
       "                    }\n",
       "                }\n",
       "            }, 500);\n",
       "            "
      ],
      "text/plain": [
       "<IPython.core.display.Javascript object>"
      ]
     },
     "metadata": {},
     "output_type": "display_data"
    }
   ],
   "source": [
    "clean_file_sizes[-10:]"
   ]
  },
  {
   "cell_type": "markdown",
   "id": "6175c2a0",
   "metadata": {},
   "source": [
    "## Infected files"
   ]
  },
  {
   "cell_type": "code",
   "execution_count": 10,
   "id": "35f1718a",
   "metadata": {},
   "outputs": [
    {
     "data": {
      "application/javascript": [
       "\n",
       "            setTimeout(function() {\n",
       "                var nbb_cell_id = 10;\n",
       "                var nbb_unformatted_code = \"infected_files = os.listdir(\\\"data/1/\\\")\";\n",
       "                var nbb_formatted_code = \"infected_files = os.listdir(\\\"data/1/\\\")\";\n",
       "                var nbb_cells = Jupyter.notebook.get_cells();\n",
       "                for (var i = 0; i < nbb_cells.length; ++i) {\n",
       "                    if (nbb_cells[i].input_prompt_number == nbb_cell_id) {\n",
       "                        if (nbb_cells[i].get_text() == nbb_unformatted_code) {\n",
       "                             nbb_cells[i].set_text(nbb_formatted_code);\n",
       "                        }\n",
       "                        break;\n",
       "                    }\n",
       "                }\n",
       "            }, 500);\n",
       "            "
      ],
      "text/plain": [
       "<IPython.core.display.Javascript object>"
      ]
     },
     "metadata": {},
     "output_type": "display_data"
    }
   ],
   "source": [
    "infected_files = os.listdir(\"data/1/\")"
   ]
  },
  {
   "cell_type": "code",
   "execution_count": 11,
   "id": "73a50410",
   "metadata": {},
   "outputs": [
    {
     "data": {
      "text/plain": [
       "Counter({'exe': 13889, 'dll': 654})"
      ]
     },
     "execution_count": 11,
     "metadata": {},
     "output_type": "execute_result"
    },
    {
     "data": {
      "application/javascript": [
       "\n",
       "            setTimeout(function() {\n",
       "                var nbb_cell_id = 11;\n",
       "                var nbb_unformatted_code = \"Counter([i.split(\\\".\\\")[-1].lower() for i in infected_files])\";\n",
       "                var nbb_formatted_code = \"Counter([i.split(\\\".\\\")[-1].lower() for i in infected_files])\";\n",
       "                var nbb_cells = Jupyter.notebook.get_cells();\n",
       "                for (var i = 0; i < nbb_cells.length; ++i) {\n",
       "                    if (nbb_cells[i].input_prompt_number == nbb_cell_id) {\n",
       "                        if (nbb_cells[i].get_text() == nbb_unformatted_code) {\n",
       "                             nbb_cells[i].set_text(nbb_formatted_code);\n",
       "                        }\n",
       "                        break;\n",
       "                    }\n",
       "                }\n",
       "            }, 500);\n",
       "            "
      ],
      "text/plain": [
       "<IPython.core.display.Javascript object>"
      ]
     },
     "metadata": {},
     "output_type": "display_data"
    }
   ],
   "source": [
    "Counter([i.split(\".\")[-1].lower() for i in infected_files])"
   ]
  },
  {
   "cell_type": "code",
   "execution_count": 44,
   "id": "299c4bc9",
   "metadata": {},
   "outputs": [
    {
     "data": {
      "text/plain": [
       "0.9550299112975315"
      ]
     },
     "execution_count": 44,
     "metadata": {},
     "output_type": "execute_result"
    },
    {
     "data": {
      "application/javascript": [
       "\n",
       "            setTimeout(function() {\n",
       "                var nbb_cell_id = 44;\n",
       "                var nbb_unformatted_code = \"13889/14543\";\n",
       "                var nbb_formatted_code = \"13889 / 14543\";\n",
       "                var nbb_cells = Jupyter.notebook.get_cells();\n",
       "                for (var i = 0; i < nbb_cells.length; ++i) {\n",
       "                    if (nbb_cells[i].input_prompt_number == nbb_cell_id) {\n",
       "                        if (nbb_cells[i].get_text() == nbb_unformatted_code) {\n",
       "                             nbb_cells[i].set_text(nbb_formatted_code);\n",
       "                        }\n",
       "                        break;\n",
       "                    }\n",
       "                }\n",
       "            }, 500);\n",
       "            "
      ],
      "text/plain": [
       "<IPython.core.display.Javascript object>"
      ]
     },
     "metadata": {},
     "output_type": "display_data"
    }
   ],
   "source": [
    "13889 / 14543"
   ]
  },
  {
   "cell_type": "code",
   "execution_count": 14,
   "id": "cda1a18a",
   "metadata": {},
   "outputs": [
    {
     "data": {
      "text/plain": [
       "Counter({32: 14543})"
      ]
     },
     "execution_count": 14,
     "metadata": {},
     "output_type": "execute_result"
    },
    {
     "data": {
      "application/javascript": [
       "\n",
       "            setTimeout(function() {\n",
       "                var nbb_cell_id = 14;\n",
       "                var nbb_unformatted_code = \"Counter([len(i.split(\\\".\\\")[0]) for i in infected_files])\";\n",
       "                var nbb_formatted_code = \"Counter([len(i.split(\\\".\\\")[0]) for i in infected_files])\";\n",
       "                var nbb_cells = Jupyter.notebook.get_cells();\n",
       "                for (var i = 0; i < nbb_cells.length; ++i) {\n",
       "                    if (nbb_cells[i].input_prompt_number == nbb_cell_id) {\n",
       "                        if (nbb_cells[i].get_text() == nbb_unformatted_code) {\n",
       "                             nbb_cells[i].set_text(nbb_formatted_code);\n",
       "                        }\n",
       "                        break;\n",
       "                    }\n",
       "                }\n",
       "            }, 500);\n",
       "            "
      ],
      "text/plain": [
       "<IPython.core.display.Javascript object>"
      ]
     },
     "metadata": {},
     "output_type": "display_data"
    }
   ],
   "source": [
    "Counter([len(i.split(\".\")[0]) for i in infected_files])"
   ]
  },
  {
   "cell_type": "code",
   "execution_count": 18,
   "id": "af2dd4aa",
   "metadata": {},
   "outputs": [
    {
     "data": {
      "text/plain": [
       "Counter({'x': 15049,\n",
       "         'p': 15009,\n",
       "         'r': 14854,\n",
       "         'h': 14853,\n",
       "         'y': 15376,\n",
       "         't': 14743,\n",
       "         '2': 7571,\n",
       "         '9': 7664,\n",
       "         'n': 14973,\n",
       "         'w': 14965,\n",
       "         'q': 14989,\n",
       "         '1': 7561,\n",
       "         'z': 14966,\n",
       "         '4': 7353,\n",
       "         'j': 15027,\n",
       "         'u': 15161,\n",
       "         '5': 7578,\n",
       "         '8': 7528,\n",
       "         'a': 14892,\n",
       "         'i': 15149,\n",
       "         'o': 14668,\n",
       "         'g': 15182,\n",
       "         'b': 15123,\n",
       "         'c': 15178,\n",
       "         'm': 15036,\n",
       "         'l': 14975,\n",
       "         '6': 7594,\n",
       "         's': 14872,\n",
       "         'k': 14957,\n",
       "         'e': 15028,\n",
       "         'v': 15157,\n",
       "         '0': 7403,\n",
       "         '7': 7705,\n",
       "         'f': 14699,\n",
       "         'd': 15064,\n",
       "         '3': 7474})"
      ]
     },
     "execution_count": 18,
     "metadata": {},
     "output_type": "execute_result"
    },
    {
     "data": {
      "application/javascript": [
       "\n",
       "            setTimeout(function() {\n",
       "                var nbb_cell_id = 18;\n",
       "                var nbb_unformatted_code = \"Counter(\\\"\\\".join([i.split(\\\".\\\")[0].lower() for i in infected_files]))\";\n",
       "                var nbb_formatted_code = \"Counter(\\\"\\\".join([i.split(\\\".\\\")[0].lower() for i in infected_files]))\";\n",
       "                var nbb_cells = Jupyter.notebook.get_cells();\n",
       "                for (var i = 0; i < nbb_cells.length; ++i) {\n",
       "                    if (nbb_cells[i].input_prompt_number == nbb_cell_id) {\n",
       "                        if (nbb_cells[i].get_text() == nbb_unformatted_code) {\n",
       "                             nbb_cells[i].set_text(nbb_formatted_code);\n",
       "                        }\n",
       "                        break;\n",
       "                    }\n",
       "                }\n",
       "            }, 500);\n",
       "            "
      ],
      "text/plain": [
       "<IPython.core.display.Javascript object>"
      ]
     },
     "metadata": {},
     "output_type": "display_data"
    }
   ],
   "source": [
    "Counter(\"\".join([i.split(\".\")[0].lower() for i in infected_files]))"
   ]
  },
  {
   "cell_type": "code",
   "execution_count": 32,
   "id": "bb07e94e",
   "metadata": {},
   "outputs": [
    {
     "data": {
      "application/javascript": [
       "\n",
       "            setTimeout(function() {\n",
       "                var nbb_cell_id = 32;\n",
       "                var nbb_unformatted_code = \"infected_file_sizes = [os.path.getsize(os.path.join(\\\"data\\\", \\\"1\\\", i)) for i in infected_files]\";\n",
       "                var nbb_formatted_code = \"infected_file_sizes = [\\n    os.path.getsize(os.path.join(\\\"data\\\", \\\"1\\\", i)) for i in infected_files\\n]\";\n",
       "                var nbb_cells = Jupyter.notebook.get_cells();\n",
       "                for (var i = 0; i < nbb_cells.length; ++i) {\n",
       "                    if (nbb_cells[i].input_prompt_number == nbb_cell_id) {\n",
       "                        if (nbb_cells[i].get_text() == nbb_unformatted_code) {\n",
       "                             nbb_cells[i].set_text(nbb_formatted_code);\n",
       "                        }\n",
       "                        break;\n",
       "                    }\n",
       "                }\n",
       "            }, 500);\n",
       "            "
      ],
      "text/plain": [
       "<IPython.core.display.Javascript object>"
      ]
     },
     "metadata": {},
     "output_type": "display_data"
    }
   ],
   "source": [
    "infected_file_sizes = [\n",
    "    os.path.getsize(os.path.join(\"data\", \"1\", i)) for i in infected_files\n",
    "]"
   ]
  },
  {
   "cell_type": "code",
   "execution_count": 36,
   "id": "584e7217",
   "metadata": {},
   "outputs": [
    {
     "data": {
      "text/plain": [
       "<Axes: ylabel='Count'>"
      ]
     },
     "execution_count": 36,
     "metadata": {},
     "output_type": "execute_result"
    },
    {
     "data": {
      "image/png": "[encoded data removed]",
      "text/plain": [
       "<Figure size 640x480 with 1 Axes>"
      ]
     },
     "metadata": {},
     "output_type": "display_data"
    },
    {
     "data": {
      "application/javascript": [
       "\n",
       "            setTimeout(function() {\n",
       "                var nbb_cell_id = 36;\n",
       "                var nbb_unformatted_code = \"seaborn.histplot([clean_file_sizes, infected_file_sizes])\";\n",
       "                var nbb_formatted_code = \"seaborn.histplot([clean_file_sizes, infected_file_sizes])\";\n",
       "                var nbb_cells = Jupyter.notebook.get_cells();\n",
       "                for (var i = 0; i < nbb_cells.length; ++i) {\n",
       "                    if (nbb_cells[i].input_prompt_number == nbb_cell_id) {\n",
       "                        if (nbb_cells[i].get_text() == nbb_unformatted_code) {\n",
       "                             nbb_cells[i].set_text(nbb_formatted_code);\n",
       "                        }\n",
       "                        break;\n",
       "                    }\n",
       "                }\n",
       "            }, 500);\n",
       "            "
      ],
      "text/plain": [
       "<IPython.core.display.Javascript object>"
      ]
     },
     "metadata": {},
     "output_type": "display_data"
    }
   ],
   "source": [
    "seaborn.histplot([clean_file_sizes, infected_file_sizes])"
   ]
  },
  {
   "cell_type": "code",
   "execution_count": 46,
   "id": "7540ba31",
   "metadata": {},
   "outputs": [
    {
     "data": {
      "application/javascript": [
       "\n",
       "            setTimeout(function() {\n",
       "                var nbb_cell_id = 46;\n",
       "                var nbb_unformatted_code = \"clean_exe_file_sizes= [os.path.getsize(os.path.join(\\\"data\\\", \\\"0\\\", i)) for i in clean_files if i.endswith('exe')]\";\n",
       "                var nbb_formatted_code = \"clean_exe_file_sizes = [\\n    os.path.getsize(os.path.join(\\\"data\\\", \\\"0\\\", i))\\n    for i in clean_files\\n    if i.endswith(\\\"exe\\\")\\n]\";\n",
       "                var nbb_cells = Jupyter.notebook.get_cells();\n",
       "                for (var i = 0; i < nbb_cells.length; ++i) {\n",
       "                    if (nbb_cells[i].input_prompt_number == nbb_cell_id) {\n",
       "                        if (nbb_cells[i].get_text() == nbb_unformatted_code) {\n",
       "                             nbb_cells[i].set_text(nbb_formatted_code);\n",
       "                        }\n",
       "                        break;\n",
       "                    }\n",
       "                }\n",
       "            }, 500);\n",
       "            "
      ],
      "text/plain": [
       "<IPython.core.display.Javascript object>"
      ]
     },
     "metadata": {},
     "output_type": "display_data"
    }
   ],
   "source": [
    "clean_exe_file_sizes = [\n",
    "    os.path.getsize(os.path.join(\"data\", \"0\", i))\n",
    "    for i in clean_files\n",
    "    if i.endswith(\"exe\")\n",
    "]"
   ]
  },
  {
   "cell_type": "code",
   "execution_count": 49,
   "id": "305b1f97",
   "metadata": {},
   "outputs": [
    {
     "data": {
      "application/javascript": [
       "\n",
       "            setTimeout(function() {\n",
       "                var nbb_cell_id = 49;\n",
       "                var nbb_unformatted_code = \"infected_exe_file_sizes = [\\n    os.path.getsize(os.path.join(\\\"data\\\", \\\"1\\\", i))\\n    for i in infected_files\\n    if i.endswith(\\\"exe\\\")\\n]\";\n",
       "                var nbb_formatted_code = \"infected_exe_file_sizes = [\\n    os.path.getsize(os.path.join(\\\"data\\\", \\\"1\\\", i))\\n    for i in infected_files\\n    if i.endswith(\\\"exe\\\")\\n]\";\n",
       "                var nbb_cells = Jupyter.notebook.get_cells();\n",
       "                for (var i = 0; i < nbb_cells.length; ++i) {\n",
       "                    if (nbb_cells[i].input_prompt_number == nbb_cell_id) {\n",
       "                        if (nbb_cells[i].get_text() == nbb_unformatted_code) {\n",
       "                             nbb_cells[i].set_text(nbb_formatted_code);\n",
       "                        }\n",
       "                        break;\n",
       "                    }\n",
       "                }\n",
       "            }, 500);\n",
       "            "
      ],
      "text/plain": [
       "<IPython.core.display.Javascript object>"
      ]
     },
     "metadata": {},
     "output_type": "display_data"
    }
   ],
   "source": [
    "infected_exe_file_sizes = [\n",
    "    os.path.getsize(os.path.join(\"data\", \"1\", i))\n",
    "    for i in infected_files\n",
    "    if i.endswith(\"exe\")\n",
    "]"
   ]
  },
  {
   "cell_type": "code",
   "execution_count": 51,
   "id": "5d6ba841",
   "metadata": {},
   "outputs": [
    {
     "data": {
      "text/plain": [
       "<Axes: ylabel='Count'>"
      ]
     },
     "execution_count": 51,
     "metadata": {},
     "output_type": "execute_result"
    },
    {
     "data": {
      "image/png": "[encoded data removed]",
      "text/plain": [
       "<Figure size 640x480 with 1 Axes>"
      ]
     },
     "metadata": {},
     "output_type": "display_data"
    },
    {
     "data": {
      "application/javascript": [
       "\n",
       "            setTimeout(function() {\n",
       "                var nbb_cell_id = 51;\n",
       "                var nbb_unformatted_code = \"seaborn.histplot([clean_exe_file_sizes, infected_exe_file_sizes])\";\n",
       "                var nbb_formatted_code = \"seaborn.histplot([clean_exe_file_sizes, infected_exe_file_sizes])\";\n",
       "                var nbb_cells = Jupyter.notebook.get_cells();\n",
       "                for (var i = 0; i < nbb_cells.length; ++i) {\n",
       "                    if (nbb_cells[i].input_prompt_number == nbb_cell_id) {\n",
       "                        if (nbb_cells[i].get_text() == nbb_unformatted_code) {\n",
       "                             nbb_cells[i].set_text(nbb_formatted_code);\n",
       "                        }\n",
       "                        break;\n",
       "                    }\n",
       "                }\n",
       "            }, 500);\n",
       "            "
      ],
      "text/plain": [
       "<IPython.core.display.Javascript object>"
      ]
     },
     "metadata": {},
     "output_type": "display_data"
    }
   ],
   "source": [
    "seaborn.histplot([clean_exe_file_sizes, infected_exe_file_sizes])"
   ]
  },
  {
   "cell_type": "code",
   "execution_count": 53,
   "id": "30b806c2",
   "metadata": {},
   "outputs": [
    {
     "data": {
      "text/plain": [
       "(2742, 13889)"
      ]
     },
     "execution_count": 53,
     "metadata": {},
     "output_type": "execute_result"
    },
    {
     "data": {
      "application/javascript": [
       "\n",
       "            setTimeout(function() {\n",
       "                var nbb_cell_id = 53;\n",
       "                var nbb_unformatted_code = \"len(clean_exe_file_sizes), len(infected_exe_file_sizes)\";\n",
       "                var nbb_formatted_code = \"len(clean_exe_file_sizes), len(infected_exe_file_sizes)\";\n",
       "                var nbb_cells = Jupyter.notebook.get_cells();\n",
       "                for (var i = 0; i < nbb_cells.length; ++i) {\n",
       "                    if (nbb_cells[i].input_prompt_number == nbb_cell_id) {\n",
       "                        if (nbb_cells[i].get_text() == nbb_unformatted_code) {\n",
       "                             nbb_cells[i].set_text(nbb_formatted_code);\n",
       "                        }\n",
       "                        break;\n",
       "                    }\n",
       "                }\n",
       "            }, 500);\n",
       "            "
      ],
      "text/plain": [
       "<IPython.core.display.Javascript object>"
      ]
     },
     "metadata": {},
     "output_type": "display_data"
    }
   ],
   "source": [
    "len(clean_exe_file_sizes), len(infected_exe_file_sizes)"
   ]
  },
  {
   "cell_type": "code",
   "execution_count": null,
   "id": "7b9bab0a",
   "metadata": {},
   "outputs": [],
   "source": []
  }
 ],
 "metadata": {
  "kernelspec": {
   "display_name": "Python 3 (ipykernel)",
   "language": "python",
   "name": "python3"
  },
  "language_info": {
   "codemirror_mode": {
    "name": "ipython",
    "version": 3
   },
   "file_extension": ".py",
   "mimetype": "text/x-python",
   "name": "python",
   "nbconvert_exporter": "python",
   "pygments_lexer": "ipython3",
   "version": "3.10.9"
  }
 },
 "nbformat": 4,
 "nbformat_minor": 5
}
