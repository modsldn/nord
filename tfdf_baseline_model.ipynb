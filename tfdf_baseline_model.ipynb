{
 "cells": [
  {
   "cell_type": "markdown",
   "id": "2d3fd7ce",
   "metadata": {},
   "source": [
    "## References\n",
    "- For feature extraction I used  `https://github.com/SuperCowPowers/data_hacking/blob/master/pefile_classification/pe_features.py`\n",
    "- For modelling reference using tree models with Tensorflow I used `https://www.tensorflow.org/decision_forests/tutorials/beginner_colab`\n",
    "- attached: \n",
    "    - `pefile_attributes.py` that works wiht python 3.10\n",
    "    - images that are in the "
   ]
  },
  {
   "cell_type": "markdown",
   "id": "3ea65458",
   "metadata": {},
   "source": [
    "# Baseline Model performance\n",
    "\n",
    "From Exploratory Data Analysis we observed that the malware files tends towards to exe files. \n",
    "- Clean files `{'dll': 7669, 'exe': 2800}`\n",
    "- Infexted files `{'exe': 13889, 'dll': 654}`\n",
    "\n",
    "Moreover we noticed that file size distribution is different for clean and infected files. \n",
    "![file_ze](file_size_distribution.png)\n",
    "\n",
    "For the baseline model we decided to use out of the box random forest model and the two features described above. \n",
    "`is_exe` and `file_size`.\n",
    "\n",
    "Next we split the data into train test (0.7, 0.3) sets and train the model. \n",
    "\n",
    "For the model training we used accuracy metric. \n",
    "\n",
    "For the prediction cut off we used 0.5. \n",
    "\n",
    "#### The model metrics are: \n",
    "```\n",
    "FPR = fp / (tn + fp) = 0.147\n",
    "accuracy = 0.89\n",
    "F1_score = 0.91\n",
    "```\n",
    "\n",
    "Confusion matrix \n",
    "![confusion_matrix](confusion_matrix_base_model.png)\n",
    "\n",
    "From the confussion matrix we see that the model quite well predicts True positive - lower bottom corner.  On the other hand the model missclasifies the clean files. Our false positive rate is equal to `FPR = 0.147`. \n",
    "\n",
    "#### How to reduce FPR\n",
    "\n",
    "First we must be avare that we are optimizing several metrics at once - accuracy and FPR. \n",
    "To reduce FPR we can try sevaral approaches. \n",
    "\n",
    "Fast fixes\n",
    "1. choose more appropriate cut off point. For example \n",
    "    - `cut off point 0.7` returns `FPR = 0.118` with `accuracy = 0.9` and `F1_score = 0.89`.\n",
    "    - `cut off point 0.95` returns `FPR = 0.053` with `accuracy = 0.81` and `F1_score = 0.81`.\n",
    "    \n",
    "2. Improve the model by: \n",
    "    1. tuning hyperparameters\n",
    "    2. training model on another algorithms\n",
    "    \n",
    "Time consuming fixes\n",
    "\n",
    "- Extracting more features. \n",
    "- Error analysis. Investigate what files  the model clasifies incorectly and check is it possible to improve the data. \n",
    "\n",
    "\n",
    "## GBoosting model performance using non-null features (the column must have at least 90% on non null values)\n",
    "![](xgboost_cm.png)\n",
    "- `FPR = 0.008`\n",
    "- `F1_score = 0.976`\n",
    "- `accuracy = 0.972`\n"
   ]
  },
  {
   "cell_type": "code",
   "execution_count": 1,
   "id": "95afd224",
   "metadata": {},
   "outputs": [
    {
     "data": {
      "text/html": [
       "<style>.container { width:90% !important; }</style>"
      ],
      "text/plain": [
       "<IPython.core.display.HTML object>"
      ]
     },
     "metadata": {},
     "output_type": "display_data"
    }
   ],
   "source": [
    "from IPython.display import display, HTML\n",
    "\n",
    "display(HTML(\"<style>.container { width:90% !important; }</style>\"))"
   ]
  },
  {
   "cell_type": "code",
   "execution_count": 2,
   "id": "fc306a01",
   "metadata": {},
   "outputs": [
    {
     "data": {
      "application/javascript": [
       "\n",
       "            setTimeout(function() {\n",
       "                var nbb_cell_id = 2;\n",
       "                var nbb_unformatted_code = \"%load_ext nb_black\";\n",
       "                var nbb_formatted_code = \"%load_ext nb_black\";\n",
       "                var nbb_cells = Jupyter.notebook.get_cells();\n",
       "                for (var i = 0; i < nbb_cells.length; ++i) {\n",
       "                    if (nbb_cells[i].input_prompt_number == nbb_cell_id) {\n",
       "                        if (nbb_cells[i].get_text() == nbb_unformatted_code) {\n",
       "                             nbb_cells[i].set_text(nbb_formatted_code);\n",
       "                        }\n",
       "                        break;\n",
       "                    }\n",
       "                }\n",
       "            }, 500);\n",
       "            "
      ],
      "text/plain": [
       "<IPython.core.display.Javascript object>"
      ]
     },
     "metadata": {},
     "output_type": "display_data"
    }
   ],
   "source": [
    "%load_ext nb_black"
   ]
  },
  {
   "cell_type": "code",
   "execution_count": 52,
   "id": "dd4005a2",
   "metadata": {},
   "outputs": [
    {
     "data": {
      "application/javascript": [
       "\n",
       "            setTimeout(function() {\n",
       "                var nbb_cell_id = 52;\n",
       "                var nbb_unformatted_code = \"import numpy as np\\nimport pandas as pd\\nimport tensorflow_decision_forests as tfdf\";\n",
       "                var nbb_formatted_code = \"import numpy as np\\nimport pandas as pd\\nimport tensorflow_decision_forests as tfdf\";\n",
       "                var nbb_cells = Jupyter.notebook.get_cells();\n",
       "                for (var i = 0; i < nbb_cells.length; ++i) {\n",
       "                    if (nbb_cells[i].input_prompt_number == nbb_cell_id) {\n",
       "                        if (nbb_cells[i].get_text() == nbb_unformatted_code) {\n",
       "                             nbb_cells[i].set_text(nbb_formatted_code);\n",
       "                        }\n",
       "                        break;\n",
       "                    }\n",
       "                }\n",
       "            }, 500);\n",
       "            "
      ],
      "text/plain": [
       "<IPython.core.display.Javascript object>"
      ]
     },
     "metadata": {},
     "output_type": "display_data"
    }
   ],
   "source": [
    "import numpy as np\n",
    "import pandas as pd\n",
    "import tensorflow_decision_forests as tfdf"
   ]
  },
  {
   "cell_type": "code",
   "execution_count": 6,
   "id": "f3d99850",
   "metadata": {},
   "outputs": [
    {
     "data": {
      "application/javascript": [
       "\n",
       "            setTimeout(function() {\n",
       "                var nbb_cell_id = 6;\n",
       "                var nbb_unformatted_code = \"import joblib\";\n",
       "                var nbb_formatted_code = \"import joblib\";\n",
       "                var nbb_cells = Jupyter.notebook.get_cells();\n",
       "                for (var i = 0; i < nbb_cells.length; ++i) {\n",
       "                    if (nbb_cells[i].input_prompt_number == nbb_cell_id) {\n",
       "                        if (nbb_cells[i].get_text() == nbb_unformatted_code) {\n",
       "                             nbb_cells[i].set_text(nbb_formatted_code);\n",
       "                        }\n",
       "                        break;\n",
       "                    }\n",
       "                }\n",
       "            }, 500);\n",
       "            "
      ],
      "text/plain": [
       "<IPython.core.display.Javascript object>"
      ]
     },
     "metadata": {},
     "output_type": "display_data"
    }
   ],
   "source": [
    "import joblib"
   ]
  },
  {
   "cell_type": "code",
   "execution_count": 7,
   "id": "1cf0b046",
   "metadata": {},
   "outputs": [
    {
     "data": {
      "application/javascript": [
       "\n",
       "            setTimeout(function() {\n",
       "                var nbb_cell_id = 7;\n",
       "                var nbb_unformatted_code = \"clean_dll = joblib.load(\\\"data/clean_dll_files_features.gz\\\")\\nclean_exe = joblib.load(\\\"data/clean_exe_files_features.gz\\\")\\ninfected_dll = joblib.load(\\\"data/infected_dll_files_features.gz\\\")\\ninfected_exe = joblib.load(\\\"data/infected_exe_files_features.gz\\\")\";\n",
       "                var nbb_formatted_code = \"clean_dll = joblib.load(\\\"data/clean_dll_files_features.gz\\\")\\nclean_exe = joblib.load(\\\"data/clean_exe_files_features.gz\\\")\\ninfected_dll = joblib.load(\\\"data/infected_dll_files_features.gz\\\")\\ninfected_exe = joblib.load(\\\"data/infected_exe_files_features.gz\\\")\";\n",
       "                var nbb_cells = Jupyter.notebook.get_cells();\n",
       "                for (var i = 0; i < nbb_cells.length; ++i) {\n",
       "                    if (nbb_cells[i].input_prompt_number == nbb_cell_id) {\n",
       "                        if (nbb_cells[i].get_text() == nbb_unformatted_code) {\n",
       "                             nbb_cells[i].set_text(nbb_formatted_code);\n",
       "                        }\n",
       "                        break;\n",
       "                    }\n",
       "                }\n",
       "            }, 500);\n",
       "            "
      ],
      "text/plain": [
       "<IPython.core.display.Javascript object>"
      ]
     },
     "metadata": {},
     "output_type": "display_data"
    }
   ],
   "source": [
    "clean_dll = joblib.load(\"data/clean_dll_files_features.gz\")\n",
    "clean_exe = joblib.load(\"data/clean_exe_files_features.gz\")\n",
    "infected_dll = joblib.load(\"data/infected_dll_files_features.gz\")\n",
    "infected_exe = joblib.load(\"data/infected_exe_files_features.gz\")"
   ]
  },
  {
   "cell_type": "code",
   "execution_count": 42,
   "id": "b6f8777a",
   "metadata": {},
   "outputs": [
    {
     "data": {
      "application/javascript": [
       "\n",
       "            setTimeout(function() {\n",
       "                var nbb_cell_id = 42;\n",
       "                var nbb_unformatted_code = \"col_names = [\\\"file_name\\\", \\\"file_size\\\"]\\nclean_df_dll = pd.DataFrame(\\n    [[i[\\\"file_name\\\"], i[\\\"file_size\\\"]] for i in clean_dll], columns=col_names\\n)\\nclean_df_dll[\\\"is_exe\\\"] = 0\\nclean_df_dll[\\\"target\\\"] = 0\\n\\ninfected_df_dll = pd.DataFrame(\\n    [[i[\\\"file_name\\\"], i[\\\"file_size\\\"]] for i in infected_dll], columns=col_names\\n)\\ninfected_df_dll[\\\"is_exe\\\"] = 0\\ninfected_df_dll[\\\"target\\\"] = 1\\n\\nclean_df_exe = pd.DataFrame(\\n    [[i[\\\"file_name\\\"], i[\\\"file_size\\\"]] for i in clean_exe], columns=col_names\\n)\\nclean_df_exe[\\\"is_exe\\\"] = 1\\nclean_df_exe[\\\"target\\\"] = 0\\n\\ninfected_df_exe = pd.DataFrame(\\n    [[i[\\\"file_name\\\"], i[\\\"file_size\\\"]] for i in infected_exe], columns=col_names\\n)\\ninfected_df_exe[\\\"is_exe\\\"] = 1\\ninfected_df_exe[\\\"target\\\"] = 1\\n\\n\\ndf = pd.concat([clean_df_dll, infected_df_dll, clean_df_exe, infected_df_exe])\";\n",
       "                var nbb_formatted_code = \"col_names = [\\\"file_name\\\", \\\"file_size\\\"]\\nclean_df_dll = pd.DataFrame(\\n    [[i[\\\"file_name\\\"], i[\\\"file_size\\\"]] for i in clean_dll], columns=col_names\\n)\\nclean_df_dll[\\\"is_exe\\\"] = 0\\nclean_df_dll[\\\"target\\\"] = 0\\n\\ninfected_df_dll = pd.DataFrame(\\n    [[i[\\\"file_name\\\"], i[\\\"file_size\\\"]] for i in infected_dll], columns=col_names\\n)\\ninfected_df_dll[\\\"is_exe\\\"] = 0\\ninfected_df_dll[\\\"target\\\"] = 1\\n\\nclean_df_exe = pd.DataFrame(\\n    [[i[\\\"file_name\\\"], i[\\\"file_size\\\"]] for i in clean_exe], columns=col_names\\n)\\nclean_df_exe[\\\"is_exe\\\"] = 1\\nclean_df_exe[\\\"target\\\"] = 0\\n\\ninfected_df_exe = pd.DataFrame(\\n    [[i[\\\"file_name\\\"], i[\\\"file_size\\\"]] for i in infected_exe], columns=col_names\\n)\\ninfected_df_exe[\\\"is_exe\\\"] = 1\\ninfected_df_exe[\\\"target\\\"] = 1\\n\\n\\ndf = pd.concat([clean_df_dll, infected_df_dll, clean_df_exe, infected_df_exe])\";\n",
       "                var nbb_cells = Jupyter.notebook.get_cells();\n",
       "                for (var i = 0; i < nbb_cells.length; ++i) {\n",
       "                    if (nbb_cells[i].input_prompt_number == nbb_cell_id) {\n",
       "                        if (nbb_cells[i].get_text() == nbb_unformatted_code) {\n",
       "                             nbb_cells[i].set_text(nbb_formatted_code);\n",
       "                        }\n",
       "                        break;\n",
       "                    }\n",
       "                }\n",
       "            }, 500);\n",
       "            "
      ],
      "text/plain": [
       "<IPython.core.display.Javascript object>"
      ]
     },
     "metadata": {},
     "output_type": "display_data"
    }
   ],
   "source": [
    "col_names = [\"file_name\", \"file_size\"]\n",
    "clean_df_dll = pd.DataFrame(\n",
    "    [[i[\"file_name\"], i[\"file_size\"]] for i in clean_dll], columns=col_names\n",
    ")\n",
    "clean_df_dll[\"is_exe\"] = 0\n",
    "clean_df_dll[\"target\"] = 0\n",
    "\n",
    "infected_df_dll = pd.DataFrame(\n",
    "    [[i[\"file_name\"], i[\"file_size\"]] for i in infected_dll], columns=col_names\n",
    ")\n",
    "infected_df_dll[\"is_exe\"] = 0\n",
    "infected_df_dll[\"target\"] = 1\n",
    "\n",
    "clean_df_exe = pd.DataFrame(\n",
    "    [[i[\"file_name\"], i[\"file_size\"]] for i in clean_exe], columns=col_names\n",
    ")\n",
    "clean_df_exe[\"is_exe\"] = 1\n",
    "clean_df_exe[\"target\"] = 0\n",
    "\n",
    "infected_df_exe = pd.DataFrame(\n",
    "    [[i[\"file_name\"], i[\"file_size\"]] for i in infected_exe], columns=col_names\n",
    ")\n",
    "infected_df_exe[\"is_exe\"] = 1\n",
    "infected_df_exe[\"target\"] = 1\n",
    "\n",
    "\n",
    "df = pd.concat([clean_df_dll, infected_df_dll, clean_df_exe, infected_df_exe])"
   ]
  },
  {
   "cell_type": "code",
   "execution_count": 46,
   "id": "f2d47fcc",
   "metadata": {},
   "outputs": [
    {
     "data": {
      "application/javascript": [
       "\n",
       "            setTimeout(function() {\n",
       "                var nbb_cell_id = 46;\n",
       "                var nbb_unformatted_code = \"df = df.drop(\\\"file_name\\\", axis=1)\";\n",
       "                var nbb_formatted_code = \"df = df.drop(\\\"file_name\\\", axis=1)\";\n",
       "                var nbb_cells = Jupyter.notebook.get_cells();\n",
       "                for (var i = 0; i < nbb_cells.length; ++i) {\n",
       "                    if (nbb_cells[i].input_prompt_number == nbb_cell_id) {\n",
       "                        if (nbb_cells[i].get_text() == nbb_unformatted_code) {\n",
       "                             nbb_cells[i].set_text(nbb_formatted_code);\n",
       "                        }\n",
       "                        break;\n",
       "                    }\n",
       "                }\n",
       "            }, 500);\n",
       "            "
      ],
      "text/plain": [
       "<IPython.core.display.Javascript object>"
      ]
     },
     "metadata": {},
     "output_type": "display_data"
    }
   ],
   "source": [
    "df = df.drop(\"file_name\", axis=1)"
   ]
  },
  {
   "cell_type": "code",
   "execution_count": 47,
   "id": "3c2e58bb",
   "metadata": {},
   "outputs": [
    {
     "data": {
      "application/javascript": [
       "\n",
       "            setTimeout(function() {\n",
       "                var nbb_cell_id = 47;\n",
       "                var nbb_unformatted_code = \"df = df.sample(frac=1).reset_index(drop=True)\";\n",
       "                var nbb_formatted_code = \"df = df.sample(frac=1).reset_index(drop=True)\";\n",
       "                var nbb_cells = Jupyter.notebook.get_cells();\n",
       "                for (var i = 0; i < nbb_cells.length; ++i) {\n",
       "                    if (nbb_cells[i].input_prompt_number == nbb_cell_id) {\n",
       "                        if (nbb_cells[i].get_text() == nbb_unformatted_code) {\n",
       "                             nbb_cells[i].set_text(nbb_formatted_code);\n",
       "                        }\n",
       "                        break;\n",
       "                    }\n",
       "                }\n",
       "            }, 500);\n",
       "            "
      ],
      "text/plain": [
       "<IPython.core.display.Javascript object>"
      ]
     },
     "metadata": {},
     "output_type": "display_data"
    }
   ],
   "source": [
    "df = df.sample(frac=1).reset_index(drop=True)"
   ]
  },
  {
   "cell_type": "code",
   "execution_count": 48,
   "id": "da8626e6",
   "metadata": {},
   "outputs": [
    {
     "data": {
      "application/javascript": [
       "\n",
       "            setTimeout(function() {\n",
       "                var nbb_cell_id = 48;\n",
       "                var nbb_unformatted_code = \"label = \\\"target\\\"\";\n",
       "                var nbb_formatted_code = \"label = \\\"target\\\"\";\n",
       "                var nbb_cells = Jupyter.notebook.get_cells();\n",
       "                for (var i = 0; i < nbb_cells.length; ++i) {\n",
       "                    if (nbb_cells[i].input_prompt_number == nbb_cell_id) {\n",
       "                        if (nbb_cells[i].get_text() == nbb_unformatted_code) {\n",
       "                             nbb_cells[i].set_text(nbb_formatted_code);\n",
       "                        }\n",
       "                        break;\n",
       "                    }\n",
       "                }\n",
       "            }, 500);\n",
       "            "
      ],
      "text/plain": [
       "<IPython.core.display.Javascript object>"
      ]
     },
     "metadata": {},
     "output_type": "display_data"
    }
   ],
   "source": [
    "label = \"target\""
   ]
  },
  {
   "cell_type": "code",
   "execution_count": 49,
   "id": "34c7285f",
   "metadata": {},
   "outputs": [
    {
     "name": "stdout",
     "output_type": "stream",
     "text": [
      "17518 examples in training, 7436 examples for testing.\n"
     ]
    },
    {
     "data": {
      "application/javascript": [
       "\n",
       "            setTimeout(function() {\n",
       "                var nbb_cell_id = 49;\n",
       "                var nbb_unformatted_code = \"def split_dataset(dataset, test_ratio=0.30):\\n    \\\"\\\"\\\"Splits a panda dataframe in two.\\\"\\\"\\\"\\n    test_indices = np.random.rand(len(dataset)) < test_ratio\\n    return dataset[~test_indices], dataset[test_indices]\\n\\n\\ntrain_ds_pd, test_ds_pd = split_dataset(df)\\nprint(\\\"{} examples in training, {} examples for testing.\\\".format(\\n    len(train_ds_pd), len(test_ds_pd)))\";\n",
       "                var nbb_formatted_code = \"def split_dataset(dataset, test_ratio=0.30):\\n    \\\"\\\"\\\"Splits a panda dataframe in two.\\\"\\\"\\\"\\n    test_indices = np.random.rand(len(dataset)) < test_ratio\\n    return dataset[~test_indices], dataset[test_indices]\\n\\n\\ntrain_ds_pd, test_ds_pd = split_dataset(df)\\nprint(\\n    \\\"{} examples in training, {} examples for testing.\\\".format(\\n        len(train_ds_pd), len(test_ds_pd)\\n    )\\n)\";\n",
       "                var nbb_cells = Jupyter.notebook.get_cells();\n",
       "                for (var i = 0; i < nbb_cells.length; ++i) {\n",
       "                    if (nbb_cells[i].input_prompt_number == nbb_cell_id) {\n",
       "                        if (nbb_cells[i].get_text() == nbb_unformatted_code) {\n",
       "                             nbb_cells[i].set_text(nbb_formatted_code);\n",
       "                        }\n",
       "                        break;\n",
       "                    }\n",
       "                }\n",
       "            }, 500);\n",
       "            "
      ],
      "text/plain": [
       "<IPython.core.display.Javascript object>"
      ]
     },
     "metadata": {},
     "output_type": "display_data"
    }
   ],
   "source": [
    "def split_dataset(dataset, test_ratio=0.30):\n",
    "    \"\"\"Splits a panda dataframe in two.\"\"\"\n",
    "    test_indices = np.random.rand(len(dataset)) < test_ratio\n",
    "    return dataset[~test_indices], dataset[test_indices]\n",
    "\n",
    "\n",
    "train_ds_pd, test_ds_pd = split_dataset(df)\n",
    "print(\n",
    "    \"{} examples in training, {} examples for testing.\".format(\n",
    "        len(train_ds_pd), len(test_ds_pd)\n",
    "    )\n",
    ")"
   ]
  },
  {
   "cell_type": "code",
   "execution_count": 50,
   "id": "9869813c",
   "metadata": {},
   "outputs": [
    {
     "data": {
      "application/javascript": [
       "\n",
       "            setTimeout(function() {\n",
       "                var nbb_cell_id = 50;\n",
       "                var nbb_unformatted_code = \"feature_columns = []\\nfor feature_name in [\\\"file_size\\\", \\\"is_exe\\\"]:\\n    feature_columns.append(\\n        tf.feature_column.numeric_column(feature_name, dtype=tf.float32)\\n    )\";\n",
       "                var nbb_formatted_code = \"feature_columns = []\\nfor feature_name in [\\\"file_size\\\", \\\"is_exe\\\"]:\\n    feature_columns.append(\\n        tf.feature_column.numeric_column(feature_name, dtype=tf.float32)\\n    )\";\n",
       "                var nbb_cells = Jupyter.notebook.get_cells();\n",
       "                for (var i = 0; i < nbb_cells.length; ++i) {\n",
       "                    if (nbb_cells[i].input_prompt_number == nbb_cell_id) {\n",
       "                        if (nbb_cells[i].get_text() == nbb_unformatted_code) {\n",
       "                             nbb_cells[i].set_text(nbb_formatted_code);\n",
       "                        }\n",
       "                        break;\n",
       "                    }\n",
       "                }\n",
       "            }, 500);\n",
       "            "
      ],
      "text/plain": [
       "<IPython.core.display.Javascript object>"
      ]
     },
     "metadata": {},
     "output_type": "display_data"
    }
   ],
   "source": [
    "feature_columns = []\n",
    "for feature_name in [\"file_size\", \"is_exe\"]:\n",
    "    feature_columns.append(\n",
    "        tf.feature_column.numeric_column(feature_name, dtype=tf.float32)\n",
    "    )"
   ]
  },
  {
   "cell_type": "code",
   "execution_count": 105,
   "id": "107efd49",
   "metadata": {},
   "outputs": [
    {
     "data": {
      "application/javascript": [
       "\n",
       "            setTimeout(function() {\n",
       "                var nbb_cell_id = 105;\n",
       "                var nbb_unformatted_code = \"train_ds = tfdf.keras.pd_dataframe_to_tf_dataset(train_ds_pd, label=label);\\ntest_ds = tfdf.keras.pd_dataframe_to_tf_dataset(test_ds_pd, label=label);\";\n",
       "                var nbb_formatted_code = \"train_ds = tfdf.keras.pd_dataframe_to_tf_dataset(train_ds_pd, label=label)\\ntest_ds = tfdf.keras.pd_dataframe_to_tf_dataset(test_ds_pd, label=label)\";\n",
       "                var nbb_cells = Jupyter.notebook.get_cells();\n",
       "                for (var i = 0; i < nbb_cells.length; ++i) {\n",
       "                    if (nbb_cells[i].input_prompt_number == nbb_cell_id) {\n",
       "                        if (nbb_cells[i].get_text() == nbb_unformatted_code) {\n",
       "                             nbb_cells[i].set_text(nbb_formatted_code);\n",
       "                        }\n",
       "                        break;\n",
       "                    }\n",
       "                }\n",
       "            }, 500);\n",
       "            "
      ],
      "text/plain": [
       "<IPython.core.display.Javascript object>"
      ]
     },
     "metadata": {},
     "output_type": "display_data"
    }
   ],
   "source": [
    "train_ds = tfdf.keras.pd_dataframe_to_tf_dataset(train_ds_pd, label=label)\n",
    "test_ds = tfdf.keras.pd_dataframe_to_tf_dataset(test_ds_pd, label=label)"
   ]
  },
  {
   "cell_type": "code",
   "execution_count": 104,
   "id": "20e3a698",
   "metadata": {
    "collapsed": true
   },
   "outputs": [
    {
     "name": "stdout",
     "output_type": "stream",
     "text": [
      "Use 8 thread(s) for training\n",
      "Use /var/folders/kc/xzqn6jtj2n36swv3ywh1znb80000gn/T/tmpx5x6tel_ as temporary training directory\n",
      "Reading training dataset...\n",
      "Training tensor examples:\n",
      "Features: {'file_size': <tf.Tensor 'data:0' shape=(None,) dtype=int64>, 'is_exe': <tf.Tensor 'data_1:0' shape=(None,) dtype=int64>}\n",
      "Label: Tensor(\"data_2:0\", shape=(None,), dtype=int64)\n",
      "Weights: None\n",
      "Normalized tensor features:\n",
      " {'file_size': SemanticTensor(semantic=<Semantic.NUMERICAL: 1>, tensor=<tf.Tensor 'Cast:0' shape=(None,) dtype=float32>), 'is_exe': SemanticTensor(semantic=<Semantic.NUMERICAL: 1>, tensor=<tf.Tensor 'Cast_1:0' shape=(None,) dtype=float32>)}\n",
      "Training dataset read in 0:00:00.244018. Found 17518 examples.\n",
      "Training model...\n"
     ]
    },
    {
     "name": "stderr",
     "output_type": "stream",
     "text": [
      "[INFO 2023-03-01T13:16:09.051938+02:00 kernel.cc:756] Start Yggdrasil model training\n",
      "[INFO 2023-03-01T13:16:09.052073+02:00 kernel.cc:757] Collect training examples\n",
      "[INFO 2023-03-01T13:16:09.052121+02:00 kernel.cc:388] Number of batches: 18\n",
      "[INFO 2023-03-01T13:16:09.052136+02:00 kernel.cc:389] Number of examples: 17518\n",
      "[INFO 2023-03-01T13:16:09.052758+02:00 kernel.cc:774] Training dataset:\n",
      "Number of records: 17518\n",
      "Number of columns: 3\n",
      "\n",
      "Number of columns by type:\n",
      "\tNUMERICAL: 2 (66.6667%)\n",
      "\tCATEGORICAL: 1 (33.3333%)\n",
      "\n",
      "Columns:\n",
      "\n",
      "NUMERICAL: 2 (66.6667%)\n",
      "\t1: \"file_size\" NUMERICAL mean:464065 min:0 max:4.23909e+06 sd:593235\n",
      "\t2: \"is_exe\" NUMERICAL mean:0.663946 min:0 max:1 sd:0.472358\n",
      "\n",
      "CATEGORICAL: 1 (33.3333%)\n",
      "\t0: \"__LABEL\" CATEGORICAL integerized vocab-size:3 no-ood-item\n",
      "\n",
      "Terminology:\n",
      "\tnas: Number of non-available (i.e. missing) values.\n",
      "\tood: Out of dictionary.\n",
      "\tmanually-defined: Attribute which type is manually defined by the user i.e. the type was not automatically inferred.\n",
      "\ttokenized: The attribute value is obtained through tokenization.\n",
      "\thas-dict: The attribute is attached to a string dictionary e.g. a categorical attribute stored as a string.\n",
      "\tvocab-size: Number of unique values.\n",
      "\n",
      "[INFO 2023-03-01T13:16:09.052835+02:00 kernel.cc:790] Configure learner\n",
      "[INFO 2023-03-01T13:16:09.053086+02:00 kernel.cc:804] Training config:\n",
      "learner: \"RANDOM_FOREST\"\n",
      "features: \"^file_size$\"\n",
      "features: \"^is_exe$\"\n",
      "label: \"^__LABEL$\"\n",
      "task: CLASSIFICATION\n",
      "random_seed: 123456\n",
      "metadata {\n",
      "  framework: \"TF Keras\"\n",
      "}\n",
      "pure_serving_model: false\n",
      "[yggdrasil_decision_forests.model.random_forest.proto.random_forest_config] {\n",
      "  num_trees: 300\n",
      "  decision_tree {\n",
      "    max_depth: 16\n",
      "    min_examples: 5\n",
      "    in_split_min_examples_check: true\n",
      "    keep_non_leaf_label_distribution: true\n",
      "    num_candidate_attributes: 0\n",
      "    missing_value_policy: GLOBAL_IMPUTATION\n",
      "    allow_na_conditions: false\n",
      "    categorical_set_greedy_forward {\n",
      "      sampling: 0.1\n",
      "      max_num_items: -1\n",
      "      min_item_frequency: 1\n",
      "    }\n",
      "    growing_strategy_local {\n",
      "    }\n",
      "    categorical {\n",
      "      cart {\n",
      "      }\n",
      "    }\n",
      "    axis_aligned_split {\n",
      "    }\n",
      "    internal {\n",
      "      sorting_strategy: PRESORTED\n",
      "    }\n",
      "    uplift {\n",
      "      min_examples_in_treatment: 5\n",
      "      split_score: KULLBACK_LEIBLER\n",
      "    }\n",
      "  }\n",
      "  winner_take_all_inference: true\n",
      "  compute_oob_performances: true\n",
      "  compute_oob_variable_importances: false\n",
      "  num_oob_variable_importances_permutations: 1\n",
      "  bootstrap_training_dataset: true\n",
      "  bootstrap_size_ratio: 1\n",
      "  adapt_bootstrap_size_ratio_for_maximum_training_duration: false\n",
      "  sampling_with_replacement: true\n",
      "}\n",
      "\n",
      "[INFO 2023-03-01T13:16:09.053352+02:00 kernel.cc:807] Deployment config:\n",
      "cache_path: \"/var/folders/kc/xzqn6jtj2n36swv3ywh1znb80000gn/T/tmpx5x6tel_/working_cache\"\n",
      "num_threads: 8\n",
      "try_resume_training: true\n",
      "\n",
      "[INFO 2023-03-01T13:16:09.053486+02:00 kernel.cc:868] Train model\n",
      "[INFO 2023-03-01T13:16:09.053564+02:00 random_forest.cc:415] Training random forest on 17518 example(s) and 2 feature(s).\n",
      "[INFO 2023-03-01T13:16:09.083241+02:00 random_forest.cc:804] Training of tree  1/300 (tree index:1) done accuracy:0.873489 logloss:4.55991\n",
      "[INFO 2023-03-01T13:16:09.123352+02:00 random_forest.cc:804] Training of tree  11/300 (tree index:8) done accuracy:0.885245 logloss:2.74255\n",
      "[INFO 2023-03-01T13:16:09.156897+02:00 random_forest.cc:804] Training of tree  21/300 (tree index:20) done accuracy:0.890272 logloss:2.30484\n",
      "[INFO 2023-03-01T13:16:09.190455+02:00 random_forest.cc:804] Training of tree  31/300 (tree index:30) done accuracy:0.891654 logloss:2.10222\n",
      "[INFO 2023-03-01T13:16:09.225168+02:00 random_forest.cc:804] Training of tree  41/300 (tree index:40) done accuracy:0.893024 logloss:1.98953\n",
      "[INFO 2023-03-01T13:16:09.2666+02:00 random_forest.cc:804] Training of tree  51/300 (tree index:49) done accuracy:0.894394 logloss:1.9146\n",
      "[INFO 2023-03-01T13:16:09.303676+02:00 random_forest.cc:804] Training of tree  61/300 (tree index:58) done accuracy:0.895308 logloss:1.86615\n",
      "[INFO 2023-03-01T13:16:09.343561+02:00 random_forest.cc:804] Training of tree  71/300 (tree index:70) done accuracy:0.895707 logloss:1.81161\n",
      "[INFO 2023-03-01T13:16:09.38069+02:00 random_forest.cc:804] Training of tree  81/300 (tree index:78) done accuracy:0.895936 logloss:1.77101\n",
      "[INFO 2023-03-01T13:16:09.429662+02:00 random_forest.cc:804] Training of tree  91/300 (tree index:88) done accuracy:0.895707 logloss:1.74162\n",
      "[INFO 2023-03-01T13:16:09.466372+02:00 random_forest.cc:804] Training of tree  101/300 (tree index:101) done accuracy:0.896107 logloss:1.70834\n",
      "[INFO 2023-03-01T13:16:09.512705+02:00 random_forest.cc:804] Training of tree  111/300 (tree index:109) done accuracy:0.896335 logloss:1.67851\n",
      "[INFO 2023-03-01T13:16:09.546894+02:00 random_forest.cc:804] Training of tree  122/300 (tree index:120) done accuracy:0.896792 logloss:1.65841\n",
      "[INFO 2023-03-01T13:16:09.586225+02:00 random_forest.cc:804] Training of tree  132/300 (tree index:131) done accuracy:0.896335 logloss:1.63631\n",
      "[INFO 2023-03-01T13:16:09.618439+02:00 random_forest.cc:804] Training of tree  142/300 (tree index:141) done accuracy:0.896278 logloss:1.61613\n",
      "[INFO 2023-03-01T13:16:09.667679+02:00 random_forest.cc:804] Training of tree  152/300 (tree index:154) done accuracy:0.896392 logloss:1.59982\n",
      "[INFO 2023-03-01T13:16:09.711727+02:00 random_forest.cc:804] Training of tree  162/300 (tree index:163) done accuracy:0.896335 logloss:1.59039\n",
      "[INFO 2023-03-01T13:16:09.748415+02:00 random_forest.cc:804] Training of tree  172/300 (tree index:172) done accuracy:0.896564 logloss:1.58311\n",
      "[INFO 2023-03-01T13:16:09.780754+02:00 random_forest.cc:804] Training of tree  182/300 (tree index:181) done accuracy:0.896335 logloss:1.57075\n",
      "[INFO 2023-03-01T13:16:09.813593+02:00 random_forest.cc:804] Training of tree  192/300 (tree index:191) done accuracy:0.896278 logloss:1.56164\n",
      "[INFO 2023-03-01T13:16:09.842596+02:00 random_forest.cc:804] Training of tree  202/300 (tree index:201) done accuracy:0.896735 logloss:1.55091\n",
      "[INFO 2023-03-01T13:16:09.871679+02:00 random_forest.cc:804] Training of tree  212/300 (tree index:211) done accuracy:0.896678 logloss:1.53666\n",
      "[INFO 2023-03-01T13:16:09.910517+02:00 random_forest.cc:804] Training of tree  223/300 (tree index:222) done accuracy:0.896392 logloss:1.52222\n",
      "[INFO 2023-03-01T13:16:09.966327+02:00 random_forest.cc:804] Training of tree  233/300 (tree index:229) done accuracy:0.896792 logloss:1.5185\n",
      "[INFO 2023-03-01T13:16:10.008929+02:00 random_forest.cc:804] Training of tree  243/300 (tree index:243) done accuracy:0.896449 logloss:1.51329\n",
      "[INFO 2023-03-01T13:16:10.048103+02:00 random_forest.cc:804] Training of tree  253/300 (tree index:252) done accuracy:0.896792 logloss:1.50619\n",
      "[INFO 2023-03-01T13:16:10.087325+02:00 random_forest.cc:804] Training of tree  263/300 (tree index:262) done accuracy:0.896564 logloss:1.50091\n",
      "[INFO 2023-03-01T13:16:10.11918+02:00 random_forest.cc:804] Training of tree  273/300 (tree index:271) done accuracy:0.896906 logloss:1.49553\n",
      "[INFO 2023-03-01T13:16:10.164919+02:00 random_forest.cc:804] Training of tree  285/300 (tree index:283) done accuracy:0.896678 logloss:1.48833\n",
      "[INFO 2023-03-01T13:16:10.202197+02:00 random_forest.cc:804] Training of tree  295/300 (tree index:295) done accuracy:0.896735 logloss:1.48122\n",
      "[INFO 2023-03-01T13:16:10.215722+02:00 random_forest.cc:804] Training of tree  300/300 (tree index:298) done accuracy:0.896849 logloss:1.4794\n",
      "[INFO 2023-03-01T13:16:10.215847+02:00 random_forest.cc:884] Final OOB metrics: accuracy:0.896849 logloss:1.4794\n",
      "[INFO 2023-03-01T13:16:10.254855+02:00 kernel.cc:905] Export model in log directory: /var/folders/kc/xzqn6jtj2n36swv3ywh1znb80000gn/T/tmpx5x6tel_ with prefix 6f18e2bcdcb549b7\n",
      "[INFO 2023-03-01T13:16:10.611938+02:00 kernel.cc:923] Save model in resources\n",
      "[INFO 2023-03-01T13:16:10.614357+02:00 abstract_model.cc:849] Model self evaluation:\n",
      "Number of predictions (without weights): 17518\n",
      "Number of predictions (with weights): 17518\n",
      "Task: CLASSIFICATION\n",
      "Label: __LABEL\n",
      "\n",
      "Accuracy: 0.896849  CI95[W][0.892992 0.900609]\n",
      "LogLoss: : 1.4794\n",
      "ErrorRate: : 0.103151\n",
      "\n",
      "Default Accuracy: : 0.581059\n",
      "Default LogLoss: : 0.679948\n",
      "Default ErrorRate: : 0.418941\n",
      "\n",
      "Confusion Table:\n",
      "truth\\prediction\n",
      "   0     1     2\n",
      "0  0     0     0\n",
      "1  0  6306  1033\n",
      "2  0   774  9405\n",
      "Total: 17518\n",
      "\n",
      "One vs other classes:\n",
      "\n"
     ]
    },
    {
     "name": "stderr",
     "output_type": "stream",
     "text": [
      "[INFO 2023-03-01T13:16:10.745104+02:00 kernel.cc:1214] Loading model from path /var/folders/kc/xzqn6jtj2n36swv3ywh1znb80000gn/T/tmpx5x6tel_/model/ with prefix 6f18e2bcdcb549b7\n",
      "[INFO 2023-03-01T13:16:11.68678+02:00 decision_forest.cc:661] Model loaded with 300 root(s), 359314 node(s), and 2 input feature(s).\n",
      "[INFO 2023-03-01T13:16:11.686834+02:00 abstract_model.cc:1312] Engine \"RandomForestOptPred\" built\n",
      "[INFO 2023-03-01T13:16:11.686862+02:00 kernel.cc:1046] Use fast generic engine\n"
     ]
    },
    {
     "name": "stdout",
     "output_type": "stream",
     "text": [
      "Model trained in 0:00:02.738554\n",
      "Compiling model...\n",
      "Model compiled.\n"
     ]
    },
    {
     "data": {
      "application/javascript": [
       "\n",
       "            setTimeout(function() {\n",
       "                var nbb_cell_id = 104;\n",
       "                var nbb_unformatted_code = \"# model_1 = tfdf.keras.GradientBoostedTreesModel(verbose=2)\\nmodel_1 = tfdf.keras.RandomForestModel(verbose=2)\\n# Train the model.\\nmodel_1.fit(train_ds);\";\n",
       "                var nbb_formatted_code = \"# model_1 = tfdf.keras.GradientBoostedTreesModel(verbose=2)\\nmodel_1 = tfdf.keras.RandomForestModel(verbose=2)\\n# Train the model.\\nmodel_1.fit(train_ds)\";\n",
       "                var nbb_cells = Jupyter.notebook.get_cells();\n",
       "                for (var i = 0; i < nbb_cells.length; ++i) {\n",
       "                    if (nbb_cells[i].input_prompt_number == nbb_cell_id) {\n",
       "                        if (nbb_cells[i].get_text() == nbb_unformatted_code) {\n",
       "                             nbb_cells[i].set_text(nbb_formatted_code);\n",
       "                        }\n",
       "                        break;\n",
       "                    }\n",
       "                }\n",
       "            }, 500);\n",
       "            "
      ],
      "text/plain": [
       "<IPython.core.display.Javascript object>"
      ]
     },
     "metadata": {},
     "output_type": "display_data"
    }
   ],
   "source": [
    "# model_1 = tfdf.keras.GradientBoostedTreesModel(verbose=2)\n",
    "model_1 = tfdf.keras.RandomForestModel(verbose=2)\n",
    "# Train the model.\n",
    "model_1.fit(train_ds)"
   ]
  },
  {
   "cell_type": "code",
   "execution_count": 70,
   "id": "f5c374a5",
   "metadata": {},
   "outputs": [
    {
     "name": "stdout",
     "output_type": "stream",
     "text": [
      "8/8 [==============================] - 0s 29ms/step - loss: 0.0000e+00 - accuracy: 0.8930\n",
      "\n",
      "loss: 0.0000\n",
      "accuracy: 0.8930\n"
     ]
    },
    {
     "data": {
      "application/javascript": [
       "\n",
       "            setTimeout(function() {\n",
       "                var nbb_cell_id = 70;\n",
       "                var nbb_unformatted_code = \"model_1.compile(metrics=[\\\"accuracy\\\"])\\nevaluation = model_1.evaluate(test_ds, return_dict=True)\\nprint()\\n\\nfor name, value in evaluation.items():\\n    print(f\\\"{name}: {value:.4f}\\\")\";\n",
       "                var nbb_formatted_code = \"model_1.compile(metrics=[\\\"accuracy\\\"])\\nevaluation = model_1.evaluate(test_ds, return_dict=True)\\nprint()\\n\\nfor name, value in evaluation.items():\\n    print(f\\\"{name}: {value:.4f}\\\")\";\n",
       "                var nbb_cells = Jupyter.notebook.get_cells();\n",
       "                for (var i = 0; i < nbb_cells.length; ++i) {\n",
       "                    if (nbb_cells[i].input_prompt_number == nbb_cell_id) {\n",
       "                        if (nbb_cells[i].get_text() == nbb_unformatted_code) {\n",
       "                             nbb_cells[i].set_text(nbb_formatted_code);\n",
       "                        }\n",
       "                        break;\n",
       "                    }\n",
       "                }\n",
       "            }, 500);\n",
       "            "
      ],
      "text/plain": [
       "<IPython.core.display.Javascript object>"
      ]
     },
     "metadata": {},
     "output_type": "display_data"
    }
   ],
   "source": [
    "model_1.compile(metrics=[\"accuracy\"])\n",
    "evaluation = model_1.evaluate(test_ds, return_dict=True)\n",
    "print()\n",
    "\n",
    "for name, value in evaluation.items():\n",
    "    print(f\"{name}: {value:.4f}\")"
   ]
  },
  {
   "cell_type": "code",
   "execution_count": 72,
   "id": "1370386d",
   "metadata": {
    "scrolled": false
   },
   "outputs": [
    {
     "name": "stdout",
     "output_type": "stream",
     "text": [
      "Model: \"random_forest_model_1\"\n",
      "_________________________________________________________________\n",
      " Layer (type)                Output Shape              Param #   \n",
      "=================================================================\n",
      "=================================================================\n",
      "Total params: 1\n",
      "Trainable params: 0\n",
      "Non-trainable params: 1\n",
      "_________________________________________________________________\n",
      "Type: \"RANDOM_FOREST\"\n",
      "Task: CLASSIFICATION\n",
      "Label: \"__LABEL\"\n",
      "\n",
      "Input Features (2):\n",
      "\tfile_size\n",
      "\tis_exe\n",
      "\n",
      "No weights\n",
      "\n",
      "Variable Importance: INV_MEAN_MIN_DEPTH:\n",
      "    1.    \"is_exe\"  1.000000 ################\n",
      "    2. \"file_size\"  0.500000 \n",
      "\n",
      "Variable Importance: NUM_AS_ROOT:\n",
      "    1. \"is_exe\" 300.000000 \n",
      "\n",
      "Variable Importance: NUM_NODES:\n",
      "    1. \"file_size\" 179207.000000 ################\n",
      "    2.    \"is_exe\" 300.000000 \n",
      "\n",
      "Variable Importance: SUM_SCORE:\n",
      "    1.    \"is_exe\" 1525062.142914 ################\n",
      "    2. \"file_size\" 1025461.102064 \n",
      "\n",
      "\n",
      "\n",
      "Winner takes all: true\n",
      "Out-of-bag evaluation: accuracy:0.896849 logloss:1.4794\n",
      "Number of trees: 300\n",
      "Total number of nodes: 359314\n",
      "\n",
      "Number of nodes by tree:\n",
      "Count: 300 Average: 1197.71 StdDev: 80.4327\n",
      "Min: 983 Max: 1367 Ignored: 0\n",
      "----------------------------------------------\n",
      "[  983, 1002)  3   1.00%   1.00% #\n",
      "[ 1002, 1021)  1   0.33%   1.33%\n",
      "[ 1021, 1040)  5   1.67%   3.00% #\n",
      "[ 1040, 1060)  4   1.33%   4.33% #\n",
      "[ 1060, 1079)  9   3.00%   7.33% ##\n",
      "[ 1079, 1098) 14   4.67%  12.00% ####\n",
      "[ 1098, 1117) 11   3.67%  15.67% ###\n",
      "[ 1117, 1137) 21   7.00%  22.67% #####\n",
      "[ 1137, 1156) 25   8.33%  31.00% ######\n",
      "[ 1156, 1175) 22   7.33%  38.33% ######\n",
      "[ 1175, 1194) 28   9.33%  47.67% #######\n",
      "[ 1194, 1214) 25   8.33%  56.00% ######\n",
      "[ 1214, 1233) 19   6.33%  62.33% #####\n",
      "[ 1233, 1252) 40  13.33%  75.67% ##########\n",
      "[ 1252, 1271) 15   5.00%  80.67% ####\n",
      "[ 1271, 1291) 16   5.33%  86.00% ####\n",
      "[ 1291, 1310) 18   6.00%  92.00% #####\n",
      "[ 1310, 1329) 11   3.67%  95.67% ###\n",
      "[ 1329, 1348)  6   2.00%  97.67% ##\n",
      "[ 1348, 1367]  7   2.33% 100.00% ##\n",
      "\n",
      "Depth by leafs:\n",
      "Count: 179807 Average: 11.9355 StdDev: 2.63166\n",
      "Min: 2 Max: 15 Ignored: 0\n",
      "----------------------------------------------\n",
      "[  2,  3)     2   0.00%   0.00%\n",
      "[  3,  4)    97   0.05%   0.06%\n",
      "[  4,  5)   624   0.35%   0.40%\n",
      "[  5,  6)  1462   0.81%   1.22%\n",
      "[  6,  7)  3237   1.80%   3.02% #\n",
      "[  7,  8)  6310   3.51%   6.52% ##\n",
      "[  8,  9) 10030   5.58%  12.10% ##\n",
      "[  9, 10) 13674   7.60%  19.71% ###\n",
      "[ 10, 11) 17097   9.51%  29.22% ####\n",
      "[ 11, 12) 19668  10.94%  40.15% #####\n",
      "[ 12, 13) 21409  11.91%  52.06% #####\n",
      "[ 13, 14) 22622  12.58%  64.64% ######\n",
      "[ 14, 15) 22857  12.71%  77.35% ######\n",
      "[ 15, 15] 40718  22.65% 100.00% ##########\n",
      "\n",
      "Number of training obs by leaf:\n",
      "Count: 179807 Average: 29.228 StdDev: 81.5999\n",
      "Min: 5 Max: 3992 Ignored: 0\n",
      "----------------------------------------------\n",
      "[    5,  204) 176321  98.06%  98.06% ##########\n",
      "[  204,  403)   2504   1.39%  99.45%\n",
      "[  403,  603)    493   0.27%  99.73%\n",
      "[  603,  802)    210   0.12%  99.84%\n",
      "[  802, 1002)     93   0.05%  99.90%\n",
      "[ 1002, 1201)     51   0.03%  99.92%\n",
      "[ 1201, 1400)     39   0.02%  99.95%\n",
      "[ 1400, 1600)     14   0.01%  99.95%\n",
      "[ 1600, 1799)     13   0.01%  99.96%\n",
      "[ 1799, 1999)     16   0.01%  99.97%\n",
      "[ 1999, 2198)     13   0.01%  99.98%\n",
      "[ 2198, 2397)      3   0.00%  99.98%\n",
      "[ 2397, 2597)      8   0.00%  99.98%\n",
      "[ 2597, 2796)     11   0.01%  99.99%\n",
      "[ 2796, 2996)      7   0.00%  99.99%\n",
      "[ 2996, 3195)      6   0.00% 100.00%\n",
      "[ 3195, 3394)      1   0.00% 100.00%\n",
      "[ 3394, 3594)      2   0.00% 100.00%\n",
      "[ 3594, 3793)      0   0.00% 100.00%\n",
      "[ 3793, 3992]      2   0.00% 100.00%\n",
      "\n",
      "Attribute in nodes:\n",
      "\t179207 : file_size [NUMERICAL]\n",
      "\t300 : is_exe [NUMERICAL]\n",
      "\n",
      "Attribute in nodes with depth <= 0:\n",
      "\t300 : is_exe [NUMERICAL]\n",
      "\n",
      "Attribute in nodes with depth <= 1:\n",
      "\t600 : file_size [NUMERICAL]\n",
      "\t300 : is_exe [NUMERICAL]\n",
      "\n",
      "Attribute in nodes with depth <= 2:\n",
      "\t1798 : file_size [NUMERICAL]\n",
      "\t300 : is_exe [NUMERICAL]\n",
      "\n",
      "Attribute in nodes with depth <= 3:\n",
      "\t4097 : file_size [NUMERICAL]\n",
      "\t300 : is_exe [NUMERICAL]\n",
      "\n",
      "Attribute in nodes with depth <= 5:\n",
      "\t14557 : file_size [NUMERICAL]\n",
      "\t300 : is_exe [NUMERICAL]\n",
      "\n",
      "Condition type in nodes:\n",
      "\t179507 : HigherCondition\n",
      "Condition type in nodes with depth <= 0:\n",
      "\t300 : HigherCondition\n",
      "Condition type in nodes with depth <= 1:\n",
      "\t900 : HigherCondition\n",
      "Condition type in nodes with depth <= 2:\n",
      "\t2098 : HigherCondition\n",
      "Condition type in nodes with depth <= 3:\n",
      "\t4397 : HigherCondition\n",
      "Condition type in nodes with depth <= 5:\n",
      "\t14857 : HigherCondition\n",
      "Node format: NOT_SET\n",
      "\n",
      "Training OOB:\n",
      "\ttrees: 1, Out-of-bag evaluation: accuracy:0.873489 logloss:4.55991\n",
      "\ttrees: 12, Out-of-bag evaluation: accuracy:0.885245 logloss:2.74255\n",
      "\ttrees: 22, Out-of-bag evaluation: accuracy:0.890278 logloss:2.27768\n",
      "\ttrees: 32, Out-of-bag evaluation: accuracy:0.891997 logloss:2.08494\n",
      "\ttrees: 42, Out-of-bag evaluation: accuracy:0.893424 logloss:1.98016\n",
      "\ttrees: 52, Out-of-bag evaluation: accuracy:0.893995 logloss:1.90129\n",
      "\ttrees: 62, Out-of-bag evaluation: accuracy:0.895079 logloss:1.86073\n",
      "\ttrees: 72, Out-of-bag evaluation: accuracy:0.895536 logloss:1.80798\n",
      "\ttrees: 82, Out-of-bag evaluation: accuracy:0.895821 logloss:1.7618\n",
      "\ttrees: 92, Out-of-bag evaluation: accuracy:0.895936 logloss:1.73414\n",
      "\ttrees: 102, Out-of-bag evaluation: accuracy:0.896107 logloss:1.70472\n",
      "\ttrees: 112, Out-of-bag evaluation: accuracy:0.896221 logloss:1.67679\n",
      "\ttrees: 122, Out-of-bag evaluation: accuracy:0.896335 logloss:1.66211\n",
      "\ttrees: 133, Out-of-bag evaluation: accuracy:0.896449 logloss:1.64145\n",
      "\ttrees: 143, Out-of-bag evaluation: accuracy:0.896449 logloss:1.61264\n",
      "\ttrees: 153, Out-of-bag evaluation: accuracy:0.896278 logloss:1.59788\n",
      "\ttrees: 163, Out-of-bag evaluation: accuracy:0.896506 logloss:1.59223\n",
      "\ttrees: 173, Out-of-bag evaluation: accuracy:0.896278 logloss:1.58135\n",
      "\ttrees: 183, Out-of-bag evaluation: accuracy:0.896506 logloss:1.57082\n",
      "\ttrees: 193, Out-of-bag evaluation: accuracy:0.896335 logloss:1.5616\n",
      "\ttrees: 203, Out-of-bag evaluation: accuracy:0.896963 logloss:1.55087\n",
      "\ttrees: 213, Out-of-bag evaluation: accuracy:0.896621 logloss:1.53674\n",
      "\ttrees: 223, Out-of-bag evaluation: accuracy:0.896392 logloss:1.52418\n",
      "\ttrees: 233, Out-of-bag evaluation: accuracy:0.896849 logloss:1.51853\n",
      "\ttrees: 243, Out-of-bag evaluation: accuracy:0.896392 logloss:1.51332\n",
      "\ttrees: 253, Out-of-bag evaluation: accuracy:0.896792 logloss:1.50619\n",
      "\ttrees: 263, Out-of-bag evaluation: accuracy:0.896564 logloss:1.50091\n",
      "\ttrees: 273, Out-of-bag evaluation: accuracy:0.896849 logloss:1.49558\n",
      "\ttrees: 283, Out-of-bag evaluation: accuracy:0.896735 logloss:1.49018\n",
      "\ttrees: 293, Out-of-bag evaluation: accuracy:0.896621 logloss:1.48295\n",
      "\ttrees: 300, Out-of-bag evaluation: accuracy:0.896849 logloss:1.4794\n",
      "\n"
     ]
    },
    {
     "data": {
      "application/javascript": [
       "\n",
       "            setTimeout(function() {\n",
       "                var nbb_cell_id = 72;\n",
       "                var nbb_unformatted_code = \"model_1.summary()\";\n",
       "                var nbb_formatted_code = \"model_1.summary()\";\n",
       "                var nbb_cells = Jupyter.notebook.get_cells();\n",
       "                for (var i = 0; i < nbb_cells.length; ++i) {\n",
       "                    if (nbb_cells[i].input_prompt_number == nbb_cell_id) {\n",
       "                        if (nbb_cells[i].get_text() == nbb_unformatted_code) {\n",
       "                             nbb_cells[i].set_text(nbb_formatted_code);\n",
       "                        }\n",
       "                        break;\n",
       "                    }\n",
       "                }\n",
       "            }, 500);\n",
       "            "
      ],
      "text/plain": [
       "<IPython.core.display.Javascript object>"
      ]
     },
     "metadata": {},
     "output_type": "display_data"
    }
   ],
   "source": [
    "model_1.summary()"
   ]
  },
  {
   "cell_type": "code",
   "execution_count": 73,
   "id": "5ffae73c",
   "metadata": {},
   "outputs": [
    {
     "data": {
      "text/plain": [
       "{'SUM_SCORE': [(\"is_exe\" (1; #2), 1525062.1429144144),\n",
       "  (\"file_size\" (1; #1), 1025461.1020636384)],\n",
       " 'NUM_AS_ROOT': [(\"is_exe\" (1; #2), 300.0)],\n",
       " 'INV_MEAN_MIN_DEPTH': [(\"is_exe\" (1; #2), 1.0),\n",
       "  (\"file_size\" (1; #1), 0.500000000000001)],\n",
       " 'NUM_NODES': [(\"file_size\" (1; #1), 179207.0), (\"is_exe\" (1; #2), 300.0)]}"
      ]
     },
     "execution_count": 73,
     "metadata": {},
     "output_type": "execute_result"
    },
    {
     "data": {
      "application/javascript": [
       "\n",
       "            setTimeout(function() {\n",
       "                var nbb_cell_id = 73;\n",
       "                var nbb_unformatted_code = \"model_1.make_inspector().variable_importances()\";\n",
       "                var nbb_formatted_code = \"model_1.make_inspector().variable_importances()\";\n",
       "                var nbb_cells = Jupyter.notebook.get_cells();\n",
       "                for (var i = 0; i < nbb_cells.length; ++i) {\n",
       "                    if (nbb_cells[i].input_prompt_number == nbb_cell_id) {\n",
       "                        if (nbb_cells[i].get_text() == nbb_unformatted_code) {\n",
       "                             nbb_cells[i].set_text(nbb_formatted_code);\n",
       "                        }\n",
       "                        break;\n",
       "                    }\n",
       "                }\n",
       "            }, 500);\n",
       "            "
      ],
      "text/plain": [
       "<IPython.core.display.Javascript object>"
      ]
     },
     "metadata": {},
     "output_type": "display_data"
    }
   ],
   "source": [
    "model_1.make_inspector().variable_importances()"
   ]
  },
  {
   "cell_type": "code",
   "execution_count": 74,
   "id": "c2e2c664",
   "metadata": {},
   "outputs": [
    {
     "data": {
      "text/plain": [
       "Evaluation(num_examples=17518, accuracy=0.8968489553602009, loss=1.4794008014794897, rmse=None, ndcg=None, aucs=None, auuc=None, qini=None)"
      ]
     },
     "execution_count": 74,
     "metadata": {},
     "output_type": "execute_result"
    },
    {
     "data": {
      "application/javascript": [
       "\n",
       "            setTimeout(function() {\n",
       "                var nbb_cell_id = 74;\n",
       "                var nbb_unformatted_code = \"model_1.make_inspector().evaluation()\";\n",
       "                var nbb_formatted_code = \"model_1.make_inspector().evaluation()\";\n",
       "                var nbb_cells = Jupyter.notebook.get_cells();\n",
       "                for (var i = 0; i < nbb_cells.length; ++i) {\n",
       "                    if (nbb_cells[i].input_prompt_number == nbb_cell_id) {\n",
       "                        if (nbb_cells[i].get_text() == nbb_unformatted_code) {\n",
       "                             nbb_cells[i].set_text(nbb_formatted_code);\n",
       "                        }\n",
       "                        break;\n",
       "                    }\n",
       "                }\n",
       "            }, 500);\n",
       "            "
      ],
      "text/plain": [
       "<IPython.core.display.Javascript object>"
      ]
     },
     "metadata": {},
     "output_type": "display_data"
    }
   ],
   "source": [
    "model_1.make_inspector().evaluation()"
   ]
  },
  {
   "cell_type": "code",
   "execution_count": 75,
   "id": "1d0930be",
   "metadata": {
    "scrolled": false
   },
   "outputs": [
    {
     "data": {
      "image/png": "[encoded data removed]",
      "text/plain": [
       "<Figure size 1200x400 with 2 Axes>"
      ]
     },
     "metadata": {},
     "output_type": "display_data"
    },
    {
     "data": {
      "application/javascript": [
       "\n",
       "            setTimeout(function() {\n",
       "                var nbb_cell_id = 75;\n",
       "                var nbb_unformatted_code = \"import matplotlib.pyplot as plt\\n\\nlogs = model_1.make_inspector().training_logs()\\n\\nplt.figure(figsize=(12, 4))\\n\\nplt.subplot(1, 2, 1)\\nplt.plot([log.num_trees for log in logs], [log.evaluation.accuracy for log in logs])\\nplt.xlabel(\\\"Number of trees\\\")\\nplt.ylabel(\\\"Accuracy (out-of-bag)\\\")\\n\\nplt.subplot(1, 2, 2)\\nplt.plot([log.num_trees for log in logs], [log.evaluation.loss for log in logs])\\nplt.xlabel(\\\"Number of trees\\\")\\nplt.ylabel(\\\"Logloss (out-of-bag)\\\")\\n\\nplt.show()\";\n",
       "                var nbb_formatted_code = \"import matplotlib.pyplot as plt\\n\\nlogs = model_1.make_inspector().training_logs()\\n\\nplt.figure(figsize=(12, 4))\\n\\nplt.subplot(1, 2, 1)\\nplt.plot([log.num_trees for log in logs], [log.evaluation.accuracy for log in logs])\\nplt.xlabel(\\\"Number of trees\\\")\\nplt.ylabel(\\\"Accuracy (out-of-bag)\\\")\\n\\nplt.subplot(1, 2, 2)\\nplt.plot([log.num_trees for log in logs], [log.evaluation.loss for log in logs])\\nplt.xlabel(\\\"Number of trees\\\")\\nplt.ylabel(\\\"Logloss (out-of-bag)\\\")\\n\\nplt.show()\";\n",
       "                var nbb_cells = Jupyter.notebook.get_cells();\n",
       "                for (var i = 0; i < nbb_cells.length; ++i) {\n",
       "                    if (nbb_cells[i].input_prompt_number == nbb_cell_id) {\n",
       "                        if (nbb_cells[i].get_text() == nbb_unformatted_code) {\n",
       "                             nbb_cells[i].set_text(nbb_formatted_code);\n",
       "                        }\n",
       "                        break;\n",
       "                    }\n",
       "                }\n",
       "            }, 500);\n",
       "            "
      ],
      "text/plain": [
       "<IPython.core.display.Javascript object>"
      ]
     },
     "metadata": {},
     "output_type": "display_data"
    }
   ],
   "source": [
    "import matplotlib.pyplot as plt\n",
    "\n",
    "logs = model_1.make_inspector().training_logs()\n",
    "\n",
    "plt.figure(figsize=(12, 4))\n",
    "\n",
    "plt.subplot(1, 2, 1)\n",
    "plt.plot([log.num_trees for log in logs], [log.evaluation.accuracy for log in logs])\n",
    "plt.xlabel(\"Number of trees\")\n",
    "plt.ylabel(\"Accuracy (out-of-bag)\")\n",
    "\n",
    "plt.subplot(1, 2, 2)\n",
    "plt.plot([log.num_trees for log in logs], [log.evaluation.loss for log in logs])\n",
    "plt.xlabel(\"Number of trees\")\n",
    "plt.ylabel(\"Logloss (out-of-bag)\")\n",
    "\n",
    "plt.show()"
   ]
  },
  {
   "cell_type": "code",
   "execution_count": 77,
   "id": "c46632c8",
   "metadata": {},
   "outputs": [
    {
     "name": "stdout",
     "output_type": "stream",
     "text": [
      "8/8 [==============================] - 0s 29ms/step\n"
     ]
    },
    {
     "data": {
      "application/javascript": [
       "\n",
       "            setTimeout(function() {\n",
       "                var nbb_cell_id = 77;\n",
       "                var nbb_unformatted_code = \"preds = model_1.predict(test_ds)\";\n",
       "                var nbb_formatted_code = \"preds = model_1.predict(test_ds)\";\n",
       "                var nbb_cells = Jupyter.notebook.get_cells();\n",
       "                for (var i = 0; i < nbb_cells.length; ++i) {\n",
       "                    if (nbb_cells[i].input_prompt_number == nbb_cell_id) {\n",
       "                        if (nbb_cells[i].get_text() == nbb_unformatted_code) {\n",
       "                             nbb_cells[i].set_text(nbb_formatted_code);\n",
       "                        }\n",
       "                        break;\n",
       "                    }\n",
       "                }\n",
       "            }, 500);\n",
       "            "
      ],
      "text/plain": [
       "<IPython.core.display.Javascript object>"
      ]
     },
     "metadata": {},
     "output_type": "display_data"
    }
   ],
   "source": [
    "preds = model_1.predict(test_ds)"
   ]
  },
  {
   "cell_type": "code",
   "execution_count": 159,
   "id": "f874fa8c",
   "metadata": {},
   "outputs": [
    {
     "data": {
      "application/javascript": [
       "\n",
       "            setTimeout(function() {\n",
       "                var nbb_cell_id = 159;\n",
       "                var nbb_unformatted_code = \"y_pred = [1 if i[0] > 0.7 else 0 for i in list(preds)]\";\n",
       "                var nbb_formatted_code = \"y_pred = [1 if i[0] > 0.7 else 0 for i in list(preds)]\";\n",
       "                var nbb_cells = Jupyter.notebook.get_cells();\n",
       "                for (var i = 0; i < nbb_cells.length; ++i) {\n",
       "                    if (nbb_cells[i].input_prompt_number == nbb_cell_id) {\n",
       "                        if (nbb_cells[i].get_text() == nbb_unformatted_code) {\n",
       "                             nbb_cells[i].set_text(nbb_formatted_code);\n",
       "                        }\n",
       "                        break;\n",
       "                    }\n",
       "                }\n",
       "            }, 500);\n",
       "            "
      ],
      "text/plain": [
       "<IPython.core.display.Javascript object>"
      ]
     },
     "metadata": {},
     "output_type": "display_data"
    }
   ],
   "source": [
    "y_pred = [1 if i[0] > 0.7 else 0 for i in list(preds)]"
   ]
  },
  {
   "cell_type": "code",
   "execution_count": 160,
   "id": "7c6cc5fc",
   "metadata": {},
   "outputs": [
    {
     "data": {
      "application/javascript": [
       "\n",
       "            setTimeout(function() {\n",
       "                var nbb_cell_id = 160;\n",
       "                var nbb_unformatted_code = \"from sklearn.metrics import (\\n    confusion_matrix,\\n    f1_score,\\n    accuracy_score,\\n    precision_score,\\n    recall_score,\\n)\";\n",
       "                var nbb_formatted_code = \"from sklearn.metrics import (\\n    confusion_matrix,\\n    f1_score,\\n    accuracy_score,\\n    precision_score,\\n    recall_score,\\n)\";\n",
       "                var nbb_cells = Jupyter.notebook.get_cells();\n",
       "                for (var i = 0; i < nbb_cells.length; ++i) {\n",
       "                    if (nbb_cells[i].input_prompt_number == nbb_cell_id) {\n",
       "                        if (nbb_cells[i].get_text() == nbb_unformatted_code) {\n",
       "                             nbb_cells[i].set_text(nbb_formatted_code);\n",
       "                        }\n",
       "                        break;\n",
       "                    }\n",
       "                }\n",
       "            }, 500);\n",
       "            "
      ],
      "text/plain": [
       "<IPython.core.display.Javascript object>"
      ]
     },
     "metadata": {},
     "output_type": "display_data"
    }
   ],
   "source": [
    "from sklearn.metrics import (\n",
    "    confusion_matrix,\n",
    "    f1_score,\n",
    "    accuracy_score,\n",
    "    precision_score,\n",
    "    recall_score,\n",
    ")"
   ]
  },
  {
   "cell_type": "code",
   "execution_count": 161,
   "id": "2bc0a85b",
   "metadata": {},
   "outputs": [
    {
     "data": {
      "application/javascript": [
       "\n",
       "            setTimeout(function() {\n",
       "                var nbb_cell_id = 161;\n",
       "                var nbb_unformatted_code = \"y_test = test_ds_pd.target.values.tolist()\";\n",
       "                var nbb_formatted_code = \"y_test = test_ds_pd.target.values.tolist()\";\n",
       "                var nbb_cells = Jupyter.notebook.get_cells();\n",
       "                for (var i = 0; i < nbb_cells.length; ++i) {\n",
       "                    if (nbb_cells[i].input_prompt_number == nbb_cell_id) {\n",
       "                        if (nbb_cells[i].get_text() == nbb_unformatted_code) {\n",
       "                             nbb_cells[i].set_text(nbb_formatted_code);\n",
       "                        }\n",
       "                        break;\n",
       "                    }\n",
       "                }\n",
       "            }, 500);\n",
       "            "
      ],
      "text/plain": [
       "<IPython.core.display.Javascript object>"
      ]
     },
     "metadata": {},
     "output_type": "display_data"
    }
   ],
   "source": [
    "y_test = test_ds_pd.target.values.tolist()"
   ]
  },
  {
   "cell_type": "code",
   "execution_count": 162,
   "id": "591139ff",
   "metadata": {},
   "outputs": [
    {
     "data": {
      "text/html": [
       "<div>\n",
       "<style scoped>\n",
       "    .dataframe tbody tr th:only-of-type {\n",
       "        vertical-align: middle;\n",
       "    }\n",
       "\n",
       "    .dataframe tbody tr th {\n",
       "        vertical-align: top;\n",
       "    }\n",
       "\n",
       "    .dataframe thead th {\n",
       "        text-align: right;\n",
       "    }\n",
       "</style>\n",
       "<table border=\"1\" class=\"dataframe\">\n",
       "  <thead>\n",
       "    <tr style=\"text-align: right;\">\n",
       "      <th></th>\n",
       "      <th>0_predict</th>\n",
       "      <th>1_predict</th>\n",
       "    </tr>\n",
       "  </thead>\n",
       "  <tbody>\n",
       "    <tr>\n",
       "      <th>0_true</th>\n",
       "      <td>2708</td>\n",
       "      <td>364</td>\n",
       "    </tr>\n",
       "    <tr>\n",
       "      <th>1_true</th>\n",
       "      <td>475</td>\n",
       "      <td>3889</td>\n",
       "    </tr>\n",
       "  </tbody>\n",
       "</table>\n",
       "</div>"
      ],
      "text/plain": [
       "        0_predict  1_predict\n",
       "0_true       2708        364\n",
       "1_true        475       3889"
      ]
     },
     "execution_count": 162,
     "metadata": {},
     "output_type": "execute_result"
    },
    {
     "data": {
      "application/javascript": [
       "\n",
       "            setTimeout(function() {\n",
       "                var nbb_cell_id = 162;\n",
       "                var nbb_unformatted_code = \"cm = confusion_matrix(y_test, y_pred)\\ntn, fp, fn, tp = cm.ravel()\\npd.DataFrame(\\n    cm,\\n    columns=[\\\"0_predict\\\", \\\"1_predict\\\"],\\n    index=[\\\"0_true\\\", \\\"1_true\\\"],\\n)\";\n",
       "                var nbb_formatted_code = \"cm = confusion_matrix(y_test, y_pred)\\ntn, fp, fn, tp = cm.ravel()\\npd.DataFrame(\\n    cm,\\n    columns=[\\\"0_predict\\\", \\\"1_predict\\\"],\\n    index=[\\\"0_true\\\", \\\"1_true\\\"],\\n)\";\n",
       "                var nbb_cells = Jupyter.notebook.get_cells();\n",
       "                for (var i = 0; i < nbb_cells.length; ++i) {\n",
       "                    if (nbb_cells[i].input_prompt_number == nbb_cell_id) {\n",
       "                        if (nbb_cells[i].get_text() == nbb_unformatted_code) {\n",
       "                             nbb_cells[i].set_text(nbb_formatted_code);\n",
       "                        }\n",
       "                        break;\n",
       "                    }\n",
       "                }\n",
       "            }, 500);\n",
       "            "
      ],
      "text/plain": [
       "<IPython.core.display.Javascript object>"
      ]
     },
     "metadata": {},
     "output_type": "display_data"
    }
   ],
   "source": [
    "cm = confusion_matrix(y_test, y_pred)\n",
    "tn, fp, fn, tp = cm.ravel()\n",
    "pd.DataFrame(\n",
    "    cm,\n",
    "    columns=[\"0_predict\", \"1_predict\"],\n",
    "    index=[\"0_true\", \"1_true\"],\n",
    ")"
   ]
  },
  {
   "cell_type": "code",
   "execution_count": 163,
   "id": "75199b8b",
   "metadata": {},
   "outputs": [
    {
     "data": {
      "text/plain": [
       "0.11848958333333333"
      ]
     },
     "execution_count": 163,
     "metadata": {},
     "output_type": "execute_result"
    },
    {
     "data": {
      "application/javascript": [
       "\n",
       "            setTimeout(function() {\n",
       "                var nbb_cell_id = 163;\n",
       "                var nbb_unformatted_code = \"FPR = fp / (tn + fp)\\nFPR\";\n",
       "                var nbb_formatted_code = \"FPR = fp / (tn + fp)\\nFPR\";\n",
       "                var nbb_cells = Jupyter.notebook.get_cells();\n",
       "                for (var i = 0; i < nbb_cells.length; ++i) {\n",
       "                    if (nbb_cells[i].input_prompt_number == nbb_cell_id) {\n",
       "                        if (nbb_cells[i].get_text() == nbb_unformatted_code) {\n",
       "                             nbb_cells[i].set_text(nbb_formatted_code);\n",
       "                        }\n",
       "                        break;\n",
       "                    }\n",
       "                }\n",
       "            }, 500);\n",
       "            "
      ],
      "text/plain": [
       "<IPython.core.display.Javascript object>"
      ]
     },
     "metadata": {},
     "output_type": "display_data"
    }
   ],
   "source": [
    "FPR = fp / (tn + fp)\n",
    "FPR"
   ]
  },
  {
   "cell_type": "code",
   "execution_count": 164,
   "id": "e61b1b96",
   "metadata": {},
   "outputs": [
    {
     "data": {
      "text/plain": [
       "(0.9026343274921667,\n",
       " 0.8871705217859064,\n",
       " 0.9144133552786269,\n",
       " 0.8911549037580202)"
      ]
     },
     "execution_count": 164,
     "metadata": {},
     "output_type": "execute_result"
    },
    {
     "data": {
      "application/javascript": [
       "\n",
       "            setTimeout(function() {\n",
       "                var nbb_cell_id = 164;\n",
       "                var nbb_unformatted_code = \"f1_score(y_test, y_pred), accuracy_score(y_test, y_pred), precision_score(\\n    y_test, y_pred\\n), recall_score(y_test, y_pred)\";\n",
       "                var nbb_formatted_code = \"f1_score(y_test, y_pred), accuracy_score(y_test, y_pred), precision_score(\\n    y_test, y_pred\\n), recall_score(y_test, y_pred)\";\n",
       "                var nbb_cells = Jupyter.notebook.get_cells();\n",
       "                for (var i = 0; i < nbb_cells.length; ++i) {\n",
       "                    if (nbb_cells[i].input_prompt_number == nbb_cell_id) {\n",
       "                        if (nbb_cells[i].get_text() == nbb_unformatted_code) {\n",
       "                             nbb_cells[i].set_text(nbb_formatted_code);\n",
       "                        }\n",
       "                        break;\n",
       "                    }\n",
       "                }\n",
       "            }, 500);\n",
       "            "
      ],
      "text/plain": [
       "<IPython.core.display.Javascript object>"
      ]
     },
     "metadata": {},
     "output_type": "display_data"
    }
   ],
   "source": [
    "f1_score(y_test, y_pred), accuracy_score(y_test, y_pred), precision_score(\n",
    "    y_test, y_pred\n",
    "), recall_score(y_test, y_pred)"
   ]
  },
  {
   "cell_type": "markdown",
   "id": "8372ccb2",
   "metadata": {},
   "source": [
    "## Gradient Boosted tree model"
   ]
  },
  {
   "cell_type": "code",
   "execution_count": null,
   "id": "4673046f",
   "metadata": {},
   "outputs": [],
   "source": [
    "clean_dll = joblib.load(\"data/clean_dll_files_features.gz\")\n",
    "clean_exe = joblib.load(\"data/clean_exe_files_features.gz\")\n",
    "infected_dll = joblib.load(\"data/infected_dll_files_features.gz\")\n",
    "infected_exe = joblib.load(\"data/infected_exe_files_features.gz\")"
   ]
  },
  {
   "cell_type": "code",
   "execution_count": 168,
   "id": "df0cd9d2",
   "metadata": {},
   "outputs": [
    {
     "data": {
      "application/javascript": [
       "\n",
       "            setTimeout(function() {\n",
       "                var nbb_cell_id = 168;\n",
       "                var nbb_unformatted_code = \"dll_0 = pd.DataFrame(clean_dll)\\ndll_0['is_exe'] = 0\\ndll_0['target'] = 0\\n\\ndll_1 = pd.DataFrame(infected_dll)\\ndll_1['is_exe'] = 0\\ndll_1['target'] = 1\\n\\nexe_0 = pd.DataFrame(clean_exe)\\nexe_0['is_exe'] = 1\\nexe_0['target'] = 0\\n\\nexe_1 = pd.DataFrame(infected_exe)\\nexe_1['is_exe'] = 1\\nexe_1['target'] = 1\";\n",
       "                var nbb_formatted_code = \"dll_0 = pd.DataFrame(clean_dll)\\ndll_0[\\\"is_exe\\\"] = 0\\ndll_0[\\\"target\\\"] = 0\\n\\ndll_1 = pd.DataFrame(infected_dll)\\ndll_1[\\\"is_exe\\\"] = 0\\ndll_1[\\\"target\\\"] = 1\\n\\nexe_0 = pd.DataFrame(clean_exe)\\nexe_0[\\\"is_exe\\\"] = 1\\nexe_0[\\\"target\\\"] = 0\\n\\nexe_1 = pd.DataFrame(infected_exe)\\nexe_1[\\\"is_exe\\\"] = 1\\nexe_1[\\\"target\\\"] = 1\";\n",
       "                var nbb_cells = Jupyter.notebook.get_cells();\n",
       "                for (var i = 0; i < nbb_cells.length; ++i) {\n",
       "                    if (nbb_cells[i].input_prompt_number == nbb_cell_id) {\n",
       "                        if (nbb_cells[i].get_text() == nbb_unformatted_code) {\n",
       "                             nbb_cells[i].set_text(nbb_formatted_code);\n",
       "                        }\n",
       "                        break;\n",
       "                    }\n",
       "                }\n",
       "            }, 500);\n",
       "            "
      ],
      "text/plain": [
       "<IPython.core.display.Javascript object>"
      ]
     },
     "metadata": {},
     "output_type": "display_data"
    }
   ],
   "source": [
    "dll_0 = pd.DataFrame(clean_dll)\n",
    "dll_0['is_exe'] = 0\n",
    "dll_0['target'] = 0\n",
    "\n",
    "dll_1 = pd.DataFrame(infected_dll)\n",
    "dll_1['is_exe'] = 0\n",
    "dll_1['target'] = 1\n",
    "\n",
    "exe_0 = pd.DataFrame(clean_exe)\n",
    "exe_0['is_exe'] = 1\n",
    "exe_0['target'] = 0\n",
    "\n",
    "exe_1 = pd.DataFrame(infected_exe)\n",
    "exe_1['is_exe'] = 1\n",
    "exe_1['target'] = 1\n"
   ]
  },
  {
   "cell_type": "code",
   "execution_count": 169,
   "id": "4cf51589",
   "metadata": {},
   "outputs": [
    {
     "data": {
      "application/javascript": [
       "\n",
       "            setTimeout(function() {\n",
       "                var nbb_cell_id = 169;\n",
       "                var nbb_unformatted_code = \"df = pd.concat([dll_0, dll_1, exe_0, exe_1])\";\n",
       "                var nbb_formatted_code = \"df = pd.concat([dll_0, dll_1, exe_0, exe_1])\";\n",
       "                var nbb_cells = Jupyter.notebook.get_cells();\n",
       "                for (var i = 0; i < nbb_cells.length; ++i) {\n",
       "                    if (nbb_cells[i].input_prompt_number == nbb_cell_id) {\n",
       "                        if (nbb_cells[i].get_text() == nbb_unformatted_code) {\n",
       "                             nbb_cells[i].set_text(nbb_formatted_code);\n",
       "                        }\n",
       "                        break;\n",
       "                    }\n",
       "                }\n",
       "            }, 500);\n",
       "            "
      ],
      "text/plain": [
       "<IPython.core.display.Javascript object>"
      ]
     },
     "metadata": {},
     "output_type": "display_data"
    }
   ],
   "source": [
    "df = pd.concat([dll_0, dll_1, exe_0, exe_1])"
   ]
  },
  {
   "cell_type": "code",
   "execution_count": 172,
   "id": "f01e1924",
   "metadata": {},
   "outputs": [
    {
     "data": {
      "application/javascript": [
       "\n",
       "            setTimeout(function() {\n",
       "                var nbb_cell_id = 172;\n",
       "                var nbb_unformatted_code = \"df.drop(\\\"file_name\\\", axis=1, inplace=True)\";\n",
       "                var nbb_formatted_code = \"df.drop(\\\"file_name\\\", axis=1, inplace=True)\";\n",
       "                var nbb_cells = Jupyter.notebook.get_cells();\n",
       "                for (var i = 0; i < nbb_cells.length; ++i) {\n",
       "                    if (nbb_cells[i].input_prompt_number == nbb_cell_id) {\n",
       "                        if (nbb_cells[i].get_text() == nbb_unformatted_code) {\n",
       "                             nbb_cells[i].set_text(nbb_formatted_code);\n",
       "                        }\n",
       "                        break;\n",
       "                    }\n",
       "                }\n",
       "            }, 500);\n",
       "            "
      ],
      "text/plain": [
       "<IPython.core.display.Javascript object>"
      ]
     },
     "metadata": {},
     "output_type": "display_data"
    }
   ],
   "source": [
    "df.drop(\"file_name\", axis=1, inplace=True)"
   ]
  },
  {
   "cell_type": "code",
   "execution_count": 174,
   "id": "4580001b",
   "metadata": {},
   "outputs": [
    {
     "data": {
      "application/javascript": [
       "\n",
       "            setTimeout(function() {\n",
       "                var nbb_cell_id = 174;\n",
       "                var nbb_unformatted_code = \"columns = df.loc[:, df.notnull().mean() > 0.90].columns\";\n",
       "                var nbb_formatted_code = \"columns = df.loc[:, df.notnull().mean() > 0.90].columns\";\n",
       "                var nbb_cells = Jupyter.notebook.get_cells();\n",
       "                for (var i = 0; i < nbb_cells.length; ++i) {\n",
       "                    if (nbb_cells[i].input_prompt_number == nbb_cell_id) {\n",
       "                        if (nbb_cells[i].get_text() == nbb_unformatted_code) {\n",
       "                             nbb_cells[i].set_text(nbb_formatted_code);\n",
       "                        }\n",
       "                        break;\n",
       "                    }\n",
       "                }\n",
       "            }, 500);\n",
       "            "
      ],
      "text/plain": [
       "<IPython.core.display.Javascript object>"
      ]
     },
     "metadata": {},
     "output_type": "display_data"
    }
   ],
   "source": [
    "columns = df.loc[:, df.notnull().mean() > 0.90].columns"
   ]
  },
  {
   "cell_type": "code",
   "execution_count": 175,
   "id": "188e0636",
   "metadata": {},
   "outputs": [
    {
     "data": {
      "application/javascript": [
       "\n",
       "            setTimeout(function() {\n",
       "                var nbb_cell_id = 175;\n",
       "                var nbb_unformatted_code = \"df = df[columns].copy()\";\n",
       "                var nbb_formatted_code = \"df = df[columns].copy()\";\n",
       "                var nbb_cells = Jupyter.notebook.get_cells();\n",
       "                for (var i = 0; i < nbb_cells.length; ++i) {\n",
       "                    if (nbb_cells[i].input_prompt_number == nbb_cell_id) {\n",
       "                        if (nbb_cells[i].get_text() == nbb_unformatted_code) {\n",
       "                             nbb_cells[i].set_text(nbb_formatted_code);\n",
       "                        }\n",
       "                        break;\n",
       "                    }\n",
       "                }\n",
       "            }, 500);\n",
       "            "
      ],
      "text/plain": [
       "<IPython.core.display.Javascript object>"
      ]
     },
     "metadata": {},
     "output_type": "display_data"
    }
   ],
   "source": [
    "df = df[columns].copy()"
   ]
  },
  {
   "cell_type": "code",
   "execution_count": 179,
   "id": "31948b9e",
   "metadata": {},
   "outputs": [
    {
     "data": {
      "application/javascript": [
       "\n",
       "            setTimeout(function() {\n",
       "                var nbb_cell_id = 179;\n",
       "                var nbb_unformatted_code = \"df = df.sample(frac=1).reset_index(drop=True)\";\n",
       "                var nbb_formatted_code = \"df = df.sample(frac=1).reset_index(drop=True)\";\n",
       "                var nbb_cells = Jupyter.notebook.get_cells();\n",
       "                for (var i = 0; i < nbb_cells.length; ++i) {\n",
       "                    if (nbb_cells[i].input_prompt_number == nbb_cell_id) {\n",
       "                        if (nbb_cells[i].get_text() == nbb_unformatted_code) {\n",
       "                             nbb_cells[i].set_text(nbb_formatted_code);\n",
       "                        }\n",
       "                        break;\n",
       "                    }\n",
       "                }\n",
       "            }, 500);\n",
       "            "
      ],
      "text/plain": [
       "<IPython.core.display.Javascript object>"
      ]
     },
     "metadata": {},
     "output_type": "display_data"
    }
   ],
   "source": [
    "df = df.sample(frac=1).reset_index(drop=True)"
   ]
  },
  {
   "cell_type": "code",
   "execution_count": 180,
   "id": "d6cf0e41",
   "metadata": {},
   "outputs": [
    {
     "data": {
      "application/javascript": [
       "\n",
       "            setTimeout(function() {\n",
       "                var nbb_cell_id = 180;\n",
       "                var nbb_unformatted_code = \"label = \\\"target\\\"\";\n",
       "                var nbb_formatted_code = \"label = \\\"target\\\"\";\n",
       "                var nbb_cells = Jupyter.notebook.get_cells();\n",
       "                for (var i = 0; i < nbb_cells.length; ++i) {\n",
       "                    if (nbb_cells[i].input_prompt_number == nbb_cell_id) {\n",
       "                        if (nbb_cells[i].get_text() == nbb_unformatted_code) {\n",
       "                             nbb_cells[i].set_text(nbb_formatted_code);\n",
       "                        }\n",
       "                        break;\n",
       "                    }\n",
       "                }\n",
       "            }, 500);\n",
       "            "
      ],
      "text/plain": [
       "<IPython.core.display.Javascript object>"
      ]
     },
     "metadata": {},
     "output_type": "display_data"
    }
   ],
   "source": [
    "label = \"target\""
   ]
  },
  {
   "cell_type": "code",
   "execution_count": 181,
   "id": "7be6406d",
   "metadata": {},
   "outputs": [
    {
     "name": "stdout",
     "output_type": "stream",
     "text": [
      "17548 examples in training, 7406 examples for testing.\n"
     ]
    },
    {
     "data": {
      "application/javascript": [
       "\n",
       "            setTimeout(function() {\n",
       "                var nbb_cell_id = 181;\n",
       "                var nbb_unformatted_code = \"train_ds_pd, test_ds_pd = split_dataset(df)\\nprint(\\n    \\\"{} examples in training, {} examples for testing.\\\".format(\\n        len(train_ds_pd), len(test_ds_pd)\\n    )\\n)\";\n",
       "                var nbb_formatted_code = \"train_ds_pd, test_ds_pd = split_dataset(df)\\nprint(\\n    \\\"{} examples in training, {} examples for testing.\\\".format(\\n        len(train_ds_pd), len(test_ds_pd)\\n    )\\n)\";\n",
       "                var nbb_cells = Jupyter.notebook.get_cells();\n",
       "                for (var i = 0; i < nbb_cells.length; ++i) {\n",
       "                    if (nbb_cells[i].input_prompt_number == nbb_cell_id) {\n",
       "                        if (nbb_cells[i].get_text() == nbb_unformatted_code) {\n",
       "                             nbb_cells[i].set_text(nbb_formatted_code);\n",
       "                        }\n",
       "                        break;\n",
       "                    }\n",
       "                }\n",
       "            }, 500);\n",
       "            "
      ],
      "text/plain": [
       "<IPython.core.display.Javascript object>"
      ]
     },
     "metadata": {},
     "output_type": "display_data"
    }
   ],
   "source": [
    "train_ds_pd, test_ds_pd = split_dataset(df)\n",
    "print(\n",
    "    \"{} examples in training, {} examples for testing.\".format(\n",
    "        len(train_ds_pd), len(test_ds_pd)\n",
    "    )\n",
    ")"
   ]
  },
  {
   "cell_type": "code",
   "execution_count": 185,
   "id": "0d551891",
   "metadata": {},
   "outputs": [
    {
     "data": {
      "application/javascript": [
       "\n",
       "            setTimeout(function() {\n",
       "                var nbb_cell_id = 185;\n",
       "                var nbb_unformatted_code = \"feature_columns = []\\nfor feature_name in columns.tolist()[:-1]:\\n    feature_columns.append(\\n        tf.feature_column.numeric_column(feature_name, dtype=tf.float32)\\n    )\";\n",
       "                var nbb_formatted_code = \"feature_columns = []\\nfor feature_name in columns.tolist()[:-1]:\\n    feature_columns.append(\\n        tf.feature_column.numeric_column(feature_name, dtype=tf.float32)\\n    )\";\n",
       "                var nbb_cells = Jupyter.notebook.get_cells();\n",
       "                for (var i = 0; i < nbb_cells.length; ++i) {\n",
       "                    if (nbb_cells[i].input_prompt_number == nbb_cell_id) {\n",
       "                        if (nbb_cells[i].get_text() == nbb_unformatted_code) {\n",
       "                             nbb_cells[i].set_text(nbb_formatted_code);\n",
       "                        }\n",
       "                        break;\n",
       "                    }\n",
       "                }\n",
       "            }, 500);\n",
       "            "
      ],
      "text/plain": [
       "<IPython.core.display.Javascript object>"
      ]
     },
     "metadata": {},
     "output_type": "display_data"
    }
   ],
   "source": [
    "feature_columns = []\n",
    "for feature_name in columns.tolist()[:-1]:\n",
    "    feature_columns.append(\n",
    "        tf.feature_column.numeric_column(feature_name, dtype=tf.float32)\n",
    "    )"
   ]
  },
  {
   "cell_type": "code",
   "execution_count": 187,
   "id": "461a3695",
   "metadata": {},
   "outputs": [
    {
     "data": {
      "application/javascript": [
       "\n",
       "            setTimeout(function() {\n",
       "                var nbb_cell_id = 187;\n",
       "                var nbb_unformatted_code = \"train_ds = tfdf.keras.pd_dataframe_to_tf_dataset(train_ds_pd, label=label)\\ntest_ds = tfdf.keras.pd_dataframe_to_tf_dataset(test_ds_pd, label=label)\";\n",
       "                var nbb_formatted_code = \"train_ds = tfdf.keras.pd_dataframe_to_tf_dataset(train_ds_pd, label=label)\\ntest_ds = tfdf.keras.pd_dataframe_to_tf_dataset(test_ds_pd, label=label)\";\n",
       "                var nbb_cells = Jupyter.notebook.get_cells();\n",
       "                for (var i = 0; i < nbb_cells.length; ++i) {\n",
       "                    if (nbb_cells[i].input_prompt_number == nbb_cell_id) {\n",
       "                        if (nbb_cells[i].get_text() == nbb_unformatted_code) {\n",
       "                             nbb_cells[i].set_text(nbb_formatted_code);\n",
       "                        }\n",
       "                        break;\n",
       "                    }\n",
       "                }\n",
       "            }, 500);\n",
       "            "
      ],
      "text/plain": [
       "<IPython.core.display.Javascript object>"
      ]
     },
     "metadata": {},
     "output_type": "display_data"
    }
   ],
   "source": [
    "train_ds = tfdf.keras.pd_dataframe_to_tf_dataset(train_ds_pd, label=label)\n",
    "test_ds = tfdf.keras.pd_dataframe_to_tf_dataset(test_ds_pd, label=label)"
   ]
  },
  {
   "cell_type": "code",
   "execution_count": 188,
   "id": "ffbad31f",
   "metadata": {},
   "outputs": [
    {
     "name": "stdout",
     "output_type": "stream",
     "text": [
      "Use /var/folders/kc/xzqn6jtj2n36swv3ywh1znb80000gn/T/tmp9x08knus as temporary training directory\n",
      "Reading training dataset...\n",
      "WARNING:tensorflow:5 out of the last 5 calls to <function CoreModel._consumes_training_examples_until_eof at 0x13afe7400> triggered tf.function retracing. Tracing is expensive and the excessive number of tracings could be due to (1) creating @tf.function repeatedly in a loop, (2) passing tensors with different shapes, (3) passing Python objects instead of tensors. For (1), please define your @tf.function outside of the loop. For (2), @tf.function has reduce_retracing=True option that can avoid unnecessary retracing. For (3), please refer to https://www.tensorflow.org/guide/function#controlling_retracing and https://www.tensorflow.org/api_docs/python/tf/function for  more details.\n"
     ]
    },
    {
     "name": "stderr",
     "output_type": "stream",
     "text": [
      "WARNING:tensorflow:5 out of the last 5 calls to <function CoreModel._consumes_training_examples_until_eof at 0x13afe7400> triggered tf.function retracing. Tracing is expensive and the excessive number of tracings could be due to (1) creating @tf.function repeatedly in a loop, (2) passing tensors with different shapes, (3) passing Python objects instead of tensors. For (1), please define your @tf.function outside of the loop. For (2), @tf.function has reduce_retracing=True option that can avoid unnecessary retracing. For (3), please refer to https://www.tensorflow.org/guide/function#controlling_retracing and https://www.tensorflow.org/api_docs/python/tf/function for  more details.\n"
     ]
    },
    {
     "name": "stdout",
     "output_type": "stream",
     "text": [
      "Training dataset read in 0:00:01.428850. Found 17548 examples.\n",
      "Training model...\n"
     ]
    },
    {
     "name": "stderr",
     "output_type": "stream",
     "text": [
      "2023-03-01 13:45:07.955401: W external/ydf/yggdrasil_decision_forests/learner/gradient_boosted_trees/gradient_boosted_trees.cc:1790] \"goss_alpha\" set but \"sampling_method\" not equal to \"GOSS\".\n",
      "2023-03-01 13:45:07.955472: W external/ydf/yggdrasil_decision_forests/learner/gradient_boosted_trees/gradient_boosted_trees.cc:1800] \"goss_beta\" set but \"sampling_method\" not equal to \"GOSS\".\n",
      "2023-03-01 13:45:07.955482: W external/ydf/yggdrasil_decision_forests/learner/gradient_boosted_trees/gradient_boosted_trees.cc:1814] \"selective_gradient_boosting_ratio\" set but \"sampling_method\" not equal to \"SELGB\".\n",
      "2023-03-01 13:45:07.957114: I external/ydf/yggdrasil_decision_forests/learner/gradient_boosted_trees/gradient_boosted_trees.cc:452] Default loss set to BINOMIAL_LOG_LIKELIHOOD\n",
      "2023-03-01 13:45:07.957161: I external/ydf/yggdrasil_decision_forests/learner/gradient_boosted_trees/gradient_boosted_trees.cc:1077] Training gradient boosted tree on 17548 example(s) and 55 feature(s).\n",
      "2023-03-01 13:45:07.968556: I external/ydf/yggdrasil_decision_forests/learner/gradient_boosted_trees/gradient_boosted_trees.cc:1120] 15822 examples used for training and 1726 examples used for validation\n",
      "2023-03-01 13:45:10.564880: I external/ydf/yggdrasil_decision_forests/learner/gradient_boosted_trees/gradient_boosted_trees.cc:1518] \tnum-trees:1 train-loss:1.185570 train-accuracy:0.582733 valid-loss:1.199563 valid-accuracy:0.563731\n",
      "2023-03-01 13:45:13.304671: I external/ydf/yggdrasil_decision_forests/learner/gradient_boosted_trees/gradient_boosted_trees.cc:1520] \tnum-trees:2 train-loss:1.042810 train-accuracy:0.971875 valid-loss:1.058128 valid-accuracy:0.963499\n",
      "2023-03-01 13:45:45.619045: I external/ydf/yggdrasil_decision_forests/learner/gradient_boosted_trees/gradient_boosted_trees.cc:1520] \tnum-trees:12 train-loss:0.385420 train-accuracy:0.982556 valid-loss:0.413974 valid-accuracy:0.973349\n",
      "2023-03-01 13:46:18.447628: I external/ydf/yggdrasil_decision_forests/learner/gradient_boosted_trees/gradient_boosted_trees.cc:1520] \tnum-trees:22 train-loss:0.189750 train-accuracy:0.986854 valid-loss:0.233782 valid-accuracy:0.975087\n",
      "2023-03-01 13:46:49.011354: I external/ydf/yggdrasil_decision_forests/learner/gradient_boosted_trees/gradient_boosted_trees.cc:1520] \tnum-trees:32 train-loss:0.114657 train-accuracy:0.989761 valid-loss:0.175214 valid-accuracy:0.976246\n",
      "2023-03-01 13:47:21.198643: I external/ydf/yggdrasil_decision_forests/learner/gradient_boosted_trees/gradient_boosted_trees.cc:1520] \tnum-trees:41 train-loss:0.082662 train-accuracy:0.992795 valid-loss:0.152608 valid-accuracy:0.978563\n",
      "2023-03-01 13:47:53.176551: I external/ydf/yggdrasil_decision_forests/learner/gradient_boosted_trees/gradient_boosted_trees.cc:1520] \tnum-trees:50 train-loss:0.065043 train-accuracy:0.994185 valid-loss:0.141606 valid-accuracy:0.977404\n",
      "2023-03-01 13:48:26.900542: I external/ydf/yggdrasil_decision_forests/learner/gradient_boosted_trees/gradient_boosted_trees.cc:1520] \tnum-trees:60 train-loss:0.051464 train-accuracy:0.995323 valid-loss:0.135403 valid-accuracy:0.980301\n",
      "2023-03-01 13:48:59.262774: I external/ydf/yggdrasil_decision_forests/learner/gradient_boosted_trees/gradient_boosted_trees.cc:1520] \tnum-trees:69 train-loss:0.042504 train-accuracy:0.996524 valid-loss:0.132110 valid-accuracy:0.980301\n",
      "2023-03-01 13:49:31.472266: I external/ydf/yggdrasil_decision_forests/learner/gradient_boosted_trees/gradient_boosted_trees.cc:1520] \tnum-trees:78 train-loss:0.036466 train-accuracy:0.997409 valid-loss:0.128941 valid-accuracy:0.979722\n",
      "2023-03-01 13:50:02.485383: I external/ydf/yggdrasil_decision_forests/learner/gradient_boosted_trees/gradient_boosted_trees.cc:1520] \tnum-trees:87 train-loss:0.031745 train-accuracy:0.998230 valid-loss:0.126903 valid-accuracy:0.980301\n",
      "2023-03-01 13:50:35.037570: I external/ydf/yggdrasil_decision_forests/learner/gradient_boosted_trees/gradient_boosted_trees.cc:1520] \tnum-trees:96 train-loss:0.027544 train-accuracy:0.998483 valid-loss:0.125603 valid-accuracy:0.980881\n",
      "2023-03-01 13:51:07.570504: I external/ydf/yggdrasil_decision_forests/learner/gradient_boosted_trees/gradient_boosted_trees.cc:1520] \tnum-trees:105 train-loss:0.024397 train-accuracy:0.998673 valid-loss:0.125226 valid-accuracy:0.979722\n",
      "2023-03-01 13:51:39.037662: I external/ydf/yggdrasil_decision_forests/learner/gradient_boosted_trees/gradient_boosted_trees.cc:1520] \tnum-trees:114 train-loss:0.021311 train-accuracy:0.999115 valid-loss:0.123654 valid-accuracy:0.979722\n",
      "2023-03-01 13:52:11.316261: I external/ydf/yggdrasil_decision_forests/learner/gradient_boosted_trees/gradient_boosted_trees.cc:1520] \tnum-trees:123 train-loss:0.018977 train-accuracy:0.999368 valid-loss:0.122207 valid-accuracy:0.980881\n",
      "2023-03-01 13:52:42.676535: I external/ydf/yggdrasil_decision_forests/learner/gradient_boosted_trees/gradient_boosted_trees.cc:1520] \tnum-trees:132 train-loss:0.017209 train-accuracy:0.999368 valid-loss:0.121526 valid-accuracy:0.981460\n",
      "2023-03-01 13:53:13.492078: I external/ydf/yggdrasil_decision_forests/learner/gradient_boosted_trees/gradient_boosted_trees.cc:1520] \tnum-trees:141 train-loss:0.015441 train-accuracy:0.999494 valid-loss:0.121958 valid-accuracy:0.980301\n",
      "2023-03-01 13:53:44.623251: I external/ydf/yggdrasil_decision_forests/learner/gradient_boosted_trees/gradient_boosted_trees.cc:1520] \tnum-trees:150 train-loss:0.013854 train-accuracy:0.999621 valid-loss:0.122061 valid-accuracy:0.980881\n",
      "2023-03-01 13:54:14.639202: I external/ydf/yggdrasil_decision_forests/learner/gradient_boosted_trees/gradient_boosted_trees.cc:1520] \tnum-trees:159 train-loss:0.012432 train-accuracy:0.999747 valid-loss:0.122387 valid-accuracy:0.980881\n"
     ]
    },
    {
     "name": "stdout",
     "output_type": "stream",
     "text": [
      "Model trained in 0:09:14.372462\n",
      "Compiling model...\n"
     ]
    },
    {
     "name": "stderr",
     "output_type": "stream",
     "text": [
      "2023-03-01 13:54:22.217972: I external/ydf/yggdrasil_decision_forests/learner/gradient_boosted_trees/gradient_boosted_trees.cc:1568] Create final snapshot of the model at iteration 160\n",
      "2023-03-01 13:54:22.228671: I external/ydf/yggdrasil_decision_forests/learner/gradient_boosted_trees/gradient_boosted_trees.cc:247] Truncates the model to 131 tree(s) i.e. 131  iteration(s).\n",
      "2023-03-01 13:54:22.229233: I external/ydf/yggdrasil_decision_forests/learner/gradient_boosted_trees/gradient_boosted_trees.cc:309] Final model num-trees:131 valid-loss:0.121232 valid-accuracy:0.980881\n",
      "[INFO 2023-03-01T13:54:22.259749+02:00 kernel.cc:1214] Loading model from path /var/folders/kc/xzqn6jtj2n36swv3ywh1znb80000gn/T/tmp9x08knus/model/ with prefix a92bb7b7403441cc\n",
      "[INFO 2023-03-01T13:54:22.307325+02:00 decision_forest.cc:661] Model loaded with 131 root(s), 7891 node(s), and 55 input feature(s).\n",
      "[INFO 2023-03-01T13:54:22.307375+02:00 abstract_model.cc:1312] Engine \"GradientBoostedTreesGeneric\" built\n",
      "[INFO 2023-03-01T13:54:22.307425+02:00 kernel.cc:1046] Use fast generic engine\n"
     ]
    },
    {
     "name": "stdout",
     "output_type": "stream",
     "text": [
      "Model compiled.\n",
      "WARNING:tensorflow:5 out of the last 11 calls to <function InferenceCoreModel.yggdrasil_model_path_tensor at 0x164255d80> triggered tf.function retracing. Tracing is expensive and the excessive number of tracings could be due to (1) creating @tf.function repeatedly in a loop, (2) passing tensors with different shapes, (3) passing Python objects instead of tensors. For (1), please define your @tf.function outside of the loop. For (2), @tf.function has reduce_retracing=True option that can avoid unnecessary retracing. For (3), please refer to https://www.tensorflow.org/guide/function#controlling_retracing and https://www.tensorflow.org/api_docs/python/tf/function for  more details.\n"
     ]
    },
    {
     "name": "stderr",
     "output_type": "stream",
     "text": [
      "WARNING:tensorflow:5 out of the last 11 calls to <function InferenceCoreModel.yggdrasil_model_path_tensor at 0x164255d80> triggered tf.function retracing. Tracing is expensive and the excessive number of tracings could be due to (1) creating @tf.function repeatedly in a loop, (2) passing tensors with different shapes, (3) passing Python objects instead of tensors. For (1), please define your @tf.function outside of the loop. For (2), @tf.function has reduce_retracing=True option that can avoid unnecessary retracing. For (3), please refer to https://www.tensorflow.org/guide/function#controlling_retracing and https://www.tensorflow.org/api_docs/python/tf/function for  more details.\n"
     ]
    },
    {
     "data": {
      "text/plain": [
       "<keras.callbacks.History at 0x13b536470>"
      ]
     },
     "execution_count": 188,
     "metadata": {},
     "output_type": "execute_result"
    },
    {
     "data": {
      "application/javascript": [
       "\n",
       "            setTimeout(function() {\n",
       "                var nbb_cell_id = 188;\n",
       "                var nbb_unformatted_code = \"# A more complex, but possibly, more accurate model.\\nmodel_7 = tfdf.keras.GradientBoostedTreesModel(\\n    num_trees=500,\\n    growing_strategy=\\\"BEST_FIRST_GLOBAL\\\",\\n    max_depth=8,\\n    split_axis=\\\"SPARSE_OBLIQUE\\\",\\n    categorical_algorithm=\\\"RANDOM\\\",\\n    )\\nmodel_7.fit(train_ds)\";\n",
       "                var nbb_formatted_code = \"# A more complex, but possibly, more accurate model.\\nmodel_7 = tfdf.keras.GradientBoostedTreesModel(\\n    num_trees=500,\\n    growing_strategy=\\\"BEST_FIRST_GLOBAL\\\",\\n    max_depth=8,\\n    split_axis=\\\"SPARSE_OBLIQUE\\\",\\n    categorical_algorithm=\\\"RANDOM\\\",\\n)\\nmodel_7.fit(train_ds)\";\n",
       "                var nbb_cells = Jupyter.notebook.get_cells();\n",
       "                for (var i = 0; i < nbb_cells.length; ++i) {\n",
       "                    if (nbb_cells[i].input_prompt_number == nbb_cell_id) {\n",
       "                        if (nbb_cells[i].get_text() == nbb_unformatted_code) {\n",
       "                             nbb_cells[i].set_text(nbb_formatted_code);\n",
       "                        }\n",
       "                        break;\n",
       "                    }\n",
       "                }\n",
       "            }, 500);\n",
       "            "
      ],
      "text/plain": [
       "<IPython.core.display.Javascript object>"
      ]
     },
     "metadata": {},
     "output_type": "display_data"
    }
   ],
   "source": [
    "# A more complex, but possibly, more accurate model.\n",
    "model_7 = tfdf.keras.GradientBoostedTreesModel(\n",
    "    num_trees=500,\n",
    "    growing_strategy=\"BEST_FIRST_GLOBAL\",\n",
    "    max_depth=8,\n",
    "    split_axis=\"SPARSE_OBLIQUE\",\n",
    "    categorical_algorithm=\"RANDOM\",\n",
    ")\n",
    "model_7.fit(train_ds)"
   ]
  },
  {
   "cell_type": "code",
   "execution_count": 189,
   "id": "2eeaeb1f",
   "metadata": {},
   "outputs": [
    {
     "name": "stdout",
     "output_type": "stream",
     "text": [
      "8/8 [==============================] - 0s 35ms/step\n"
     ]
    },
    {
     "data": {
      "application/javascript": [
       "\n",
       "            setTimeout(function() {\n",
       "                var nbb_cell_id = 189;\n",
       "                var nbb_unformatted_code = \"preds = model_7.predict(test_ds)\";\n",
       "                var nbb_formatted_code = \"preds = model_7.predict(test_ds)\";\n",
       "                var nbb_cells = Jupyter.notebook.get_cells();\n",
       "                for (var i = 0; i < nbb_cells.length; ++i) {\n",
       "                    if (nbb_cells[i].input_prompt_number == nbb_cell_id) {\n",
       "                        if (nbb_cells[i].get_text() == nbb_unformatted_code) {\n",
       "                             nbb_cells[i].set_text(nbb_formatted_code);\n",
       "                        }\n",
       "                        break;\n",
       "                    }\n",
       "                }\n",
       "            }, 500);\n",
       "            "
      ],
      "text/plain": [
       "<IPython.core.display.Javascript object>"
      ]
     },
     "metadata": {},
     "output_type": "display_data"
    }
   ],
   "source": [
    "preds = model_7.predict(test_ds)"
   ]
  },
  {
   "cell_type": "code",
   "execution_count": 192,
   "id": "6f406d68",
   "metadata": {},
   "outputs": [
    {
     "data": {
      "application/javascript": [
       "\n",
       "            setTimeout(function() {\n",
       "                var nbb_cell_id = 192;\n",
       "                var nbb_unformatted_code = \"y_test = test_ds_pd.target.values.tolist()\";\n",
       "                var nbb_formatted_code = \"y_test = test_ds_pd.target.values.tolist()\";\n",
       "                var nbb_cells = Jupyter.notebook.get_cells();\n",
       "                for (var i = 0; i < nbb_cells.length; ++i) {\n",
       "                    if (nbb_cells[i].input_prompt_number == nbb_cell_id) {\n",
       "                        if (nbb_cells[i].get_text() == nbb_unformatted_code) {\n",
       "                             nbb_cells[i].set_text(nbb_formatted_code);\n",
       "                        }\n",
       "                        break;\n",
       "                    }\n",
       "                }\n",
       "            }, 500);\n",
       "            "
      ],
      "text/plain": [
       "<IPython.core.display.Javascript object>"
      ]
     },
     "metadata": {},
     "output_type": "display_data"
    }
   ],
   "source": [
    "y_test = test_ds_pd.target.values.tolist()"
   ]
  },
  {
   "cell_type": "code",
   "execution_count": 211,
   "id": "22101854",
   "metadata": {},
   "outputs": [
    {
     "data": {
      "application/javascript": [
       "\n",
       "            setTimeout(function() {\n",
       "                var nbb_cell_id = 211;\n",
       "                var nbb_unformatted_code = \"y_pred = [1 if i[0] > 0.95 else 0 for i in list(preds)]\";\n",
       "                var nbb_formatted_code = \"y_pred = [1 if i[0] > 0.95 else 0 for i in list(preds)]\";\n",
       "                var nbb_cells = Jupyter.notebook.get_cells();\n",
       "                for (var i = 0; i < nbb_cells.length; ++i) {\n",
       "                    if (nbb_cells[i].input_prompt_number == nbb_cell_id) {\n",
       "                        if (nbb_cells[i].get_text() == nbb_unformatted_code) {\n",
       "                             nbb_cells[i].set_text(nbb_formatted_code);\n",
       "                        }\n",
       "                        break;\n",
       "                    }\n",
       "                }\n",
       "            }, 500);\n",
       "            "
      ],
      "text/plain": [
       "<IPython.core.display.Javascript object>"
      ]
     },
     "metadata": {},
     "output_type": "display_data"
    }
   ],
   "source": [
    "y_pred = [1 if i[0] > 0.95 else 0 for i in list(preds)]"
   ]
  },
  {
   "cell_type": "code",
   "execution_count": 212,
   "id": "5bca7477",
   "metadata": {},
   "outputs": [
    {
     "data": {
      "text/html": [
       "<div>\n",
       "<style scoped>\n",
       "    .dataframe tbody tr th:only-of-type {\n",
       "        vertical-align: middle;\n",
       "    }\n",
       "\n",
       "    .dataframe tbody tr th {\n",
       "        vertical-align: top;\n",
       "    }\n",
       "\n",
       "    .dataframe thead th {\n",
       "        text-align: right;\n",
       "    }\n",
       "</style>\n",
       "<table border=\"1\" class=\"dataframe\">\n",
       "  <thead>\n",
       "    <tr style=\"text-align: right;\">\n",
       "      <th></th>\n",
       "      <th>0_predict</th>\n",
       "      <th>1_predict</th>\n",
       "    </tr>\n",
       "  </thead>\n",
       "  <tbody>\n",
       "    <tr>\n",
       "      <th>0_true</th>\n",
       "      <td>3031</td>\n",
       "      <td>25</td>\n",
       "    </tr>\n",
       "    <tr>\n",
       "      <th>1_true</th>\n",
       "      <td>175</td>\n",
       "      <td>4175</td>\n",
       "    </tr>\n",
       "  </tbody>\n",
       "</table>\n",
       "</div>"
      ],
      "text/plain": [
       "        0_predict  1_predict\n",
       "0_true       3031         25\n",
       "1_true        175       4175"
      ]
     },
     "execution_count": 212,
     "metadata": {},
     "output_type": "execute_result"
    },
    {
     "data": {
      "application/javascript": [
       "\n",
       "            setTimeout(function() {\n",
       "                var nbb_cell_id = 212;\n",
       "                var nbb_unformatted_code = \"cm = confusion_matrix(y_test, y_pred)\\ntn, fp, fn, tp = cm.ravel()\\npd.DataFrame(\\n    cm,\\n    columns=[\\\"0_predict\\\", \\\"1_predict\\\"],\\n    index=[\\\"0_true\\\", \\\"1_true\\\"],\\n)\";\n",
       "                var nbb_formatted_code = \"cm = confusion_matrix(y_test, y_pred)\\ntn, fp, fn, tp = cm.ravel()\\npd.DataFrame(\\n    cm,\\n    columns=[\\\"0_predict\\\", \\\"1_predict\\\"],\\n    index=[\\\"0_true\\\", \\\"1_true\\\"],\\n)\";\n",
       "                var nbb_cells = Jupyter.notebook.get_cells();\n",
       "                for (var i = 0; i < nbb_cells.length; ++i) {\n",
       "                    if (nbb_cells[i].input_prompt_number == nbb_cell_id) {\n",
       "                        if (nbb_cells[i].get_text() == nbb_unformatted_code) {\n",
       "                             nbb_cells[i].set_text(nbb_formatted_code);\n",
       "                        }\n",
       "                        break;\n",
       "                    }\n",
       "                }\n",
       "            }, 500);\n",
       "            "
      ],
      "text/plain": [
       "<IPython.core.display.Javascript object>"
      ]
     },
     "metadata": {},
     "output_type": "display_data"
    }
   ],
   "source": [
    "cm = confusion_matrix(y_test, y_pred)\n",
    "tn, fp, fn, tp = cm.ravel()\n",
    "pd.DataFrame(\n",
    "    cm,\n",
    "    columns=[\"0_predict\", \"1_predict\"],\n",
    "    index=[\"0_true\", \"1_true\"],\n",
    ")"
   ]
  },
  {
   "cell_type": "code",
   "execution_count": 213,
   "id": "c365593f",
   "metadata": {},
   "outputs": [
    {
     "data": {
      "text/plain": [
       "0.008180628272251309"
      ]
     },
     "execution_count": 213,
     "metadata": {},
     "output_type": "execute_result"
    },
    {
     "data": {
      "application/javascript": [
       "\n",
       "            setTimeout(function() {\n",
       "                var nbb_cell_id = 213;\n",
       "                var nbb_unformatted_code = \"FPR = fp / (tn + fp)\\nFPR\";\n",
       "                var nbb_formatted_code = \"FPR = fp / (tn + fp)\\nFPR\";\n",
       "                var nbb_cells = Jupyter.notebook.get_cells();\n",
       "                for (var i = 0; i < nbb_cells.length; ++i) {\n",
       "                    if (nbb_cells[i].input_prompt_number == nbb_cell_id) {\n",
       "                        if (nbb_cells[i].get_text() == nbb_unformatted_code) {\n",
       "                             nbb_cells[i].set_text(nbb_formatted_code);\n",
       "                        }\n",
       "                        break;\n",
       "                    }\n",
       "                }\n",
       "            }, 500);\n",
       "            "
      ],
      "text/plain": [
       "<IPython.core.display.Javascript object>"
      ]
     },
     "metadata": {},
     "output_type": "display_data"
    }
   ],
   "source": [
    "FPR = fp / (tn + fp)\n",
    "FPR"
   ]
  },
  {
   "cell_type": "code",
   "execution_count": 214,
   "id": "8da8a62c",
   "metadata": {},
   "outputs": [
    {
     "data": {
      "text/plain": [
       "(0.976608187134503, 0.9729948690251148, 0.9940476190476191, 0.9597701149425287)"
      ]
     },
     "execution_count": 214,
     "metadata": {},
     "output_type": "execute_result"
    },
    {
     "data": {
      "application/javascript": [
       "\n",
       "            setTimeout(function() {\n",
       "                var nbb_cell_id = 214;\n",
       "                var nbb_unformatted_code = \"f1_score(y_test, y_pred), accuracy_score(y_test, y_pred), precision_score(\\n    y_test, y_pred\\n), recall_score(y_test, y_pred)\";\n",
       "                var nbb_formatted_code = \"f1_score(y_test, y_pred), accuracy_score(y_test, y_pred), precision_score(\\n    y_test, y_pred\\n), recall_score(y_test, y_pred)\";\n",
       "                var nbb_cells = Jupyter.notebook.get_cells();\n",
       "                for (var i = 0; i < nbb_cells.length; ++i) {\n",
       "                    if (nbb_cells[i].input_prompt_number == nbb_cell_id) {\n",
       "                        if (nbb_cells[i].get_text() == nbb_unformatted_code) {\n",
       "                             nbb_cells[i].set_text(nbb_formatted_code);\n",
       "                        }\n",
       "                        break;\n",
       "                    }\n",
       "                }\n",
       "            }, 500);\n",
       "            "
      ],
      "text/plain": [
       "<IPython.core.display.Javascript object>"
      ]
     },
     "metadata": {},
     "output_type": "display_data"
    }
   ],
   "source": [
    "f1_score(y_test, y_pred), accuracy_score(y_test, y_pred), precision_score(\n",
    "    y_test, y_pred\n",
    "), recall_score(y_test, y_pred)"
   ]
  },
  {
   "cell_type": "code",
   "execution_count": null,
   "id": "79e9c8f7",
   "metadata": {},
   "outputs": [],
   "source": []
  },
  {
   "cell_type": "code",
   "execution_count": null,
   "id": "4322f943",
   "metadata": {},
   "outputs": [],
   "source": []
  }
 ],
 "metadata": {
  "kernelspec": {
   "display_name": "Python 3 (ipykernel)",
   "language": "python",
   "name": "python3"
  },
  "language_info": {
   "codemirror_mode": {
    "name": "ipython",
    "version": 3
   },
   "file_extension": ".py",
   "mimetype": "text/x-python",
   "name": "python",
   "nbconvert_exporter": "python",
   "pygments_lexer": "ipython3",
   "version": "3.10.9"
  }
 },
 "nbformat": 4,
 "nbformat_minor": 5
}
